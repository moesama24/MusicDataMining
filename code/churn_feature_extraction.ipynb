{
 "cells": [
  {
   "cell_type": "code",
   "execution_count": 1,
   "metadata": {
    "collapsed": true
   },
   "outputs": [],
   "source": [
    "import pandas as pd\n",
    "import sqlite3 as sql"
   ]
  },
  {
   "cell_type": "code",
   "execution_count": 2,
   "metadata": {
    "collapsed": true
   },
   "outputs": [],
   "source": [
    "musicbox_conn = sql.connect(\"../data/musicbox.sqlite\")\n",
    "musicbox_conn.text_factory = str"
   ]
  },
  {
   "cell_type": "code",
   "execution_count": 19,
   "metadata": {},
   "outputs": [
    {
     "data": {
      "text/html": [
       "<div>\n",
       "<style>\n",
       "    .dataframe thead tr:only-child th {\n",
       "        text-align: right;\n",
       "    }\n",
       "\n",
       "    .dataframe thead th {\n",
       "        text-align: left;\n",
       "    }\n",
       "\n",
       "    .dataframe tbody tr th {\n",
       "        vertical-align: top;\n",
       "    }\n",
       "</style>\n",
       "<table border=\"1\" class=\"dataframe\">\n",
       "  <thead>\n",
       "    <tr style=\"text-align: right;\">\n",
       "      <th></th>\n",
       "      <th>type</th>\n",
       "      <th>name</th>\n",
       "      <th>tbl_name</th>\n",
       "      <th>rootpage</th>\n",
       "      <th>sql</th>\n",
       "    </tr>\n",
       "  </thead>\n",
       "  <tbody>\n",
       "    <tr>\n",
       "      <th>0</th>\n",
       "      <td>table</td>\n",
       "      <td>Down</td>\n",
       "      <td>Down</td>\n",
       "      <td>3</td>\n",
       "      <td>CREATE TABLE Down(\\n  uid INT,\\n  device TEXT,...</td>\n",
       "    </tr>\n",
       "    <tr>\n",
       "      <th>1</th>\n",
       "      <td>table</td>\n",
       "      <td>Play</td>\n",
       "      <td>Play</td>\n",
       "      <td>4</td>\n",
       "      <td>CREATE TABLE Play(\\n  uid INT,\\n  device TEXT,...</td>\n",
       "    </tr>\n",
       "    <tr>\n",
       "      <th>2</th>\n",
       "      <td>table</td>\n",
       "      <td>song_info</td>\n",
       "      <td>song_info</td>\n",
       "      <td>5</td>\n",
       "      <td>CREATE TABLE \"song_info\" (\\n\"song_id\" REAL,\\n ...</td>\n",
       "    </tr>\n",
       "    <tr>\n",
       "      <th>3</th>\n",
       "      <td>table</td>\n",
       "      <td>Play_new</td>\n",
       "      <td>Play_new</td>\n",
       "      <td>6</td>\n",
       "      <td>CREATE TABLE Play_new(\\n  uid INT,\\n  device T...</td>\n",
       "    </tr>\n",
       "    <tr>\n",
       "      <th>4</th>\n",
       "      <td>table</td>\n",
       "      <td>churn</td>\n",
       "      <td>churn</td>\n",
       "      <td>7</td>\n",
       "      <td>CREATE TABLE \"churn\" (\\n\"uid\" INTEGER,\\n  \"dev...</td>\n",
       "    </tr>\n",
       "    <tr>\n",
       "      <th>5</th>\n",
       "      <td>index</td>\n",
       "      <td>songid_songlength_idx</td>\n",
       "      <td>Play</td>\n",
       "      <td>8</td>\n",
       "      <td>CREATE INDEX songid_songlength_idx ON Play (so...</td>\n",
       "    </tr>\n",
       "    <tr>\n",
       "      <th>6</th>\n",
       "      <td>index</td>\n",
       "      <td>song_id_name_idx</td>\n",
       "      <td>song_info</td>\n",
       "      <td>9</td>\n",
       "      <td>CREATE INDEX song_id_name_idx ON song_info(son...</td>\n",
       "    </tr>\n",
       "    <tr>\n",
       "      <th>7</th>\n",
       "      <td>index</td>\n",
       "      <td>date_uid_idx</td>\n",
       "      <td>Play_new</td>\n",
       "      <td>10</td>\n",
       "      <td>CREATE INDEX date_uid_idx ON Play_new (date, uid)</td>\n",
       "    </tr>\n",
       "  </tbody>\n",
       "</table>\n",
       "</div>"
      ],
      "text/plain": [
       "    type                   name   tbl_name  rootpage  \\\n",
       "0  table                   Down       Down         3   \n",
       "1  table                   Play       Play         4   \n",
       "2  table              song_info  song_info         5   \n",
       "3  table               Play_new   Play_new         6   \n",
       "4  table                  churn      churn         7   \n",
       "5  index  songid_songlength_idx       Play         8   \n",
       "6  index       song_id_name_idx  song_info         9   \n",
       "7  index           date_uid_idx   Play_new        10   \n",
       "\n",
       "                                                 sql  \n",
       "0  CREATE TABLE Down(\\n  uid INT,\\n  device TEXT,...  \n",
       "1  CREATE TABLE Play(\\n  uid INT,\\n  device TEXT,...  \n",
       "2  CREATE TABLE \"song_info\" (\\n\"song_id\" REAL,\\n ...  \n",
       "3  CREATE TABLE Play_new(\\n  uid INT,\\n  device T...  \n",
       "4  CREATE TABLE \"churn\" (\\n\"uid\" INTEGER,\\n  \"dev...  \n",
       "5  CREATE INDEX songid_songlength_idx ON Play (so...  \n",
       "6  CREATE INDEX song_id_name_idx ON song_info(son...  \n",
       "7  CREATE INDEX date_uid_idx ON Play_new (date, uid)  "
      ]
     },
     "execution_count": 19,
     "metadata": {},
     "output_type": "execute_result"
    }
   ],
   "source": [
    "pd.read_sql(\"SELECT * FROM sqlite_master\", musicbox_conn)"
   ]
  },
  {
   "cell_type": "code",
   "execution_count": 4,
   "metadata": {},
   "outputs": [
    {
     "data": {
      "text/html": [
       "<div>\n",
       "<style>\n",
       "    .dataframe thead tr:only-child th {\n",
       "        text-align: right;\n",
       "    }\n",
       "\n",
       "    .dataframe thead th {\n",
       "        text-align: left;\n",
       "    }\n",
       "\n",
       "    .dataframe tbody tr th {\n",
       "        vertical-align: top;\n",
       "    }\n",
       "</style>\n",
       "<table border=\"1\" class=\"dataframe\">\n",
       "  <thead>\n",
       "    <tr style=\"text-align: right;\">\n",
       "      <th></th>\n",
       "      <th>uid</th>\n",
       "      <th>device</th>\n",
       "      <th>song_id</th>\n",
       "      <th>song_name</th>\n",
       "      <th>singer</th>\n",
       "      <th>play_time</th>\n",
       "      <th>song_length</th>\n",
       "      <th>date</th>\n",
       "    </tr>\n",
       "  </thead>\n",
       "  <tbody>\n",
       "    <tr>\n",
       "      <th>0</th>\n",
       "      <td>0</td>\n",
       "      <td>ar</td>\n",
       "      <td>0.0</td>\n",
       "      <td>\u0003花雨</td>\n",
       "      <td>\u0003張清</td>\n",
       "      <td>40384.0</td>\n",
       "      <td>297.0</td>\n",
       "      <td>2017-04-08</td>\n",
       "    </tr>\n",
       "    <tr>\n",
       "      <th>1</th>\n",
       "      <td>0</td>\n",
       "      <td>ar</td>\n",
       "      <td>0.0</td>\n",
       "      <td>\u0003花雨</td>\n",
       "      <td>\u0003張清</td>\n",
       "      <td>4974.0</td>\n",
       "      <td>297.0</td>\n",
       "      <td>2017-04-08</td>\n",
       "    </tr>\n",
       "    <tr>\n",
       "      <th>2</th>\n",
       "      <td>0</td>\n",
       "      <td>ar</td>\n",
       "      <td>0.0</td>\n",
       "      <td>\u0003花雨</td>\n",
       "      <td>\u0003張清</td>\n",
       "      <td>40384.0</td>\n",
       "      <td>297.0</td>\n",
       "      <td>2017-04-08</td>\n",
       "    </tr>\n",
       "    <tr>\n",
       "      <th>3</th>\n",
       "      <td>0</td>\n",
       "      <td>ar</td>\n",
       "      <td>0.0</td>\n",
       "      <td>\u0003花雨</td>\n",
       "      <td>\u0003張清</td>\n",
       "      <td>4974.0</td>\n",
       "      <td>297.0</td>\n",
       "      <td>2017-04-08</td>\n",
       "    </tr>\n",
       "    <tr>\n",
       "      <th>4</th>\n",
       "      <td>0</td>\n",
       "      <td>ar</td>\n",
       "      <td>0.0</td>\n",
       "      <td>\u0003花雨</td>\n",
       "      <td>\u0003張清</td>\n",
       "      <td>40384.0</td>\n",
       "      <td>297.0</td>\n",
       "      <td>2017-04-08</td>\n",
       "    </tr>\n",
       "  </tbody>\n",
       "</table>\n",
       "</div>"
      ],
      "text/plain": [
       "   uid device  song_id song_name singer  play_time  song_length        date\n",
       "0    0     ar      0.0       \u0003花雨    \u0003張清    40384.0        297.0  2017-04-08\n",
       "1    0     ar      0.0       \u0003花雨    \u0003張清     4974.0        297.0  2017-04-08\n",
       "2    0     ar      0.0       \u0003花雨    \u0003張清    40384.0        297.0  2017-04-08\n",
       "3    0     ar      0.0       \u0003花雨    \u0003張清     4974.0        297.0  2017-04-08\n",
       "4    0     ar      0.0       \u0003花雨    \u0003張清    40384.0        297.0  2017-04-08"
      ]
     },
     "execution_count": 4,
     "metadata": {},
     "output_type": "execute_result"
    }
   ],
   "source": [
    "pd.read_sql(\"SELECT * FROM Play_new LIMIT 5\", musicbox_conn)"
   ]
  },
  {
   "cell_type": "code",
   "execution_count": 6,
   "metadata": {},
   "outputs": [
    {
     "data": {
      "text/html": [
       "<div>\n",
       "<style>\n",
       "    .dataframe thead tr:only-child th {\n",
       "        text-align: right;\n",
       "    }\n",
       "\n",
       "    .dataframe thead th {\n",
       "        text-align: left;\n",
       "    }\n",
       "\n",
       "    .dataframe tbody tr th {\n",
       "        vertical-align: top;\n",
       "    }\n",
       "</style>\n",
       "<table border=\"1\" class=\"dataframe\">\n",
       "  <thead>\n",
       "    <tr style=\"text-align: right;\">\n",
       "      <th></th>\n",
       "      <th>COUNT(*)</th>\n",
       "    </tr>\n",
       "  </thead>\n",
       "  <tbody>\n",
       "    <tr>\n",
       "      <th>0</th>\n",
       "      <td>163589120</td>\n",
       "    </tr>\n",
       "  </tbody>\n",
       "</table>\n",
       "</div>"
      ],
      "text/plain": [
       "    COUNT(*)\n",
       "0  163589120"
      ]
     },
     "execution_count": 6,
     "metadata": {},
     "output_type": "execute_result"
    }
   ],
   "source": [
    "pd.read_sql(\"SELECT COUNT(*) FROM Play_new\", musicbox_conn)"
   ]
  },
  {
   "cell_type": "code",
   "execution_count": 7,
   "metadata": {},
   "outputs": [
    {
     "data": {
      "text/html": [
       "<div>\n",
       "<style>\n",
       "    .dataframe thead tr:only-child th {\n",
       "        text-align: right;\n",
       "    }\n",
       "\n",
       "    .dataframe thead th {\n",
       "        text-align: left;\n",
       "    }\n",
       "\n",
       "    .dataframe tbody tr th {\n",
       "        vertical-align: top;\n",
       "    }\n",
       "</style>\n",
       "<table border=\"1\" class=\"dataframe\">\n",
       "  <thead>\n",
       "    <tr style=\"text-align: right;\">\n",
       "      <th></th>\n",
       "      <th>COUNT(*)</th>\n",
       "    </tr>\n",
       "  </thead>\n",
       "  <tbody>\n",
       "    <tr>\n",
       "      <th>0</th>\n",
       "      <td>164400821</td>\n",
       "    </tr>\n",
       "  </tbody>\n",
       "</table>\n",
       "</div>"
      ],
      "text/plain": [
       "    COUNT(*)\n",
       "0  164400821"
      ]
     },
     "execution_count": 7,
     "metadata": {},
     "output_type": "execute_result"
    }
   ],
   "source": [
    "pd.read_sql(\"SELECT COUNT(*) FROM Play\", musicbox_conn)"
   ]
  },
  {
   "cell_type": "markdown",
   "metadata": {},
   "source": [
    "## Extract information from play data"
   ]
  },
  {
   "cell_type": "code",
   "execution_count": 37,
   "metadata": {},
   "outputs": [
    {
     "name": "stdout",
     "output_type": "stream",
     "text": [
      "CPU times: user 4.87 s, sys: 226 ms, total: 5.09 s\n",
      "Wall time: 5.12 s\n"
     ]
    }
   ],
   "source": [
    "# extremely large play_time\n",
    "# first aggregate date per day, but would be problematic when deal with average play percentage\n",
    "\"\"\"\n",
    "SELECT\n",
    "    uid, device,\n",
    "    SUM(CASE WHEN date BETWEEN '2017-03-30' AND '2017-04-09' THEN freq ELSE NULL END) AS w1_freq,\n",
    "    SUM(CASE WHEN date BETWEEN '2017-03-30' AND '2017-04-09' THEN total_play_time ELSE NULL END) AS w1_play_time,\n",
    "\n",
    "    SUM(CASE WHEN date BETWEEN '2017-04-10' AND '2017-04-20' THEN freq ELSE NULL END) AS w2_freq,\n",
    "    SUM(CASE WHEN date BETWEEN '2017-04-10' AND '2017-04-20' THEN total_play_time ELSE NULL END) AS w2_play_time,\n",
    "    \n",
    "    SUM(CASE WHEN date BETWEEN '2017-04-21' AND '2017-05-01' THEN freq ELSE NULL END) AS w3_freq,\n",
    "    SUM(CASE WHEN date BETWEEN '2017-04-21' AND '2017-05-01' THEN total_play_time ELSE NULL END) AS w3_play_time,\n",
    "    \n",
    "    SUM(CASE WHEN date BETWEEN '2017-05-02' AND '2017-05-12' THEN freq ELSE NULL END) AS w4_freq,\n",
    "    SUM(CASE WHEN date BETWEEN '2017-05-02' AND '2017-05-12' THEN total_play_time ELSE NULL END) AS w4_play_time,\n",
    "FROM\n",
    "    (\n",
    "    SELECT \n",
    "        uid, date, device\n",
    "        COUNT(1) AS freq, \n",
    "        SUM(play_time) AS total_play_time,\n",
    "        SUM(CASE WHEN play_time / song_length  > 1 THEN 1.0 ELSE play_time / song_length END) AS sum_daily_play_pct,\n",
    "    FROM Play\n",
    "    GROUP BY 1, 2 \n",
    "    ) sub\n",
    "GROUP BY\n",
    "    1\n",
    "\"\"\""
   ]
  },
  {
   "cell_type": "code",
   "execution_count": 8,
   "metadata": {},
   "outputs": [
    {
     "name": "stdout",
     "output_type": "stream",
     "text": [
      "CPU times: user 8min 46s, sys: 39 s, total: 9min 25s\n",
      "Wall time: 10min 47s\n"
     ]
    },
    {
     "data": {
      "text/plain": [
       "<sqlite3.Cursor at 0x109ebef80>"
      ]
     },
     "execution_count": 8,
     "metadata": {},
     "output_type": "execute_result"
    }
   ],
   "source": [
    "%%time\n",
    "musicbox_conn.execute(\"CREATE INDEX date_uid_idx ON Play_new (date, uid);\")"
   ]
  },
  {
   "cell_type": "code",
   "execution_count": 34,
   "metadata": {},
   "outputs": [
    {
     "name": "stdout",
     "output_type": "stream",
     "text": [
      "CPU times: user 14min 7s, sys: 8min 22s, total: 22min 29s\n",
      "Wall time: 41min 43s\n"
     ]
    }
   ],
   "source": [
    "%%time\n",
    "churn_df = pd.read_sql(\"\"\"\n",
    "SELECT\n",
    "    uid, device,\n",
    "    SUM(CASE WHEN time_window = 'w1' THEN freq ELSE NULL END) AS freq_w1,\n",
    "    SUM(CASE WHEN time_window = 'w1' THEN total_play_time ELSE NULL END) AS play_time_w1,\n",
    "    SUM(CASE WHEN time_window = 'w1' THEN avg_play_pct ELSE NULL END) AS avg_play_pct_w1,\n",
    "    \n",
    "    SUM(CASE WHEN time_window = 'w2' THEN freq ELSE NULL END) AS freq_w2,\n",
    "    SUM(CASE WHEN time_window = 'w2' THEN total_play_time ELSE NULL END) AS play_time_w2,\n",
    "    SUM(CASE WHEN time_window = 'w2' THEN avg_play_pct ELSE NULL END) AS avg_play_pct_w2,\n",
    "    \n",
    "    SUM(CASE WHEN time_window = 'w3' THEN freq ELSE NULL END) AS freq_w3,\n",
    "    SUM(CASE WHEN time_window = 'w3' THEN total_play_time ELSE NULL END) AS play_time_w3,\n",
    "    SUM(CASE WHEN time_window = 'w3' THEN avg_play_pct ELSE NULL END) AS avg_play_pct_w3,\n",
    "    \n",
    "    SUM(CASE WHEN time_window = 'w4' THEN freq ELSE NULL END) AS freq_w4,\n",
    "    SUM(CASE WHEN time_window = 'w4' THEN total_play_time ELSE NULL END) AS play_time_w4,\n",
    "    SUM(CASE WHEN time_window = 'w4' THEN avg_play_pct ELSE NULL END) AS avg_play_pct_w4\n",
    "    \n",
    "FROM\n",
    "    (\n",
    "    SELECT \n",
    "        uid,\n",
    "        CASE WHEN date BETWEEN '2017-03-30' AND '2017-04-09' THEN 'w1'\n",
    "             WHEN date BETWEEN '2017-04-10' AND '2017-04-20' THEN 'w2'\n",
    "             WHEN date BETWEEN '2017-04-21' AND '2017-05-01' THEN 'w3'\n",
    "             WHEN date BETWEEN '2017-05-02' AND '2017-05-12' THEN 'w4' END AS time_window,\n",
    "        device,\n",
    "        COUNT(1) AS freq,\n",
    "        SUM(play_time) AS total_play_time,\n",
    "        AVG(CASE WHEN play_time / song_length  > 1 THEN 1.0 ELSE play_time / song_length END) AS avg_play_pct  \n",
    "    FROM Play_new\n",
    "    WHERE\n",
    "        date > '2017-03-29'\n",
    "    GROUP BY 1, 2\n",
    "    ) sub\n",
    "\n",
    "GROUP BY uid\n",
    "\"\"\", musicbox_conn)"
   ]
  },
  {
   "cell_type": "code",
   "execution_count": 35,
   "metadata": {},
   "outputs": [
    {
     "data": {
      "text/html": [
       "<div>\n",
       "<style>\n",
       "    .dataframe thead tr:only-child th {\n",
       "        text-align: right;\n",
       "    }\n",
       "\n",
       "    .dataframe thead th {\n",
       "        text-align: left;\n",
       "    }\n",
       "\n",
       "    .dataframe tbody tr th {\n",
       "        vertical-align: top;\n",
       "    }\n",
       "</style>\n",
       "<table border=\"1\" class=\"dataframe\">\n",
       "  <thead>\n",
       "    <tr style=\"text-align: right;\">\n",
       "      <th></th>\n",
       "      <th>uid</th>\n",
       "      <th>device</th>\n",
       "      <th>freq_w1</th>\n",
       "      <th>play_time_w1</th>\n",
       "      <th>avg_play_pct_w1</th>\n",
       "      <th>freq_w2</th>\n",
       "      <th>play_time_w2</th>\n",
       "      <th>avg_play_pct_w2</th>\n",
       "      <th>freq_w3</th>\n",
       "      <th>play_time_w3</th>\n",
       "      <th>avg_play_pct_w3</th>\n",
       "      <th>freq_w4</th>\n",
       "      <th>play_time_w4</th>\n",
       "      <th>avg_play_pct_w4</th>\n",
       "    </tr>\n",
       "  </thead>\n",
       "  <tbody>\n",
       "    <tr>\n",
       "      <th>0</th>\n",
       "      <td>0</td>\n",
       "      <td>ar</td>\n",
       "      <td>145338.0</td>\n",
       "      <td>1.251728e+10</td>\n",
       "      <td>0.695687</td>\n",
       "      <td>406719.0</td>\n",
       "      <td>1.750280e+10</td>\n",
       "      <td>0.590655</td>\n",
       "      <td>315694.0</td>\n",
       "      <td>2.000722e+10</td>\n",
       "      <td>0.682264</td>\n",
       "      <td>258804.0</td>\n",
       "      <td>2.123130e+10</td>\n",
       "      <td>0.711662</td>\n",
       "    </tr>\n",
       "    <tr>\n",
       "      <th>1</th>\n",
       "      <td>12333</td>\n",
       "      <td>ip</td>\n",
       "      <td>45.0</td>\n",
       "      <td>9.027000e+03</td>\n",
       "      <td>0.949343</td>\n",
       "      <td>114.0</td>\n",
       "      <td>2.437200e+04</td>\n",
       "      <td>0.900190</td>\n",
       "      <td>109.0</td>\n",
       "      <td>2.479000e+04</td>\n",
       "      <td>0.972819</td>\n",
       "      <td>75.0</td>\n",
       "      <td>1.462400e+04</td>\n",
       "      <td>0.931983</td>\n",
       "    </tr>\n",
       "    <tr>\n",
       "      <th>2</th>\n",
       "      <td>36816</td>\n",
       "      <td>ar</td>\n",
       "      <td>4.0</td>\n",
       "      <td>1.846110e+05</td>\n",
       "      <td>1.000000</td>\n",
       "      <td>NaN</td>\n",
       "      <td>NaN</td>\n",
       "      <td>NaN</td>\n",
       "      <td>NaN</td>\n",
       "      <td>NaN</td>\n",
       "      <td>NaN</td>\n",
       "      <td>NaN</td>\n",
       "      <td>NaN</td>\n",
       "      <td>NaN</td>\n",
       "    </tr>\n",
       "    <tr>\n",
       "      <th>3</th>\n",
       "      <td>51923</td>\n",
       "      <td>ar</td>\n",
       "      <td>NaN</td>\n",
       "      <td>NaN</td>\n",
       "      <td>NaN</td>\n",
       "      <td>2.0</td>\n",
       "      <td>1.020000e+02</td>\n",
       "      <td>0.325743</td>\n",
       "      <td>NaN</td>\n",
       "      <td>NaN</td>\n",
       "      <td>NaN</td>\n",
       "      <td>NaN</td>\n",
       "      <td>NaN</td>\n",
       "      <td>NaN</td>\n",
       "    </tr>\n",
       "    <tr>\n",
       "      <th>4</th>\n",
       "      <td>60183</td>\n",
       "      <td>ar</td>\n",
       "      <td>354.0</td>\n",
       "      <td>1.354700e+04</td>\n",
       "      <td>0.148254</td>\n",
       "      <td>283.0</td>\n",
       "      <td>1.478100e+04</td>\n",
       "      <td>0.202751</td>\n",
       "      <td>333.0</td>\n",
       "      <td>1.539700e+04</td>\n",
       "      <td>0.179196</td>\n",
       "      <td>38.0</td>\n",
       "      <td>4.949000e+03</td>\n",
       "      <td>0.508749</td>\n",
       "    </tr>\n",
       "  </tbody>\n",
       "</table>\n",
       "</div>"
      ],
      "text/plain": [
       "     uid device   freq_w1  play_time_w1  avg_play_pct_w1   freq_w2  \\\n",
       "0      0     ar  145338.0  1.251728e+10         0.695687  406719.0   \n",
       "1  12333     ip      45.0  9.027000e+03         0.949343     114.0   \n",
       "2  36816     ar       4.0  1.846110e+05         1.000000       NaN   \n",
       "3  51923     ar       NaN           NaN              NaN       2.0   \n",
       "4  60183     ar     354.0  1.354700e+04         0.148254     283.0   \n",
       "\n",
       "   play_time_w2  avg_play_pct_w2   freq_w3  play_time_w3  avg_play_pct_w3  \\\n",
       "0  1.750280e+10         0.590655  315694.0  2.000722e+10         0.682264   \n",
       "1  2.437200e+04         0.900190     109.0  2.479000e+04         0.972819   \n",
       "2           NaN              NaN       NaN           NaN              NaN   \n",
       "3  1.020000e+02         0.325743       NaN           NaN              NaN   \n",
       "4  1.478100e+04         0.202751     333.0  1.539700e+04         0.179196   \n",
       "\n",
       "    freq_w4  play_time_w4  avg_play_pct_w4  \n",
       "0  258804.0  2.123130e+10         0.711662  \n",
       "1      75.0  1.462400e+04         0.931983  \n",
       "2       NaN           NaN              NaN  \n",
       "3       NaN           NaN              NaN  \n",
       "4      38.0  4.949000e+03         0.508749  "
      ]
     },
     "execution_count": 35,
     "metadata": {},
     "output_type": "execute_result"
    }
   ],
   "source": [
    "churn_df.head()"
   ]
  },
  {
   "cell_type": "code",
   "execution_count": 36,
   "metadata": {
    "collapsed": true
   },
   "outputs": [],
   "source": [
    "churn_df.to_sql('churn', musicbox_conn, if_exists=\"replace\", index=False)"
   ]
  },
  {
   "cell_type": "code",
   "execution_count": 115,
   "metadata": {},
   "outputs": [
    {
     "name": "stdout",
     "output_type": "stream",
     "text": [
      "CPU times: user 2min 47s, sys: 8.98 s, total: 2min 56s\n",
      "Wall time: 3min 1s\n"
     ]
    }
   ],
   "source": [
    "%%time\n",
    "last_play_date = pd.read_sql(\"\"\"\n",
    "SELECT \n",
    "    uid, MAX(date) AS last_play_date\n",
    "FROM Play_new\n",
    "WHERE date BETWEEN '2017-03-30' AND '2017-05-01'\n",
    "GROUP BY uid\n",
    "\"\"\", musicbox_conn)"
   ]
  },
  {
   "cell_type": "code",
   "execution_count": 45,
   "metadata": {
    "collapsed": true
   },
   "outputs": [],
   "source": [
    "churn_play = pd.read_sql(\"SELECT * FROM churn\", musicbox_conn)"
   ]
  },
  {
   "cell_type": "code",
   "execution_count": 46,
   "metadata": {},
   "outputs": [
    {
     "data": {
      "text/plain": [
       "(594252, 14)"
      ]
     },
     "execution_count": 46,
     "metadata": {},
     "output_type": "execute_result"
    }
   ],
   "source": [
    "churn_play.shape"
   ]
  },
  {
   "cell_type": "code",
   "execution_count": 47,
   "metadata": {},
   "outputs": [
    {
     "data": {
      "text/html": [
       "<div>\n",
       "<style>\n",
       "    .dataframe thead tr:only-child th {\n",
       "        text-align: right;\n",
       "    }\n",
       "\n",
       "    .dataframe thead th {\n",
       "        text-align: left;\n",
       "    }\n",
       "\n",
       "    .dataframe tbody tr th {\n",
       "        vertical-align: top;\n",
       "    }\n",
       "</style>\n",
       "<table border=\"1\" class=\"dataframe\">\n",
       "  <thead>\n",
       "    <tr style=\"text-align: right;\">\n",
       "      <th></th>\n",
       "      <th>uid</th>\n",
       "      <th>device</th>\n",
       "      <th>freq_w1</th>\n",
       "      <th>play_time_w1</th>\n",
       "      <th>avg_play_pct_w1</th>\n",
       "      <th>freq_w2</th>\n",
       "      <th>play_time_w2</th>\n",
       "      <th>avg_play_pct_w2</th>\n",
       "      <th>freq_w3</th>\n",
       "      <th>play_time_w3</th>\n",
       "      <th>avg_play_pct_w3</th>\n",
       "      <th>freq_w4</th>\n",
       "      <th>play_time_w4</th>\n",
       "      <th>avg_play_pct_w4</th>\n",
       "    </tr>\n",
       "  </thead>\n",
       "  <tbody>\n",
       "    <tr>\n",
       "      <th>0</th>\n",
       "      <td>0</td>\n",
       "      <td>ar</td>\n",
       "      <td>145338.0</td>\n",
       "      <td>1.251728e+10</td>\n",
       "      <td>0.695687</td>\n",
       "      <td>406719.0</td>\n",
       "      <td>1.750280e+10</td>\n",
       "      <td>0.590655</td>\n",
       "      <td>315694.0</td>\n",
       "      <td>2.000722e+10</td>\n",
       "      <td>0.682264</td>\n",
       "      <td>258804.0</td>\n",
       "      <td>2.123130e+10</td>\n",
       "      <td>0.711662</td>\n",
       "    </tr>\n",
       "    <tr>\n",
       "      <th>1</th>\n",
       "      <td>12333</td>\n",
       "      <td>ip</td>\n",
       "      <td>45.0</td>\n",
       "      <td>9.027000e+03</td>\n",
       "      <td>0.949343</td>\n",
       "      <td>114.0</td>\n",
       "      <td>2.437200e+04</td>\n",
       "      <td>0.900190</td>\n",
       "      <td>109.0</td>\n",
       "      <td>2.479000e+04</td>\n",
       "      <td>0.972819</td>\n",
       "      <td>75.0</td>\n",
       "      <td>1.462400e+04</td>\n",
       "      <td>0.931983</td>\n",
       "    </tr>\n",
       "    <tr>\n",
       "      <th>2</th>\n",
       "      <td>36816</td>\n",
       "      <td>ar</td>\n",
       "      <td>4.0</td>\n",
       "      <td>1.846110e+05</td>\n",
       "      <td>1.000000</td>\n",
       "      <td>NaN</td>\n",
       "      <td>NaN</td>\n",
       "      <td>NaN</td>\n",
       "      <td>NaN</td>\n",
       "      <td>NaN</td>\n",
       "      <td>NaN</td>\n",
       "      <td>NaN</td>\n",
       "      <td>NaN</td>\n",
       "      <td>NaN</td>\n",
       "    </tr>\n",
       "    <tr>\n",
       "      <th>3</th>\n",
       "      <td>51923</td>\n",
       "      <td>ar</td>\n",
       "      <td>NaN</td>\n",
       "      <td>NaN</td>\n",
       "      <td>NaN</td>\n",
       "      <td>2.0</td>\n",
       "      <td>1.020000e+02</td>\n",
       "      <td>0.325743</td>\n",
       "      <td>NaN</td>\n",
       "      <td>NaN</td>\n",
       "      <td>NaN</td>\n",
       "      <td>NaN</td>\n",
       "      <td>NaN</td>\n",
       "      <td>NaN</td>\n",
       "    </tr>\n",
       "    <tr>\n",
       "      <th>4</th>\n",
       "      <td>60183</td>\n",
       "      <td>ar</td>\n",
       "      <td>354.0</td>\n",
       "      <td>1.354700e+04</td>\n",
       "      <td>0.148254</td>\n",
       "      <td>283.0</td>\n",
       "      <td>1.478100e+04</td>\n",
       "      <td>0.202751</td>\n",
       "      <td>333.0</td>\n",
       "      <td>1.539700e+04</td>\n",
       "      <td>0.179196</td>\n",
       "      <td>38.0</td>\n",
       "      <td>4.949000e+03</td>\n",
       "      <td>0.508749</td>\n",
       "    </tr>\n",
       "  </tbody>\n",
       "</table>\n",
       "</div>"
      ],
      "text/plain": [
       "     uid device   freq_w1  play_time_w1  avg_play_pct_w1   freq_w2  \\\n",
       "0      0     ar  145338.0  1.251728e+10         0.695687  406719.0   \n",
       "1  12333     ip      45.0  9.027000e+03         0.949343     114.0   \n",
       "2  36816     ar       4.0  1.846110e+05         1.000000       NaN   \n",
       "3  51923     ar       NaN           NaN              NaN       2.0   \n",
       "4  60183     ar     354.0  1.354700e+04         0.148254     283.0   \n",
       "\n",
       "   play_time_w2  avg_play_pct_w2   freq_w3  play_time_w3  avg_play_pct_w3  \\\n",
       "0  1.750280e+10         0.590655  315694.0  2.000722e+10         0.682264   \n",
       "1  2.437200e+04         0.900190     109.0  2.479000e+04         0.972819   \n",
       "2           NaN              NaN       NaN           NaN              NaN   \n",
       "3  1.020000e+02         0.325743       NaN           NaN              NaN   \n",
       "4  1.478100e+04         0.202751     333.0  1.539700e+04         0.179196   \n",
       "\n",
       "    freq_w4  play_time_w4  avg_play_pct_w4  \n",
       "0  258804.0  2.123130e+10         0.711662  \n",
       "1      75.0  1.462400e+04         0.931983  \n",
       "2       NaN           NaN              NaN  \n",
       "3       NaN           NaN              NaN  \n",
       "4      38.0  4.949000e+03         0.508749  "
      ]
     },
     "execution_count": 47,
     "metadata": {},
     "output_type": "execute_result"
    }
   ],
   "source": [
    "churn_play.head()"
   ]
  },
  {
   "cell_type": "code",
   "execution_count": 48,
   "metadata": {
    "collapsed": true
   },
   "outputs": [],
   "source": [
    "churn_play = churn_play[~(churn_play.freq_w1.isnull() & churn_play.freq_w2.isnull() & churn_play.freq_w3.isnull())]"
   ]
  },
  {
   "cell_type": "code",
   "execution_count": 49,
   "metadata": {},
   "outputs": [
    {
     "data": {
      "text/plain": [
       "(583962, 14)"
      ]
     },
     "execution_count": 49,
     "metadata": {},
     "output_type": "execute_result"
    }
   ],
   "source": [
    "churn_play.shape"
   ]
  },
  {
   "cell_type": "code",
   "execution_count": 116,
   "metadata": {},
   "outputs": [
    {
     "data": {
      "text/plain": [
       "(583962, 2)"
      ]
     },
     "execution_count": 116,
     "metadata": {},
     "output_type": "execute_result"
    }
   ],
   "source": [
    "last_play_date.shape"
   ]
  },
  {
   "cell_type": "markdown",
   "metadata": {},
   "source": [
    "## Extract information from download data"
   ]
  },
  {
   "cell_type": "code",
   "execution_count": 8,
   "metadata": {},
   "outputs": [
    {
     "data": {
      "text/html": [
       "<div>\n",
       "<style>\n",
       "    .dataframe thead tr:only-child th {\n",
       "        text-align: right;\n",
       "    }\n",
       "\n",
       "    .dataframe thead th {\n",
       "        text-align: left;\n",
       "    }\n",
       "\n",
       "    .dataframe tbody tr th {\n",
       "        vertical-align: top;\n",
       "    }\n",
       "</style>\n",
       "<table border=\"1\" class=\"dataframe\">\n",
       "  <thead>\n",
       "    <tr style=\"text-align: right;\">\n",
       "      <th></th>\n",
       "      <th>uid</th>\n",
       "      <th>device</th>\n",
       "      <th>song_id</th>\n",
       "      <th>song_name</th>\n",
       "      <th>singer</th>\n",
       "      <th>date</th>\n",
       "    </tr>\n",
       "  </thead>\n",
       "  <tbody>\n",
       "    <tr>\n",
       "      <th>0</th>\n",
       "      <td>168019810</td>\n",
       "      <td>ar</td>\n",
       "      <td>442554.0</td>\n",
       "      <td>小酒窝</td>\n",
       "      <td>林俊杰&amp;蔡卓妍</td>\n",
       "      <td>2017-03-30</td>\n",
       "    </tr>\n",
       "    <tr>\n",
       "      <th>1</th>\n",
       "      <td>168019810</td>\n",
       "      <td>ar</td>\n",
       "      <td>6334611.0</td>\n",
       "      <td>社会摇</td>\n",
       "      <td>萧全</td>\n",
       "      <td>2017-03-30</td>\n",
       "    </tr>\n",
       "    <tr>\n",
       "      <th>2</th>\n",
       "      <td>168019810</td>\n",
       "      <td>ar</td>\n",
       "      <td>9867382.0</td>\n",
       "      <td>台阶</td>\n",
       "      <td>武艺</td>\n",
       "      <td>2017-03-30</td>\n",
       "    </tr>\n",
       "    <tr>\n",
       "      <th>3</th>\n",
       "      <td>168019810</td>\n",
       "      <td>ar</td>\n",
       "      <td>6660691.0</td>\n",
       "      <td>一次就好-(电影《夏洛特烦恼》暖水曲)</td>\n",
       "      <td>杨宗纬</td>\n",
       "      <td>2017-03-30</td>\n",
       "    </tr>\n",
       "    <tr>\n",
       "      <th>4</th>\n",
       "      <td>168019810</td>\n",
       "      <td>ar</td>\n",
       "      <td>157606.0</td>\n",
       "      <td>一路上有你</td>\n",
       "      <td>张学友</td>\n",
       "      <td>2017-03-30</td>\n",
       "    </tr>\n",
       "  </tbody>\n",
       "</table>\n",
       "</div>"
      ],
      "text/plain": [
       "         uid device    song_id            song_name   singer        date\n",
       "0  168019810     ar   442554.0                  小酒窝  林俊杰&蔡卓妍  2017-03-30\n",
       "1  168019810     ar  6334611.0                  社会摇       萧全  2017-03-30\n",
       "2  168019810     ar  9867382.0                   台阶       武艺  2017-03-30\n",
       "3  168019810     ar  6660691.0  一次就好-(电影《夏洛特烦恼》暖水曲)      杨宗纬  2017-03-30\n",
       "4  168019810     ar   157606.0                一路上有你      张学友  2017-03-30"
      ]
     },
     "execution_count": 8,
     "metadata": {},
     "output_type": "execute_result"
    }
   ],
   "source": [
    "pd.read_sql(\"SELECT * FROM Down LIMIT 5\", musicbox_conn)"
   ]
  },
  {
   "cell_type": "code",
   "execution_count": 10,
   "metadata": {},
   "outputs": [
    {
     "data": {
      "text/html": [
       "<div>\n",
       "<style>\n",
       "    .dataframe thead tr:only-child th {\n",
       "        text-align: right;\n",
       "    }\n",
       "\n",
       "    .dataframe thead th {\n",
       "        text-align: left;\n",
       "    }\n",
       "\n",
       "    .dataframe tbody tr th {\n",
       "        vertical-align: top;\n",
       "    }\n",
       "</style>\n",
       "<table border=\"1\" class=\"dataframe\">\n",
       "  <thead>\n",
       "    <tr style=\"text-align: right;\">\n",
       "      <th></th>\n",
       "      <th>COUNT(DISTINCT uid)</th>\n",
       "    </tr>\n",
       "  </thead>\n",
       "  <tbody>\n",
       "    <tr>\n",
       "      <th>0</th>\n",
       "      <td>252835</td>\n",
       "    </tr>\n",
       "  </tbody>\n",
       "</table>\n",
       "</div>"
      ],
      "text/plain": [
       "   COUNT(DISTINCT uid)\n",
       "0               252835"
      ]
     },
     "execution_count": 10,
     "metadata": {},
     "output_type": "execute_result"
    }
   ],
   "source": [
    "pd.read_sql(\"SELECT COUNT(DISTINCT uid) FROM Down\", musicbox_conn)"
   ]
  },
  {
   "cell_type": "code",
   "execution_count": 20,
   "metadata": {},
   "outputs": [
    {
     "name": "stdout",
     "output_type": "stream",
     "text": [
      "CPU times: user 19.2 s, sys: 1.32 s, total: 20.5 s\n",
      "Wall time: 21.6 s\n"
     ]
    },
    {
     "data": {
      "text/plain": [
       "<sqlite3.Cursor at 0x10f230b20>"
      ]
     },
     "execution_count": 20,
     "metadata": {},
     "output_type": "execute_result"
    }
   ],
   "source": [
    "%%time\n",
    "musicbox_conn.execute(\"CREATE INDEX down_date_uid_idx ON Down(date, uid);\")"
   ]
  },
  {
   "cell_type": "code",
   "execution_count": 22,
   "metadata": {},
   "outputs": [
    {
     "name": "stdout",
     "output_type": "stream",
     "text": [
      "CPU times: user 47.7 s, sys: 3.62 s, total: 51.4 s\n",
      "Wall time: 52.2 s\n"
     ]
    }
   ],
   "source": [
    "%%time\n",
    "churn_down = pd.read_sql(\"\"\"\n",
    "SELECT\n",
    "    uid,\n",
    "    SUM(CASE WHEN time_window = 'w1' THEN down_freq ELSE NULL END) AS down_freq_w1,\n",
    "    SUM(CASE WHEN time_window = 'w1' THEN down_uniq_song_num ELSE NULL END) AS down_uniq_song_num_w1,\n",
    "    SUM(CASE WHEN time_window = 'w1' THEN down_uniq_singer_num ELSE NULL END) AS down_uniq_singer_num_w1,\n",
    "\n",
    "    SUM(CASE WHEN time_window = 'w2' THEN down_freq ELSE NULL END) AS down_freq_w2,\n",
    "    SUM(CASE WHEN time_window = 'w2' THEN down_uniq_song_num ELSE NULL END) AS down_uniq_song_num_w2,\n",
    "    SUM(CASE WHEN time_window = 'w2' THEN down_uniq_singer_num ELSE NULL END) AS down_uniq_singer_num_w2,\n",
    "    \n",
    "    SUM(CASE WHEN time_window = 'w3' THEN down_freq ELSE NULL END) AS down_freq_w3,\n",
    "    SUM(CASE WHEN time_window = 'w3' THEN down_uniq_song_num ELSE NULL END) AS down_uniq_song_num_w3,\n",
    "    SUM(CASE WHEN time_window = 'w3' THEN down_uniq_singer_num ELSE NULL END) AS down_uniq_singer_num_w3,\n",
    "    \n",
    "    SUM(CASE WHEN time_window = 'w4' THEN down_freq ELSE NULL END) AS down_freq_w4,\n",
    "    SUM(CASE WHEN time_window = 'w4' THEN down_uniq_song_num ELSE NULL END) AS down_uniq_song_num_w4,\n",
    "    SUM(CASE WHEN time_window = 'w4' THEN down_uniq_singer_num ELSE NULL END) AS down_uniq_singer_num_w4\n",
    "    \n",
    "FROM\n",
    "    (\n",
    "    SELECT \n",
    "        uid,\n",
    "        CASE WHEN date BETWEEN '2017-03-30' AND '2017-04-09' THEN 'w1'\n",
    "             WHEN date BETWEEN '2017-04-10' AND '2017-04-20' THEN 'w2'\n",
    "             WHEN date BETWEEN '2017-04-21' AND '2017-05-01' THEN 'w3'\n",
    "             WHEN date BETWEEN '2017-05-02' AND '2017-05-12' THEN 'w4' END AS time_window,\n",
    "        COUNT(1) AS down_freq,\n",
    "        COUNT(DISTINCT song_id) AS down_uniq_song_num,\n",
    "        COUNT(DISTINCT singer) AS down_uniq_singer_num\n",
    "    FROM Down\n",
    "    WHERE\n",
    "        date > '2017-03-29'\n",
    "    GROUP BY 1, 2\n",
    "    ) sub\n",
    "\n",
    "GROUP BY uid\n",
    "\"\"\", musicbox_conn)"
   ]
  },
  {
   "cell_type": "code",
   "execution_count": 23,
   "metadata": {},
   "outputs": [
    {
     "data": {
      "text/plain": [
       "(252835, 13)"
      ]
     },
     "execution_count": 23,
     "metadata": {},
     "output_type": "execute_result"
    }
   ],
   "source": [
    "churn_down.shape"
   ]
  },
  {
   "cell_type": "code",
   "execution_count": 24,
   "metadata": {},
   "outputs": [
    {
     "data": {
      "text/html": [
       "<div>\n",
       "<style>\n",
       "    .dataframe thead tr:only-child th {\n",
       "        text-align: right;\n",
       "    }\n",
       "\n",
       "    .dataframe thead th {\n",
       "        text-align: left;\n",
       "    }\n",
       "\n",
       "    .dataframe tbody tr th {\n",
       "        vertical-align: top;\n",
       "    }\n",
       "</style>\n",
       "<table border=\"1\" class=\"dataframe\">\n",
       "  <thead>\n",
       "    <tr style=\"text-align: right;\">\n",
       "      <th></th>\n",
       "      <th>uid</th>\n",
       "      <th>down_freq_w1</th>\n",
       "      <th>down_uniq_song_num_w1</th>\n",
       "      <th>down_uniq_singer_num_w1</th>\n",
       "      <th>down_freq_w2</th>\n",
       "      <th>down_uniq_song_num_w2</th>\n",
       "      <th>down_uniq_singer_num_w2</th>\n",
       "      <th>down_freq_w3</th>\n",
       "      <th>down_uniq_song_num_w3</th>\n",
       "      <th>down_uniq_singer_num_w3</th>\n",
       "      <th>down_freq_w4</th>\n",
       "      <th>down_uniq_song_num_w4</th>\n",
       "      <th>down_uniq_singer_num_w4</th>\n",
       "    </tr>\n",
       "  </thead>\n",
       "  <tbody>\n",
       "    <tr>\n",
       "      <th>0</th>\n",
       "      <td>0</td>\n",
       "      <td>19926.0</td>\n",
       "      <td>5088.0</td>\n",
       "      <td>1700.0</td>\n",
       "      <td>60529.0</td>\n",
       "      <td>15685.0</td>\n",
       "      <td>3632.0</td>\n",
       "      <td>31647.0</td>\n",
       "      <td>9056.0</td>\n",
       "      <td>2279.0</td>\n",
       "      <td>28038.0</td>\n",
       "      <td>7275.0</td>\n",
       "      <td>1925.0</td>\n",
       "    </tr>\n",
       "    <tr>\n",
       "      <th>1</th>\n",
       "      <td>36816</td>\n",
       "      <td>2.0</td>\n",
       "      <td>2.0</td>\n",
       "      <td>2.0</td>\n",
       "      <td>NaN</td>\n",
       "      <td>NaN</td>\n",
       "      <td>NaN</td>\n",
       "      <td>NaN</td>\n",
       "      <td>NaN</td>\n",
       "      <td>NaN</td>\n",
       "      <td>NaN</td>\n",
       "      <td>NaN</td>\n",
       "      <td>NaN</td>\n",
       "    </tr>\n",
       "    <tr>\n",
       "      <th>2</th>\n",
       "      <td>104057</td>\n",
       "      <td>NaN</td>\n",
       "      <td>NaN</td>\n",
       "      <td>NaN</td>\n",
       "      <td>NaN</td>\n",
       "      <td>NaN</td>\n",
       "      <td>NaN</td>\n",
       "      <td>NaN</td>\n",
       "      <td>NaN</td>\n",
       "      <td>NaN</td>\n",
       "      <td>13.0</td>\n",
       "      <td>13.0</td>\n",
       "      <td>11.0</td>\n",
       "    </tr>\n",
       "    <tr>\n",
       "      <th>3</th>\n",
       "      <td>126721</td>\n",
       "      <td>8.0</td>\n",
       "      <td>8.0</td>\n",
       "      <td>3.0</td>\n",
       "      <td>3.0</td>\n",
       "      <td>3.0</td>\n",
       "      <td>3.0</td>\n",
       "      <td>NaN</td>\n",
       "      <td>NaN</td>\n",
       "      <td>NaN</td>\n",
       "      <td>1.0</td>\n",
       "      <td>1.0</td>\n",
       "      <td>1.0</td>\n",
       "    </tr>\n",
       "    <tr>\n",
       "      <th>4</th>\n",
       "      <td>250691</td>\n",
       "      <td>4.0</td>\n",
       "      <td>4.0</td>\n",
       "      <td>4.0</td>\n",
       "      <td>NaN</td>\n",
       "      <td>NaN</td>\n",
       "      <td>NaN</td>\n",
       "      <td>NaN</td>\n",
       "      <td>NaN</td>\n",
       "      <td>NaN</td>\n",
       "      <td>NaN</td>\n",
       "      <td>NaN</td>\n",
       "      <td>NaN</td>\n",
       "    </tr>\n",
       "  </tbody>\n",
       "</table>\n",
       "</div>"
      ],
      "text/plain": [
       "      uid  down_freq_w1  down_uniq_song_num_w1  down_uniq_singer_num_w1  \\\n",
       "0       0       19926.0                 5088.0                   1700.0   \n",
       "1   36816           2.0                    2.0                      2.0   \n",
       "2  104057           NaN                    NaN                      NaN   \n",
       "3  126721           8.0                    8.0                      3.0   \n",
       "4  250691           4.0                    4.0                      4.0   \n",
       "\n",
       "   down_freq_w2  down_uniq_song_num_w2  down_uniq_singer_num_w2  down_freq_w3  \\\n",
       "0       60529.0                15685.0                   3632.0       31647.0   \n",
       "1           NaN                    NaN                      NaN           NaN   \n",
       "2           NaN                    NaN                      NaN           NaN   \n",
       "3           3.0                    3.0                      3.0           NaN   \n",
       "4           NaN                    NaN                      NaN           NaN   \n",
       "\n",
       "   down_uniq_song_num_w3  down_uniq_singer_num_w3  down_freq_w4  \\\n",
       "0                 9056.0                   2279.0       28038.0   \n",
       "1                    NaN                      NaN           NaN   \n",
       "2                    NaN                      NaN          13.0   \n",
       "3                    NaN                      NaN           1.0   \n",
       "4                    NaN                      NaN           NaN   \n",
       "\n",
       "   down_uniq_song_num_w4  down_uniq_singer_num_w4  \n",
       "0                 7275.0                   1925.0  \n",
       "1                    NaN                      NaN  \n",
       "2                   13.0                     11.0  \n",
       "3                    1.0                      1.0  \n",
       "4                    NaN                      NaN  "
      ]
     },
     "execution_count": 24,
     "metadata": {},
     "output_type": "execute_result"
    }
   ],
   "source": [
    "churn_down.head()"
   ]
  },
  {
   "cell_type": "code",
   "execution_count": 34,
   "metadata": {},
   "outputs": [
    {
     "name": "stdout",
     "output_type": "stream",
     "text": [
      "CPU times: user 8.82 s, sys: 379 ms, total: 9.2 s\n",
      "Wall time: 9.25 s\n"
     ]
    }
   ],
   "source": [
    "%%time\n",
    "last_down_date = pd.read_sql(\"\"\"\n",
    "SELECT \n",
    "    uid, MAX(date) AS last_down_date\n",
    "FROM Down\n",
    "WHERE date < '2017-05-02'\n",
    "GROUP BY uid\n",
    "\"\"\", musicbox_conn)"
   ]
  },
  {
   "cell_type": "code",
   "execution_count": 35,
   "metadata": {},
   "outputs": [
    {
     "data": {
      "text/html": [
       "<div>\n",
       "<style>\n",
       "    .dataframe thead tr:only-child th {\n",
       "        text-align: right;\n",
       "    }\n",
       "\n",
       "    .dataframe thead th {\n",
       "        text-align: left;\n",
       "    }\n",
       "\n",
       "    .dataframe tbody tr th {\n",
       "        vertical-align: top;\n",
       "    }\n",
       "</style>\n",
       "<table border=\"1\" class=\"dataframe\">\n",
       "  <thead>\n",
       "    <tr style=\"text-align: right;\">\n",
       "      <th></th>\n",
       "      <th>uid</th>\n",
       "      <th>last_down_date</th>\n",
       "    </tr>\n",
       "  </thead>\n",
       "  <tbody>\n",
       "    <tr>\n",
       "      <th>0</th>\n",
       "      <td>0</td>\n",
       "      <td>2017-05-01</td>\n",
       "    </tr>\n",
       "    <tr>\n",
       "      <th>1</th>\n",
       "      <td>36816</td>\n",
       "      <td>2017-03-30</td>\n",
       "    </tr>\n",
       "    <tr>\n",
       "      <th>2</th>\n",
       "      <td>126721</td>\n",
       "      <td>2017-04-14</td>\n",
       "    </tr>\n",
       "    <tr>\n",
       "      <th>3</th>\n",
       "      <td>250691</td>\n",
       "      <td>2017-04-04</td>\n",
       "    </tr>\n",
       "    <tr>\n",
       "      <th>4</th>\n",
       "      <td>269510</td>\n",
       "      <td>2017-04-24</td>\n",
       "    </tr>\n",
       "  </tbody>\n",
       "</table>\n",
       "</div>"
      ],
      "text/plain": [
       "      uid last_down_date\n",
       "0       0     2017-05-01\n",
       "1   36816     2017-03-30\n",
       "2  126721     2017-04-14\n",
       "3  250691     2017-04-04\n",
       "4  269510     2017-04-24"
      ]
     },
     "execution_count": 35,
     "metadata": {},
     "output_type": "execute_result"
    }
   ],
   "source": [
    "last_down_date.head()"
   ]
  },
  {
   "cell_type": "code",
   "execution_count": 36,
   "metadata": {},
   "outputs": [
    {
     "data": {
      "text/plain": [
       "(243009, 2)"
      ]
     },
     "execution_count": 36,
     "metadata": {},
     "output_type": "execute_result"
    }
   ],
   "source": [
    "last_down_date.shape"
   ]
  },
  {
   "cell_type": "code",
   "execution_count": 38,
   "metadata": {
    "collapsed": true
   },
   "outputs": [],
   "source": [
    "churn_down = \\\n",
    "churn_down[~(churn_down.down_freq_w1.isnull() & churn_down.down_freq_w2.isnull() & churn_down.down_freq_w3.isnull())]"
   ]
  },
  {
   "cell_type": "code",
   "execution_count": 39,
   "metadata": {},
   "outputs": [
    {
     "data": {
      "text/plain": [
       "(243009, 13)"
      ]
     },
     "execution_count": 39,
     "metadata": {},
     "output_type": "execute_result"
    }
   ],
   "source": [
    "churn_down.shape\n",
    "# of uid matches after eliminating all those inactive users in the first three windows"
   ]
  },
  {
   "cell_type": "markdown",
   "metadata": {},
   "source": [
    "## Remove bot records and merge all the information"
   ]
  },
  {
   "cell_type": "code",
   "execution_count": 105,
   "metadata": {},
   "outputs": [],
   "source": [
    "last_down_date['down_recency'] = pd.to_datetime('2017-05-02') - pd.to_datetime(last_down_date.last_down_date)"
   ]
  },
  {
   "cell_type": "code",
   "execution_count": 107,
   "metadata": {},
   "outputs": [],
   "source": [
    "last_down_date.down_recency = last_down_date.down_recency.dt.days"
   ]
  },
  {
   "cell_type": "code",
   "execution_count": 111,
   "metadata": {},
   "outputs": [],
   "source": [
    "last_down_date.drop(['last_down_date'], axis=1, inplace=True)"
   ]
  },
  {
   "cell_type": "code",
   "execution_count": 120,
   "metadata": {},
   "outputs": [],
   "source": [
    "last_play_date['play_recency'] = pd.to_datetime('2017-05-02') - pd.to_datetime(last_play_date.last_play_date)"
   ]
  },
  {
   "cell_type": "code",
   "execution_count": 121,
   "metadata": {
    "collapsed": true
   },
   "outputs": [],
   "source": [
    "last_play_date.play_recency = last_play_date.play_recency.dt.days"
   ]
  },
  {
   "cell_type": "code",
   "execution_count": 124,
   "metadata": {},
   "outputs": [],
   "source": [
    "last_play_date.drop(['last_play_date'], axis=1, inplace=True)"
   ]
  },
  {
   "cell_type": "code",
   "execution_count": 131,
   "metadata": {},
   "outputs": [],
   "source": [
    "churn_play = churn_play.merge(last_play_date, on='uid')"
   ]
  },
  {
   "cell_type": "code",
   "execution_count": 134,
   "metadata": {},
   "outputs": [],
   "source": [
    "churn_down = churn_down.merge(last_down_date, on='uid')"
   ]
  },
  {
   "cell_type": "code",
   "execution_count": 145,
   "metadata": {},
   "outputs": [],
   "source": [
    "churn_play.fillna(0, inplace=True)\n",
    "churn_down.fillna(0, inplace=True)"
   ]
  },
  {
   "cell_type": "markdown",
   "metadata": {},
   "source": [
    "### pinpoint the bot..."
   ]
  },
  {
   "cell_type": "code",
   "execution_count": 173,
   "metadata": {},
   "outputs": [
    {
     "data": {
      "text/html": [
       "<div>\n",
       "<style>\n",
       "    .dataframe thead tr:only-child th {\n",
       "        text-align: right;\n",
       "    }\n",
       "\n",
       "    .dataframe thead th {\n",
       "        text-align: left;\n",
       "    }\n",
       "\n",
       "    .dataframe tbody tr th {\n",
       "        vertical-align: top;\n",
       "    }\n",
       "</style>\n",
       "<table border=\"1\" class=\"dataframe\">\n",
       "  <thead>\n",
       "    <tr style=\"text-align: right;\">\n",
       "      <th></th>\n",
       "      <th>AVG(play_time)</th>\n",
       "    </tr>\n",
       "  </thead>\n",
       "  <tbody>\n",
       "    <tr>\n",
       "      <th>0</th>\n",
       "      <td>206543.034391</td>\n",
       "    </tr>\n",
       "  </tbody>\n",
       "</table>\n",
       "</div>"
      ],
      "text/plain": [
       "   AVG(play_time)\n",
       "0   206543.034391"
      ]
     },
     "execution_count": 173,
     "metadata": {},
     "output_type": "execute_result"
    }
   ],
   "source": [
    "# average play time... There are lots of outliers...Seems to be very unreliable information\n",
    "pd.read_sql(\"SELECT AVG(play_time) FROM Play_new\", musicbox_conn)"
   ]
  },
  {
   "cell_type": "code",
   "execution_count": 175,
   "metadata": {},
   "outputs": [
    {
     "data": {
      "text/html": [
       "<div>\n",
       "<style>\n",
       "    .dataframe thead tr:only-child th {\n",
       "        text-align: right;\n",
       "    }\n",
       "\n",
       "    .dataframe thead th {\n",
       "        text-align: left;\n",
       "    }\n",
       "\n",
       "    .dataframe tbody tr th {\n",
       "        vertical-align: top;\n",
       "    }\n",
       "</style>\n",
       "<table border=\"1\" class=\"dataframe\">\n",
       "  <thead>\n",
       "    <tr style=\"text-align: right;\">\n",
       "      <th></th>\n",
       "      <th>AVG(song_length)</th>\n",
       "    </tr>\n",
       "  </thead>\n",
       "  <tbody>\n",
       "    <tr>\n",
       "      <th>0</th>\n",
       "      <td>390.617008</td>\n",
       "    </tr>\n",
       "  </tbody>\n",
       "</table>\n",
       "</div>"
      ],
      "text/plain": [
       "   AVG(song_length)\n",
       "0        390.617008"
      ]
     },
     "execution_count": 175,
     "metadata": {},
     "output_type": "execute_result"
    }
   ],
   "source": [
    "# average song_length\n",
    "pd.read_sql(\"SELECT AVG(song_length) FROM song_info\", musicbox_conn)"
   ]
  },
  {
   "cell_type": "code",
   "execution_count": 176,
   "metadata": {},
   "outputs": [
    {
     "name": "stdout",
     "output_type": "stream",
     "text": [
      "Thus a person can only play 2433.07377952 songs in a window at most on average\n"
     ]
    }
   ],
   "source": [
    "print \"Thus a person can only play {} songs in a window at most on average\".format(11*24*3600/390.617008)"
   ]
  },
  {
   "cell_type": "code",
   "execution_count": 183,
   "metadata": {},
   "outputs": [
    {
     "data": {
      "text/plain": [
       "freq_w1    1803.039\n",
       "freq_w2    1583.000\n",
       "freq_w3    1505.039\n",
       "freq_w4    1462.117\n",
       "Name: 0.999, dtype: float64"
      ]
     },
     "execution_count": 183,
     "metadata": {},
     "output_type": "execute_result"
    }
   ],
   "source": [
    "churn_play[churn_play.columns[churn_play.columns.str.contains(\"freq\")]].quantile(0.999)\n",
    "# the 0.999 quantile seems to be a fair but a little conservative cutoff"
   ]
  },
  {
   "cell_type": "code",
   "execution_count": 186,
   "metadata": {},
   "outputs": [
    {
     "data": {
      "text/plain": [
       "uid                1.691270e+08\n",
       "freq_w1            1.803039e+03\n",
       "play_time_w1       2.469632e+07\n",
       "avg_play_pct_w1    1.000000e+00\n",
       "freq_w2            1.583000e+03\n",
       "play_time_w2       1.809318e+07\n",
       "avg_play_pct_w2    1.000000e+00\n",
       "freq_w3            1.505039e+03\n",
       "play_time_w3       1.262647e+07\n",
       "avg_play_pct_w3    1.000000e+00\n",
       "freq_w4            1.462117e+03\n",
       "play_time_w4       8.559633e+06\n",
       "avg_play_pct_w4    1.000000e+00\n",
       "play_recency       3.300000e+01\n",
       "Name: 0.999, dtype: float64"
      ]
     },
     "execution_count": 186,
     "metadata": {},
     "output_type": "execute_result"
    }
   ],
   "source": [
    "churn_play.drop(['device'], axis=1).quantile(0.999)"
   ]
  },
  {
   "cell_type": "code",
   "execution_count": 198,
   "metadata": {},
   "outputs": [],
   "source": [
    "churn_play_clean \\\n",
    "    = churn_play[(churn_play.freq_w1 < churn_play.freq_w1.quantile(0.999)) & \\\n",
    "                 (churn_play.freq_w2 < churn_play.freq_w2.quantile(0.999)) & \\\n",
    "                 (churn_play.freq_w3 < churn_play.freq_w3.quantile(0.999)) & \\\n",
    "                 (churn_play.freq_w4 < churn_play.freq_w4.quantile(0.999)) & \\\n",
    "                 (churn_play.play_time_w1 < churn_play.freq_w1.quantile(0.999) * 390) & \\\n",
    "                 (churn_play.play_time_w2 < churn_play.freq_w2.quantile(0.999) * 390) & \\\n",
    "                 (churn_play.play_time_w3 < churn_play.freq_w3.quantile(0.999) * 390) & \\\n",
    "                 (churn_play.play_time_w4 < churn_play.freq_w4.quantile(0.999) * 390)]"
   ]
  },
  {
   "cell_type": "code",
   "execution_count": 221,
   "metadata": {},
   "outputs": [
    {
     "data": {
      "text/html": [
       "<div>\n",
       "<style>\n",
       "    .dataframe thead tr:only-child th {\n",
       "        text-align: right;\n",
       "    }\n",
       "\n",
       "    .dataframe thead th {\n",
       "        text-align: left;\n",
       "    }\n",
       "\n",
       "    .dataframe tbody tr th {\n",
       "        vertical-align: top;\n",
       "    }\n",
       "</style>\n",
       "<table border=\"1\" class=\"dataframe\">\n",
       "  <thead>\n",
       "    <tr style=\"text-align: right;\">\n",
       "      <th></th>\n",
       "      <th>uid</th>\n",
       "      <th>freq_w1</th>\n",
       "      <th>play_time_w1</th>\n",
       "      <th>avg_play_pct_w1</th>\n",
       "      <th>freq_w2</th>\n",
       "      <th>play_time_w2</th>\n",
       "      <th>avg_play_pct_w2</th>\n",
       "      <th>freq_w3</th>\n",
       "      <th>play_time_w3</th>\n",
       "      <th>avg_play_pct_w3</th>\n",
       "      <th>freq_w4</th>\n",
       "      <th>play_time_w4</th>\n",
       "      <th>avg_play_pct_w4</th>\n",
       "      <th>play_recency</th>\n",
       "    </tr>\n",
       "  </thead>\n",
       "  <tbody>\n",
       "    <tr>\n",
       "      <th>count</th>\n",
       "      <td>5.721710e+05</td>\n",
       "      <td>572171.000000</td>\n",
       "      <td>572171.000000</td>\n",
       "      <td>572171.000000</td>\n",
       "      <td>572171.000000</td>\n",
       "      <td>572171.000000</td>\n",
       "      <td>572171.000000</td>\n",
       "      <td>572171.000000</td>\n",
       "      <td>572171.000000</td>\n",
       "      <td>572171.000000</td>\n",
       "      <td>572171.000000</td>\n",
       "      <td>572171.000000</td>\n",
       "      <td>572171.000000</td>\n",
       "      <td>572171.000000</td>\n",
       "    </tr>\n",
       "    <tr>\n",
       "      <th>mean</th>\n",
       "      <td>1.674299e+08</td>\n",
       "      <td>69.199802</td>\n",
       "      <td>10416.298428</td>\n",
       "      <td>0.503286</td>\n",
       "      <td>42.292421</td>\n",
       "      <td>6721.031741</td>\n",
       "      <td>0.271756</td>\n",
       "      <td>37.188515</td>\n",
       "      <td>5866.262451</td>\n",
       "      <td>0.235344</td>\n",
       "      <td>32.324550</td>\n",
       "      <td>5131.638262</td>\n",
       "      <td>0.198535</td>\n",
       "      <td>17.790486</td>\n",
       "    </tr>\n",
       "    <tr>\n",
       "      <th>std</th>\n",
       "      <td>1.013930e+07</td>\n",
       "      <td>137.286739</td>\n",
       "      <td>28593.369710</td>\n",
       "      <td>0.304086</td>\n",
       "      <td>111.595663</td>\n",
       "      <td>21297.449539</td>\n",
       "      <td>0.340976</td>\n",
       "      <td>106.179785</td>\n",
       "      <td>19763.713840</td>\n",
       "      <td>0.330501</td>\n",
       "      <td>101.013392</td>\n",
       "      <td>18419.505639</td>\n",
       "      <td>0.315848</td>\n",
       "      <td>12.740300</td>\n",
       "    </tr>\n",
       "    <tr>\n",
       "      <th>min</th>\n",
       "      <td>1.233300e+04</td>\n",
       "      <td>0.000000</td>\n",
       "      <td>0.000000</td>\n",
       "      <td>0.000000</td>\n",
       "      <td>0.000000</td>\n",
       "      <td>0.000000</td>\n",
       "      <td>0.000000</td>\n",
       "      <td>0.000000</td>\n",
       "      <td>0.000000</td>\n",
       "      <td>0.000000</td>\n",
       "      <td>0.000000</td>\n",
       "      <td>0.000000</td>\n",
       "      <td>0.000000</td>\n",
       "      <td>1.000000</td>\n",
       "    </tr>\n",
       "    <tr>\n",
       "      <th>25%</th>\n",
       "      <td>1.680338e+08</td>\n",
       "      <td>4.000000</td>\n",
       "      <td>288.000000</td>\n",
       "      <td>0.263027</td>\n",
       "      <td>0.000000</td>\n",
       "      <td>0.000000</td>\n",
       "      <td>0.000000</td>\n",
       "      <td>0.000000</td>\n",
       "      <td>0.000000</td>\n",
       "      <td>0.000000</td>\n",
       "      <td>0.000000</td>\n",
       "      <td>0.000000</td>\n",
       "      <td>0.000000</td>\n",
       "      <td>4.000000</td>\n",
       "    </tr>\n",
       "    <tr>\n",
       "      <th>50%</th>\n",
       "      <td>1.684903e+08</td>\n",
       "      <td>19.000000</td>\n",
       "      <td>2103.000000</td>\n",
       "      <td>0.527929</td>\n",
       "      <td>0.000000</td>\n",
       "      <td>0.000000</td>\n",
       "      <td>0.000000</td>\n",
       "      <td>0.000000</td>\n",
       "      <td>0.000000</td>\n",
       "      <td>0.000000</td>\n",
       "      <td>0.000000</td>\n",
       "      <td>0.000000</td>\n",
       "      <td>0.000000</td>\n",
       "      <td>18.000000</td>\n",
       "    </tr>\n",
       "    <tr>\n",
       "      <th>75%</th>\n",
       "      <td>1.687731e+08</td>\n",
       "      <td>72.000000</td>\n",
       "      <td>9069.000000</td>\n",
       "      <td>0.755324</td>\n",
       "      <td>30.000000</td>\n",
       "      <td>3616.500000</td>\n",
       "      <td>0.580811</td>\n",
       "      <td>20.000000</td>\n",
       "      <td>2244.000000</td>\n",
       "      <td>0.513818</td>\n",
       "      <td>10.000000</td>\n",
       "      <td>1114.500000</td>\n",
       "      <td>0.408638</td>\n",
       "      <td>32.000000</td>\n",
       "    </tr>\n",
       "    <tr>\n",
       "      <th>max</th>\n",
       "      <td>1.692623e+08</td>\n",
       "      <td>1803.000000</td>\n",
       "      <td>702812.000000</td>\n",
       "      <td>1.000000</td>\n",
       "      <td>1582.000000</td>\n",
       "      <td>617032.000000</td>\n",
       "      <td>1.000000</td>\n",
       "      <td>1505.000000</td>\n",
       "      <td>586629.000000</td>\n",
       "      <td>1.000000</td>\n",
       "      <td>1462.000000</td>\n",
       "      <td>565866.000000</td>\n",
       "      <td>1.000000</td>\n",
       "      <td>33.000000</td>\n",
       "    </tr>\n",
       "  </tbody>\n",
       "</table>\n",
       "</div>"
      ],
      "text/plain": [
       "                uid        freq_w1   play_time_w1  avg_play_pct_w1  \\\n",
       "count  5.721710e+05  572171.000000  572171.000000    572171.000000   \n",
       "mean   1.674299e+08      69.199802   10416.298428         0.503286   \n",
       "std    1.013930e+07     137.286739   28593.369710         0.304086   \n",
       "min    1.233300e+04       0.000000       0.000000         0.000000   \n",
       "25%    1.680338e+08       4.000000     288.000000         0.263027   \n",
       "50%    1.684903e+08      19.000000    2103.000000         0.527929   \n",
       "75%    1.687731e+08      72.000000    9069.000000         0.755324   \n",
       "max    1.692623e+08    1803.000000  702812.000000         1.000000   \n",
       "\n",
       "             freq_w2   play_time_w2  avg_play_pct_w2        freq_w3  \\\n",
       "count  572171.000000  572171.000000    572171.000000  572171.000000   \n",
       "mean       42.292421    6721.031741         0.271756      37.188515   \n",
       "std       111.595663   21297.449539         0.340976     106.179785   \n",
       "min         0.000000       0.000000         0.000000       0.000000   \n",
       "25%         0.000000       0.000000         0.000000       0.000000   \n",
       "50%         0.000000       0.000000         0.000000       0.000000   \n",
       "75%        30.000000    3616.500000         0.580811      20.000000   \n",
       "max      1582.000000  617032.000000         1.000000    1505.000000   \n",
       "\n",
       "        play_time_w3  avg_play_pct_w3        freq_w4   play_time_w4  \\\n",
       "count  572171.000000    572171.000000  572171.000000  572171.000000   \n",
       "mean     5866.262451         0.235344      32.324550    5131.638262   \n",
       "std     19763.713840         0.330501     101.013392   18419.505639   \n",
       "min         0.000000         0.000000       0.000000       0.000000   \n",
       "25%         0.000000         0.000000       0.000000       0.000000   \n",
       "50%         0.000000         0.000000       0.000000       0.000000   \n",
       "75%      2244.000000         0.513818      10.000000    1114.500000   \n",
       "max    586629.000000         1.000000    1462.000000  565866.000000   \n",
       "\n",
       "       avg_play_pct_w4   play_recency  \n",
       "count    572171.000000  572171.000000  \n",
       "mean          0.198535      17.790486  \n",
       "std           0.315848      12.740300  \n",
       "min           0.000000       1.000000  \n",
       "25%           0.000000       4.000000  \n",
       "50%           0.000000      18.000000  \n",
       "75%           0.408638      32.000000  \n",
       "max           1.000000      33.000000  "
      ]
     },
     "execution_count": 221,
     "metadata": {},
     "output_type": "execute_result"
    }
   ],
   "source": [
    "churn_play_clean.describe()"
   ]
  },
  {
   "cell_type": "code",
   "execution_count": 202,
   "metadata": {},
   "outputs": [
    {
     "data": {
      "text/plain": [
       "uid                1.691276e+08\n",
       "freq_w1            1.338830e+03\n",
       "play_time_w1       3.824063e+05\n",
       "avg_play_pct_w1    1.000000e+00\n",
       "freq_w2            1.147830e+03\n",
       "play_time_w2       2.493060e+05\n",
       "avg_play_pct_w2    1.000000e+00\n",
       "freq_w3            1.109830e+03\n",
       "play_time_w3       2.313979e+05\n",
       "avg_play_pct_w3    1.000000e+00\n",
       "freq_w4            1.091000e+03\n",
       "play_time_w4       2.176309e+05\n",
       "avg_play_pct_w4    1.000000e+00\n",
       "play_recency       3.300000e+01\n",
       "Name: 0.999, dtype: float64"
      ]
     },
     "execution_count": 202,
     "metadata": {},
     "output_type": "execute_result"
    }
   ],
   "source": [
    "churn_play_clean.drop(['device'], axis=1).quantile(0.999)\n",
    "# the values have become much more reasonable"
   ]
  },
  {
   "cell_type": "code",
   "execution_count": 209,
   "metadata": {},
   "outputs": [
    {
     "name": "stdout",
     "output_type": "stream",
     "text": [
      "97.98% of play data are reserved.\n"
     ]
    }
   ],
   "source": [
    "print \"{:0.2f}% of play data are reserved.\".format(100.0 * churn_play_clean.shape[0] / churn_play.shape[0])"
   ]
  },
  {
   "cell_type": "code",
   "execution_count": 141,
   "metadata": {},
   "outputs": [
    {
     "data": {
      "text/html": [
       "<div>\n",
       "<style>\n",
       "    .dataframe thead tr:only-child th {\n",
       "        text-align: right;\n",
       "    }\n",
       "\n",
       "    .dataframe thead th {\n",
       "        text-align: left;\n",
       "    }\n",
       "\n",
       "    .dataframe tbody tr th {\n",
       "        vertical-align: top;\n",
       "    }\n",
       "</style>\n",
       "<table border=\"1\" class=\"dataframe\">\n",
       "  <thead>\n",
       "    <tr style=\"text-align: right;\">\n",
       "      <th></th>\n",
       "      <th>uid</th>\n",
       "      <th>down_freq_w1</th>\n",
       "      <th>down_uniq_song_num_w1</th>\n",
       "      <th>down_uniq_singer_num_w1</th>\n",
       "      <th>down_freq_w2</th>\n",
       "      <th>down_uniq_song_num_w2</th>\n",
       "      <th>down_uniq_singer_num_w2</th>\n",
       "      <th>down_freq_w3</th>\n",
       "      <th>down_uniq_song_num_w3</th>\n",
       "      <th>down_uniq_singer_num_w3</th>\n",
       "      <th>down_freq_w4</th>\n",
       "      <th>down_uniq_song_num_w4</th>\n",
       "      <th>down_uniq_singer_num_w4</th>\n",
       "      <th>down_recency</th>\n",
       "    </tr>\n",
       "  </thead>\n",
       "  <tbody>\n",
       "    <tr>\n",
       "      <th>32</th>\n",
       "      <td>1685126</td>\n",
       "      <td>100701.0</td>\n",
       "      <td>24212.0</td>\n",
       "      <td>5410.0</td>\n",
       "      <td>66386.0</td>\n",
       "      <td>14743.0</td>\n",
       "      <td>3588.0</td>\n",
       "      <td>70089.0</td>\n",
       "      <td>16751.0</td>\n",
       "      <td>4347.0</td>\n",
       "      <td>47946.0</td>\n",
       "      <td>11439.0</td>\n",
       "      <td>3442.0</td>\n",
       "      <td>1</td>\n",
       "    </tr>\n",
       "    <tr>\n",
       "      <th>663</th>\n",
       "      <td>37025504</td>\n",
       "      <td>63027.0</td>\n",
       "      <td>15494.0</td>\n",
       "      <td>4071.0</td>\n",
       "      <td>46918.0</td>\n",
       "      <td>11604.0</td>\n",
       "      <td>3609.0</td>\n",
       "      <td>67872.0</td>\n",
       "      <td>16227.0</td>\n",
       "      <td>4001.0</td>\n",
       "      <td>43341.0</td>\n",
       "      <td>9830.0</td>\n",
       "      <td>3058.0</td>\n",
       "      <td>1</td>\n",
       "    </tr>\n",
       "    <tr>\n",
       "      <th>21</th>\n",
       "      <td>1062806</td>\n",
       "      <td>48090.0</td>\n",
       "      <td>14355.0</td>\n",
       "      <td>4263.0</td>\n",
       "      <td>32297.0</td>\n",
       "      <td>11054.0</td>\n",
       "      <td>3519.0</td>\n",
       "      <td>40016.0</td>\n",
       "      <td>12366.0</td>\n",
       "      <td>4281.0</td>\n",
       "      <td>25704.0</td>\n",
       "      <td>7905.0</td>\n",
       "      <td>3009.0</td>\n",
       "      <td>1</td>\n",
       "    </tr>\n",
       "    <tr>\n",
       "      <th>35</th>\n",
       "      <td>1791497</td>\n",
       "      <td>40578.0</td>\n",
       "      <td>10754.0</td>\n",
       "      <td>3217.0</td>\n",
       "      <td>33164.0</td>\n",
       "      <td>8849.0</td>\n",
       "      <td>2932.0</td>\n",
       "      <td>33994.0</td>\n",
       "      <td>8806.0</td>\n",
       "      <td>3103.0</td>\n",
       "      <td>35818.0</td>\n",
       "      <td>8862.0</td>\n",
       "      <td>3043.0</td>\n",
       "      <td>1</td>\n",
       "    </tr>\n",
       "    <tr>\n",
       "      <th>6</th>\n",
       "      <td>497685</td>\n",
       "      <td>34622.0</td>\n",
       "      <td>11528.0</td>\n",
       "      <td>3434.0</td>\n",
       "      <td>26648.0</td>\n",
       "      <td>9750.0</td>\n",
       "      <td>2752.0</td>\n",
       "      <td>27618.0</td>\n",
       "      <td>9485.0</td>\n",
       "      <td>2758.0</td>\n",
       "      <td>20934.0</td>\n",
       "      <td>7129.0</td>\n",
       "      <td>2413.0</td>\n",
       "      <td>1</td>\n",
       "    </tr>\n",
       "  </tbody>\n",
       "</table>\n",
       "</div>"
      ],
      "text/plain": [
       "          uid  down_freq_w1  down_uniq_song_num_w1  down_uniq_singer_num_w1  \\\n",
       "32    1685126      100701.0                24212.0                   5410.0   \n",
       "663  37025504       63027.0                15494.0                   4071.0   \n",
       "21    1062806       48090.0                14355.0                   4263.0   \n",
       "35    1791497       40578.0                10754.0                   3217.0   \n",
       "6      497685       34622.0                11528.0                   3434.0   \n",
       "\n",
       "     down_freq_w2  down_uniq_song_num_w2  down_uniq_singer_num_w2  \\\n",
       "32        66386.0                14743.0                   3588.0   \n",
       "663       46918.0                11604.0                   3609.0   \n",
       "21        32297.0                11054.0                   3519.0   \n",
       "35        33164.0                 8849.0                   2932.0   \n",
       "6         26648.0                 9750.0                   2752.0   \n",
       "\n",
       "     down_freq_w3  down_uniq_song_num_w3  down_uniq_singer_num_w3  \\\n",
       "32        70089.0                16751.0                   4347.0   \n",
       "663       67872.0                16227.0                   4001.0   \n",
       "21        40016.0                12366.0                   4281.0   \n",
       "35        33994.0                 8806.0                   3103.0   \n",
       "6         27618.0                 9485.0                   2758.0   \n",
       "\n",
       "     down_freq_w4  down_uniq_song_num_w4  down_uniq_singer_num_w4  \\\n",
       "32        47946.0                11439.0                   3442.0   \n",
       "663       43341.0                 9830.0                   3058.0   \n",
       "21        25704.0                 7905.0                   3009.0   \n",
       "35        35818.0                 8862.0                   3043.0   \n",
       "6         20934.0                 7129.0                   2413.0   \n",
       "\n",
       "     down_recency  \n",
       "32              1  \n",
       "663             1  \n",
       "21              1  \n",
       "35              1  \n",
       "6               1  "
      ]
     },
     "execution_count": 141,
     "metadata": {},
     "output_type": "execute_result"
    }
   ],
   "source": [
    "churn_down.sort_values('down_freq_w1', ascending=False).head()"
   ]
  },
  {
   "cell_type": "code",
   "execution_count": 222,
   "metadata": {
    "collapsed": true
   },
   "outputs": [],
   "source": [
    "churn_down_clean = churn_down[(churn_down.down_freq_w1 < churn_down.down_freq_w1.quantile(0.999)) & \\\n",
    "                              (churn_down.down_freq_w2 < churn_down.down_freq_w2.quantile(0.999)) & \\\n",
    "                              (churn_down.down_freq_w3 < churn_down.down_freq_w3.quantile(0.999)) & \\\n",
    "                              (churn_down.down_freq_w4 < churn_down.down_freq_w4.quantile(0.999))]"
   ]
  },
  {
   "cell_type": "code",
   "execution_count": 224,
   "metadata": {},
   "outputs": [
    {
     "name": "stdout",
     "output_type": "stream",
     "text": [
      "99.67% of download data are reserved.\n"
     ]
    }
   ],
   "source": [
    "print \"{:0.2f}% of download data are reserved.\".format(100.0 * churn_down_clean.shape[0] / churn_down.shape[0])"
   ]
  },
  {
   "cell_type": "code",
   "execution_count": 225,
   "metadata": {},
   "outputs": [
    {
     "data": {
      "text/html": [
       "<div>\n",
       "<style>\n",
       "    .dataframe thead tr:only-child th {\n",
       "        text-align: right;\n",
       "    }\n",
       "\n",
       "    .dataframe thead th {\n",
       "        text-align: left;\n",
       "    }\n",
       "\n",
       "    .dataframe tbody tr th {\n",
       "        vertical-align: top;\n",
       "    }\n",
       "</style>\n",
       "<table border=\"1\" class=\"dataframe\">\n",
       "  <thead>\n",
       "    <tr style=\"text-align: right;\">\n",
       "      <th></th>\n",
       "      <th>uid</th>\n",
       "      <th>down_freq_w1</th>\n",
       "      <th>down_uniq_song_num_w1</th>\n",
       "      <th>down_uniq_singer_num_w1</th>\n",
       "      <th>down_freq_w2</th>\n",
       "      <th>down_uniq_song_num_w2</th>\n",
       "      <th>down_uniq_singer_num_w2</th>\n",
       "      <th>down_freq_w3</th>\n",
       "      <th>down_uniq_song_num_w3</th>\n",
       "      <th>down_uniq_singer_num_w3</th>\n",
       "      <th>down_freq_w4</th>\n",
       "      <th>down_uniq_song_num_w4</th>\n",
       "      <th>down_uniq_singer_num_w4</th>\n",
       "      <th>down_recency</th>\n",
       "    </tr>\n",
       "  </thead>\n",
       "  <tbody>\n",
       "    <tr>\n",
       "      <th>count</th>\n",
       "      <td>2.422120e+05</td>\n",
       "      <td>242212.000000</td>\n",
       "      <td>242212.000000</td>\n",
       "      <td>242212.000000</td>\n",
       "      <td>242212.000000</td>\n",
       "      <td>242212.000000</td>\n",
       "      <td>242212.000000</td>\n",
       "      <td>242212.000000</td>\n",
       "      <td>242212.000000</td>\n",
       "      <td>242212.000000</td>\n",
       "      <td>242212.000000</td>\n",
       "      <td>242212.000000</td>\n",
       "      <td>242212.000000</td>\n",
       "      <td>242212.000000</td>\n",
       "    </tr>\n",
       "    <tr>\n",
       "      <th>mean</th>\n",
       "      <td>1.673911e+08</td>\n",
       "      <td>13.890658</td>\n",
       "      <td>13.385274</td>\n",
       "      <td>6.199350</td>\n",
       "      <td>3.742663</td>\n",
       "      <td>3.639386</td>\n",
       "      <td>1.815269</td>\n",
       "      <td>2.816491</td>\n",
       "      <td>2.733217</td>\n",
       "      <td>1.406487</td>\n",
       "      <td>1.851882</td>\n",
       "      <td>1.660269</td>\n",
       "      <td>0.874845</td>\n",
       "      <td>20.641141</td>\n",
       "    </tr>\n",
       "    <tr>\n",
       "      <th>std</th>\n",
       "      <td>1.058378e+07</td>\n",
       "      <td>35.976224</td>\n",
       "      <td>34.049147</td>\n",
       "      <td>14.795603</td>\n",
       "      <td>15.490904</td>\n",
       "      <td>14.932480</td>\n",
       "      <td>7.052829</td>\n",
       "      <td>12.632788</td>\n",
       "      <td>12.129416</td>\n",
       "      <td>5.990273</td>\n",
       "      <td>9.620203</td>\n",
       "      <td>8.578373</td>\n",
       "      <td>4.299022</td>\n",
       "      <td>11.494548</td>\n",
       "    </tr>\n",
       "    <tr>\n",
       "      <th>min</th>\n",
       "      <td>3.681600e+04</td>\n",
       "      <td>0.000000</td>\n",
       "      <td>0.000000</td>\n",
       "      <td>0.000000</td>\n",
       "      <td>0.000000</td>\n",
       "      <td>0.000000</td>\n",
       "      <td>0.000000</td>\n",
       "      <td>0.000000</td>\n",
       "      <td>0.000000</td>\n",
       "      <td>0.000000</td>\n",
       "      <td>0.000000</td>\n",
       "      <td>0.000000</td>\n",
       "      <td>0.000000</td>\n",
       "      <td>1.000000</td>\n",
       "    </tr>\n",
       "    <tr>\n",
       "      <th>25%</th>\n",
       "      <td>1.680341e+08</td>\n",
       "      <td>1.000000</td>\n",
       "      <td>1.000000</td>\n",
       "      <td>0.000000</td>\n",
       "      <td>0.000000</td>\n",
       "      <td>0.000000</td>\n",
       "      <td>0.000000</td>\n",
       "      <td>0.000000</td>\n",
       "      <td>0.000000</td>\n",
       "      <td>0.000000</td>\n",
       "      <td>0.000000</td>\n",
       "      <td>0.000000</td>\n",
       "      <td>0.000000</td>\n",
       "      <td>10.000000</td>\n",
       "    </tr>\n",
       "    <tr>\n",
       "      <th>50%</th>\n",
       "      <td>1.684778e+08</td>\n",
       "      <td>3.000000</td>\n",
       "      <td>3.000000</td>\n",
       "      <td>1.000000</td>\n",
       "      <td>0.000000</td>\n",
       "      <td>0.000000</td>\n",
       "      <td>0.000000</td>\n",
       "      <td>0.000000</td>\n",
       "      <td>0.000000</td>\n",
       "      <td>0.000000</td>\n",
       "      <td>0.000000</td>\n",
       "      <td>0.000000</td>\n",
       "      <td>0.000000</td>\n",
       "      <td>24.000000</td>\n",
       "    </tr>\n",
       "    <tr>\n",
       "      <th>75%</th>\n",
       "      <td>1.687976e+08</td>\n",
       "      <td>12.000000</td>\n",
       "      <td>12.000000</td>\n",
       "      <td>6.000000</td>\n",
       "      <td>1.000000</td>\n",
       "      <td>1.000000</td>\n",
       "      <td>1.000000</td>\n",
       "      <td>1.000000</td>\n",
       "      <td>1.000000</td>\n",
       "      <td>0.000000</td>\n",
       "      <td>0.000000</td>\n",
       "      <td>0.000000</td>\n",
       "      <td>0.000000</td>\n",
       "      <td>32.000000</td>\n",
       "    </tr>\n",
       "    <tr>\n",
       "      <th>max</th>\n",
       "      <td>1.692623e+08</td>\n",
       "      <td>711.000000</td>\n",
       "      <td>701.000000</td>\n",
       "      <td>472.000000</td>\n",
       "      <td>354.000000</td>\n",
       "      <td>354.000000</td>\n",
       "      <td>245.000000</td>\n",
       "      <td>293.000000</td>\n",
       "      <td>293.000000</td>\n",
       "      <td>216.000000</td>\n",
       "      <td>259.000000</td>\n",
       "      <td>259.000000</td>\n",
       "      <td>206.000000</td>\n",
       "      <td>33.000000</td>\n",
       "    </tr>\n",
       "  </tbody>\n",
       "</table>\n",
       "</div>"
      ],
      "text/plain": [
       "                uid   down_freq_w1  down_uniq_song_num_w1  \\\n",
       "count  2.422120e+05  242212.000000          242212.000000   \n",
       "mean   1.673911e+08      13.890658              13.385274   \n",
       "std    1.058378e+07      35.976224              34.049147   \n",
       "min    3.681600e+04       0.000000               0.000000   \n",
       "25%    1.680341e+08       1.000000               1.000000   \n",
       "50%    1.684778e+08       3.000000               3.000000   \n",
       "75%    1.687976e+08      12.000000              12.000000   \n",
       "max    1.692623e+08     711.000000             701.000000   \n",
       "\n",
       "       down_uniq_singer_num_w1   down_freq_w2  down_uniq_song_num_w2  \\\n",
       "count            242212.000000  242212.000000          242212.000000   \n",
       "mean                  6.199350       3.742663               3.639386   \n",
       "std                  14.795603      15.490904              14.932480   \n",
       "min                   0.000000       0.000000               0.000000   \n",
       "25%                   0.000000       0.000000               0.000000   \n",
       "50%                   1.000000       0.000000               0.000000   \n",
       "75%                   6.000000       1.000000               1.000000   \n",
       "max                 472.000000     354.000000             354.000000   \n",
       "\n",
       "       down_uniq_singer_num_w2   down_freq_w3  down_uniq_song_num_w3  \\\n",
       "count            242212.000000  242212.000000          242212.000000   \n",
       "mean                  1.815269       2.816491               2.733217   \n",
       "std                   7.052829      12.632788              12.129416   \n",
       "min                   0.000000       0.000000               0.000000   \n",
       "25%                   0.000000       0.000000               0.000000   \n",
       "50%                   0.000000       0.000000               0.000000   \n",
       "75%                   1.000000       1.000000               1.000000   \n",
       "max                 245.000000     293.000000             293.000000   \n",
       "\n",
       "       down_uniq_singer_num_w3   down_freq_w4  down_uniq_song_num_w4  \\\n",
       "count            242212.000000  242212.000000          242212.000000   \n",
       "mean                  1.406487       1.851882               1.660269   \n",
       "std                   5.990273       9.620203               8.578373   \n",
       "min                   0.000000       0.000000               0.000000   \n",
       "25%                   0.000000       0.000000               0.000000   \n",
       "50%                   0.000000       0.000000               0.000000   \n",
       "75%                   0.000000       0.000000               0.000000   \n",
       "max                 216.000000     259.000000             259.000000   \n",
       "\n",
       "       down_uniq_singer_num_w4   down_recency  \n",
       "count            242212.000000  242212.000000  \n",
       "mean                  0.874845      20.641141  \n",
       "std                   4.299022      11.494548  \n",
       "min                   0.000000       1.000000  \n",
       "25%                   0.000000      10.000000  \n",
       "50%                   0.000000      24.000000  \n",
       "75%                   0.000000      32.000000  \n",
       "max                 206.000000      33.000000  "
      ]
     },
     "execution_count": 225,
     "metadata": {},
     "output_type": "execute_result"
    }
   ],
   "source": [
    "churn_down_clean.describe()"
   ]
  },
  {
   "cell_type": "code",
   "execution_count": 226,
   "metadata": {},
   "outputs": [
    {
     "data": {
      "text/plain": [
       "0.94249252720757026"
      ]
     },
     "execution_count": 226,
     "metadata": {},
     "output_type": "execute_result"
    }
   ],
   "source": [
    "churn_down_clean.uid.isin(churn_play_clean.uid).mean()\n",
    "# left join or outer join ???"
   ]
  },
  {
   "cell_type": "code",
   "execution_count": 228,
   "metadata": {},
   "outputs": [
    {
     "name": "stdout",
     "output_type": "stream",
     "text": [
      "(572171, 15) (242212, 14)\n"
     ]
    }
   ],
   "source": [
    "print churn_play_clean.shape, churn_down_clean.shape"
   ]
  },
  {
   "cell_type": "markdown",
   "metadata": {},
   "source": [
    "### Join play and download data"
   ]
  },
  {
   "cell_type": "code",
   "execution_count": 242,
   "metadata": {},
   "outputs": [],
   "source": [
    "churn_df = churn_play_clean.merge(churn_down_clean, how='left', on='uid')"
   ]
  },
  {
   "cell_type": "code",
   "execution_count": 243,
   "metadata": {},
   "outputs": [
    {
     "name": "stdout",
     "output_type": "stream",
     "text": [
      "(572171, 28) (572171, 15)\n"
     ]
    }
   ],
   "source": [
    "print churn_df.shape, churn_play_clean.shape"
   ]
  },
  {
   "cell_type": "code",
   "execution_count": 247,
   "metadata": {},
   "outputs": [],
   "source": [
    "churn_df.down_recency = churn_df.down_recency.fillna(-999)"
   ]
  },
  {
   "cell_type": "code",
   "execution_count": 306,
   "metadata": {
    "collapsed": true
   },
   "outputs": [],
   "source": [
    "churn_df.down_recency = churn_df.down_recency.astype(int)"
   ]
  },
  {
   "cell_type": "code",
   "execution_count": 249,
   "metadata": {},
   "outputs": [],
   "source": [
    "churn_df.fillna(0, inplace=True)"
   ]
  },
  {
   "cell_type": "code",
   "execution_count": 250,
   "metadata": {},
   "outputs": [
    {
     "name": "stdout",
     "output_type": "stream",
     "text": [
      "<class 'pandas.core.frame.DataFrame'>\n",
      "Int64Index: 572171 entries, 0 to 572170\n",
      "Data columns (total 28 columns):\n",
      "uid                        572171 non-null int64\n",
      "device                     572171 non-null object\n",
      "freq_w1                    572171 non-null float64\n",
      "play_time_w1               572171 non-null float64\n",
      "avg_play_pct_w1            572171 non-null float64\n",
      "freq_w2                    572171 non-null float64\n",
      "play_time_w2               572171 non-null float64\n",
      "avg_play_pct_w2            572171 non-null float64\n",
      "freq_w3                    572171 non-null float64\n",
      "play_time_w3               572171 non-null float64\n",
      "avg_play_pct_w3            572171 non-null float64\n",
      "freq_w4                    572171 non-null float64\n",
      "play_time_w4               572171 non-null float64\n",
      "avg_play_pct_w4            572171 non-null float64\n",
      "play_recency               572171 non-null int64\n",
      "down_freq_w1               572171 non-null float64\n",
      "down_uniq_song_num_w1      572171 non-null float64\n",
      "down_uniq_singer_num_w1    572171 non-null float64\n",
      "down_freq_w2               572171 non-null float64\n",
      "down_uniq_song_num_w2      572171 non-null float64\n",
      "down_uniq_singer_num_w2    572171 non-null float64\n",
      "down_freq_w3               572171 non-null float64\n",
      "down_uniq_song_num_w3      572171 non-null float64\n",
      "down_uniq_singer_num_w3    572171 non-null float64\n",
      "down_freq_w4               572171 non-null float64\n",
      "down_uniq_song_num_w4      572171 non-null float64\n",
      "down_uniq_singer_num_w4    572171 non-null float64\n",
      "down_recency               572171 non-null float64\n",
      "dtypes: float64(25), int64(2), object(1)\n",
      "memory usage: 126.6+ MB\n"
     ]
    }
   ],
   "source": [
    "churn_df.info()"
   ]
  },
  {
   "cell_type": "code",
   "execution_count": 257,
   "metadata": {},
   "outputs": [
    {
     "data": {
      "text/plain": [
       "ar    498866\n",
       "ip     73294\n",
       "mc         7\n",
       "wp         4\n",
       "Name: device, dtype: int64"
      ]
     },
     "execution_count": 257,
     "metadata": {},
     "output_type": "execute_result"
    }
   ],
   "source": [
    "churn_df.device.value_counts()"
   ]
  },
  {
   "cell_type": "code",
   "execution_count": 283,
   "metadata": {
    "collapsed": true
   },
   "outputs": [],
   "source": [
    "churn_df['device_is_android'] = (churn_df.device == 'ar').astype(int)"
   ]
  },
  {
   "cell_type": "code",
   "execution_count": 292,
   "metadata": {
    "collapsed": true
   },
   "outputs": [],
   "source": [
    "churn_df['churn_label'] = ((churn_df.freq_w4 == 0) & (churn_df.down_freq_w4 == 0)).astype(int)"
   ]
  },
  {
   "cell_type": "code",
   "execution_count": 293,
   "metadata": {},
   "outputs": [],
   "source": [
    "relevant_col = churn_df.columns[churn_df.columns.str.contains(\"android|1|2|3|recency|churn_label\")]"
   ]
  },
  {
   "cell_type": "code",
   "execution_count": 294,
   "metadata": {},
   "outputs": [
    {
     "name": "stdout",
     "output_type": "stream",
     "text": [
      "Index([u'freq_w1', u'play_time_w1', u'avg_play_pct_w1', u'freq_w2',\n",
      "       u'play_time_w2', u'avg_play_pct_w2', u'freq_w3', u'play_time_w3',\n",
      "       u'avg_play_pct_w3', u'play_recency', u'down_freq_w1',\n",
      "       u'down_uniq_song_num_w1', u'down_uniq_singer_num_w1', u'down_freq_w2',\n",
      "       u'down_uniq_song_num_w2', u'down_uniq_singer_num_w2', u'down_freq_w3',\n",
      "       u'down_uniq_song_num_w3', u'down_uniq_singer_num_w3', u'down_recency',\n",
      "       u'device_is_android', u'churn_label'],\n",
      "      dtype='object')\n"
     ]
    }
   ],
   "source": [
    "print relevant_col"
   ]
  },
  {
   "cell_type": "code",
   "execution_count": 295,
   "metadata": {},
   "outputs": [
    {
     "data": {
      "text/plain": [
       "0.6626096044713905"
      ]
     },
     "execution_count": 295,
     "metadata": {},
     "output_type": "execute_result"
    }
   ],
   "source": [
    "churn_df.churn_label.mean()"
   ]
  },
  {
   "cell_type": "code",
   "execution_count": 309,
   "metadata": {
    "collapsed": true
   },
   "outputs": [],
   "source": [
    "X = churn_df[relevant_col]"
   ]
  },
  {
   "cell_type": "code",
   "execution_count": 310,
   "metadata": {},
   "outputs": [
    {
     "data": {
      "text/plain": [
       "(572171, 22)"
      ]
     },
     "execution_count": 310,
     "metadata": {},
     "output_type": "execute_result"
    }
   ],
   "source": [
    "X.shape"
   ]
  },
  {
   "cell_type": "code",
   "execution_count": 311,
   "metadata": {},
   "outputs": [
    {
     "data": {
      "text/html": [
       "<div>\n",
       "<style>\n",
       "    .dataframe thead tr:only-child th {\n",
       "        text-align: right;\n",
       "    }\n",
       "\n",
       "    .dataframe thead th {\n",
       "        text-align: left;\n",
       "    }\n",
       "\n",
       "    .dataframe tbody tr th {\n",
       "        vertical-align: top;\n",
       "    }\n",
       "</style>\n",
       "<table border=\"1\" class=\"dataframe\">\n",
       "  <thead>\n",
       "    <tr style=\"text-align: right;\">\n",
       "      <th></th>\n",
       "      <th>freq_w1</th>\n",
       "      <th>play_time_w1</th>\n",
       "      <th>avg_play_pct_w1</th>\n",
       "      <th>freq_w2</th>\n",
       "      <th>play_time_w2</th>\n",
       "      <th>avg_play_pct_w2</th>\n",
       "      <th>freq_w3</th>\n",
       "      <th>play_time_w3</th>\n",
       "      <th>avg_play_pct_w3</th>\n",
       "      <th>play_recency</th>\n",
       "      <th>...</th>\n",
       "      <th>down_uniq_singer_num_w1</th>\n",
       "      <th>down_freq_w2</th>\n",
       "      <th>down_uniq_song_num_w2</th>\n",
       "      <th>down_uniq_singer_num_w2</th>\n",
       "      <th>down_freq_w3</th>\n",
       "      <th>down_uniq_song_num_w3</th>\n",
       "      <th>down_uniq_singer_num_w3</th>\n",
       "      <th>down_recency</th>\n",
       "      <th>device_is_android</th>\n",
       "      <th>churn_label</th>\n",
       "    </tr>\n",
       "  </thead>\n",
       "  <tbody>\n",
       "    <tr>\n",
       "      <th>0</th>\n",
       "      <td>45.0</td>\n",
       "      <td>9027.0</td>\n",
       "      <td>0.949343</td>\n",
       "      <td>114.0</td>\n",
       "      <td>24372.0</td>\n",
       "      <td>0.900190</td>\n",
       "      <td>109.0</td>\n",
       "      <td>24790.0</td>\n",
       "      <td>0.972819</td>\n",
       "      <td>1</td>\n",
       "      <td>...</td>\n",
       "      <td>0.0</td>\n",
       "      <td>0.0</td>\n",
       "      <td>0.0</td>\n",
       "      <td>0.0</td>\n",
       "      <td>0.0</td>\n",
       "      <td>0.0</td>\n",
       "      <td>0.0</td>\n",
       "      <td>-999</td>\n",
       "      <td>0</td>\n",
       "      <td>0</td>\n",
       "    </tr>\n",
       "    <tr>\n",
       "      <th>1</th>\n",
       "      <td>4.0</td>\n",
       "      <td>184611.0</td>\n",
       "      <td>1.000000</td>\n",
       "      <td>0.0</td>\n",
       "      <td>0.0</td>\n",
       "      <td>0.000000</td>\n",
       "      <td>0.0</td>\n",
       "      <td>0.0</td>\n",
       "      <td>0.000000</td>\n",
       "      <td>33</td>\n",
       "      <td>...</td>\n",
       "      <td>2.0</td>\n",
       "      <td>0.0</td>\n",
       "      <td>0.0</td>\n",
       "      <td>0.0</td>\n",
       "      <td>0.0</td>\n",
       "      <td>0.0</td>\n",
       "      <td>0.0</td>\n",
       "      <td>33</td>\n",
       "      <td>1</td>\n",
       "      <td>1</td>\n",
       "    </tr>\n",
       "    <tr>\n",
       "      <th>2</th>\n",
       "      <td>0.0</td>\n",
       "      <td>0.0</td>\n",
       "      <td>0.000000</td>\n",
       "      <td>2.0</td>\n",
       "      <td>102.0</td>\n",
       "      <td>0.325743</td>\n",
       "      <td>0.0</td>\n",
       "      <td>0.0</td>\n",
       "      <td>0.000000</td>\n",
       "      <td>18</td>\n",
       "      <td>...</td>\n",
       "      <td>0.0</td>\n",
       "      <td>0.0</td>\n",
       "      <td>0.0</td>\n",
       "      <td>0.0</td>\n",
       "      <td>0.0</td>\n",
       "      <td>0.0</td>\n",
       "      <td>0.0</td>\n",
       "      <td>-999</td>\n",
       "      <td>1</td>\n",
       "      <td>1</td>\n",
       "    </tr>\n",
       "    <tr>\n",
       "      <th>3</th>\n",
       "      <td>354.0</td>\n",
       "      <td>13547.0</td>\n",
       "      <td>0.148254</td>\n",
       "      <td>283.0</td>\n",
       "      <td>14781.0</td>\n",
       "      <td>0.202751</td>\n",
       "      <td>333.0</td>\n",
       "      <td>15397.0</td>\n",
       "      <td>0.179196</td>\n",
       "      <td>1</td>\n",
       "      <td>...</td>\n",
       "      <td>0.0</td>\n",
       "      <td>0.0</td>\n",
       "      <td>0.0</td>\n",
       "      <td>0.0</td>\n",
       "      <td>0.0</td>\n",
       "      <td>0.0</td>\n",
       "      <td>0.0</td>\n",
       "      <td>-999</td>\n",
       "      <td>1</td>\n",
       "      <td>0</td>\n",
       "    </tr>\n",
       "    <tr>\n",
       "      <th>4</th>\n",
       "      <td>13.0</td>\n",
       "      <td>780.0</td>\n",
       "      <td>0.239631</td>\n",
       "      <td>0.0</td>\n",
       "      <td>0.0</td>\n",
       "      <td>0.000000</td>\n",
       "      <td>10.0</td>\n",
       "      <td>1665.0</td>\n",
       "      <td>0.616586</td>\n",
       "      <td>9</td>\n",
       "      <td>...</td>\n",
       "      <td>0.0</td>\n",
       "      <td>0.0</td>\n",
       "      <td>0.0</td>\n",
       "      <td>0.0</td>\n",
       "      <td>0.0</td>\n",
       "      <td>0.0</td>\n",
       "      <td>0.0</td>\n",
       "      <td>-999</td>\n",
       "      <td>1</td>\n",
       "      <td>1</td>\n",
       "    </tr>\n",
       "  </tbody>\n",
       "</table>\n",
       "<p>5 rows × 22 columns</p>\n",
       "</div>"
      ],
      "text/plain": [
       "   freq_w1  play_time_w1  avg_play_pct_w1  freq_w2  play_time_w2  \\\n",
       "0     45.0        9027.0         0.949343    114.0       24372.0   \n",
       "1      4.0      184611.0         1.000000      0.0           0.0   \n",
       "2      0.0           0.0         0.000000      2.0         102.0   \n",
       "3    354.0       13547.0         0.148254    283.0       14781.0   \n",
       "4     13.0         780.0         0.239631      0.0           0.0   \n",
       "\n",
       "   avg_play_pct_w2  freq_w3  play_time_w3  avg_play_pct_w3  play_recency  \\\n",
       "0         0.900190    109.0       24790.0         0.972819             1   \n",
       "1         0.000000      0.0           0.0         0.000000            33   \n",
       "2         0.325743      0.0           0.0         0.000000            18   \n",
       "3         0.202751    333.0       15397.0         0.179196             1   \n",
       "4         0.000000     10.0        1665.0         0.616586             9   \n",
       "\n",
       "      ...       down_uniq_singer_num_w1  down_freq_w2  down_uniq_song_num_w2  \\\n",
       "0     ...                           0.0           0.0                    0.0   \n",
       "1     ...                           2.0           0.0                    0.0   \n",
       "2     ...                           0.0           0.0                    0.0   \n",
       "3     ...                           0.0           0.0                    0.0   \n",
       "4     ...                           0.0           0.0                    0.0   \n",
       "\n",
       "   down_uniq_singer_num_w2  down_freq_w3  down_uniq_song_num_w3  \\\n",
       "0                      0.0           0.0                    0.0   \n",
       "1                      0.0           0.0                    0.0   \n",
       "2                      0.0           0.0                    0.0   \n",
       "3                      0.0           0.0                    0.0   \n",
       "4                      0.0           0.0                    0.0   \n",
       "\n",
       "   down_uniq_singer_num_w3  down_recency  device_is_android  churn_label  \n",
       "0                      0.0          -999                  0            0  \n",
       "1                      0.0            33                  1            1  \n",
       "2                      0.0          -999                  1            1  \n",
       "3                      0.0          -999                  1            0  \n",
       "4                      0.0          -999                  1            1  \n",
       "\n",
       "[5 rows x 22 columns]"
      ]
     },
     "execution_count": 311,
     "metadata": {},
     "output_type": "execute_result"
    }
   ],
   "source": [
    "X.head()"
   ]
  },
  {
   "cell_type": "code",
   "execution_count": 312,
   "metadata": {},
   "outputs": [
    {
     "name": "stdout",
     "output_type": "stream",
     "text": [
      "<class 'pandas.core.frame.DataFrame'>\n",
      "Int64Index: 572171 entries, 0 to 572170\n",
      "Data columns (total 22 columns):\n",
      "freq_w1                    572171 non-null float64\n",
      "play_time_w1               572171 non-null float64\n",
      "avg_play_pct_w1            572171 non-null float64\n",
      "freq_w2                    572171 non-null float64\n",
      "play_time_w2               572171 non-null float64\n",
      "avg_play_pct_w2            572171 non-null float64\n",
      "freq_w3                    572171 non-null float64\n",
      "play_time_w3               572171 non-null float64\n",
      "avg_play_pct_w3            572171 non-null float64\n",
      "play_recency               572171 non-null int64\n",
      "down_freq_w1               572171 non-null float64\n",
      "down_uniq_song_num_w1      572171 non-null float64\n",
      "down_uniq_singer_num_w1    572171 non-null float64\n",
      "down_freq_w2               572171 non-null float64\n",
      "down_uniq_song_num_w2      572171 non-null float64\n",
      "down_uniq_singer_num_w2    572171 non-null float64\n",
      "down_freq_w3               572171 non-null float64\n",
      "down_uniq_song_num_w3      572171 non-null float64\n",
      "down_uniq_singer_num_w3    572171 non-null float64\n",
      "down_recency               572171 non-null int64\n",
      "device_is_android          572171 non-null int64\n",
      "churn_label                572171 non-null int64\n",
      "dtypes: float64(18), int64(4)\n",
      "memory usage: 120.4 MB\n"
     ]
    }
   ],
   "source": [
    "X.info()"
   ]
  },
  {
   "cell_type": "code",
   "execution_count": 313,
   "metadata": {
    "collapsed": true
   },
   "outputs": [],
   "source": [
    "X.to_csv('../data/churn_train.csv', index=False)"
   ]
  }
 ],
 "metadata": {
  "anaconda-cloud": {},
  "kernelspec": {
   "display_name": "Python [conda root]",
   "language": "python",
   "name": "conda-root-py"
  },
  "language_info": {
   "codemirror_mode": {
    "name": "ipython",
    "version": 2
   },
   "file_extension": ".py",
   "mimetype": "text/x-python",
   "name": "python",
   "nbconvert_exporter": "python",
   "pygments_lexer": "ipython2",
   "version": "2.7.13"
  }
 },
 "nbformat": 4,
 "nbformat_minor": 2
}
