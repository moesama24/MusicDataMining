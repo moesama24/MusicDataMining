{
 "cells": [
  {
   "cell_type": "code",
   "execution_count": 1,
   "metadata": {
    "collapsed": true
   },
   "outputs": [],
   "source": [
    "import pandas as pd\n",
    "import sqlite3 as sql"
   ]
  },
  {
   "cell_type": "code",
   "execution_count": 2,
   "metadata": {
    "collapsed": true
   },
   "outputs": [],
   "source": [
    "musicbox_conn = sql.connect(\"../data/musicbox.sqlite\")\n",
    "musicbox_conn.text_factory = str"
   ]
  },
  {
   "cell_type": "code",
   "execution_count": 3,
   "metadata": {},
   "outputs": [
    {
     "data": {
      "text/html": [
       "<div>\n",
       "<style>\n",
       "    .dataframe thead tr:only-child th {\n",
       "        text-align: right;\n",
       "    }\n",
       "\n",
       "    .dataframe thead th {\n",
       "        text-align: left;\n",
       "    }\n",
       "\n",
       "    .dataframe tbody tr th {\n",
       "        vertical-align: top;\n",
       "    }\n",
       "</style>\n",
       "<table border=\"1\" class=\"dataframe\">\n",
       "  <thead>\n",
       "    <tr style=\"text-align: right;\">\n",
       "      <th></th>\n",
       "      <th>type</th>\n",
       "      <th>name</th>\n",
       "      <th>tbl_name</th>\n",
       "      <th>rootpage</th>\n",
       "      <th>sql</th>\n",
       "    </tr>\n",
       "  </thead>\n",
       "  <tbody>\n",
       "    <tr>\n",
       "      <th>0</th>\n",
       "      <td>table</td>\n",
       "      <td>Down</td>\n",
       "      <td>Down</td>\n",
       "      <td>3</td>\n",
       "      <td>CREATE TABLE Down(\\n  uid INT,\\n  device TEXT,...</td>\n",
       "    </tr>\n",
       "    <tr>\n",
       "      <th>1</th>\n",
       "      <td>table</td>\n",
       "      <td>Play</td>\n",
       "      <td>Play</td>\n",
       "      <td>4</td>\n",
       "      <td>CREATE TABLE Play(\\n  uid INT,\\n  device TEXT,...</td>\n",
       "    </tr>\n",
       "    <tr>\n",
       "      <th>2</th>\n",
       "      <td>index</td>\n",
       "      <td>song_id_index</td>\n",
       "      <td>Play</td>\n",
       "      <td>6</td>\n",
       "      <td>CREATE INDEX song_id_index ON Play (song_id)</td>\n",
       "    </tr>\n",
       "    <tr>\n",
       "      <th>3</th>\n",
       "      <td>index</td>\n",
       "      <td>songid_songlength_idx</td>\n",
       "      <td>Play</td>\n",
       "      <td>5</td>\n",
       "      <td>CREATE INDEX songid_songlength_idx ON Play (so...</td>\n",
       "    </tr>\n",
       "    <tr>\n",
       "      <th>4</th>\n",
       "      <td>table</td>\n",
       "      <td>song_info</td>\n",
       "      <td>song_info</td>\n",
       "      <td>7</td>\n",
       "      <td>CREATE TABLE \"song_info\" (\\n\"song_id\" REAL,\\n ...</td>\n",
       "    </tr>\n",
       "    <tr>\n",
       "      <th>5</th>\n",
       "      <td>index</td>\n",
       "      <td>song_id_name_idx</td>\n",
       "      <td>song_info</td>\n",
       "      <td>8</td>\n",
       "      <td>CREATE INDEX song_id_name_idx ON song_info(son...</td>\n",
       "    </tr>\n",
       "    <tr>\n",
       "      <th>6</th>\n",
       "      <td>table</td>\n",
       "      <td>Play_new</td>\n",
       "      <td>Play_new</td>\n",
       "      <td>9</td>\n",
       "      <td>CREATE TABLE Play_new(\\n  uid INT,\\n  device T...</td>\n",
       "    </tr>\n",
       "    <tr>\n",
       "      <th>7</th>\n",
       "      <td>index</td>\n",
       "      <td>date_uid_idx</td>\n",
       "      <td>Play_new</td>\n",
       "      <td>10</td>\n",
       "      <td>CREATE INDEX date_uid_idx ON Play_new (date, uid)</td>\n",
       "    </tr>\n",
       "  </tbody>\n",
       "</table>\n",
       "</div>"
      ],
      "text/plain": [
       "    type                   name   tbl_name  rootpage  \\\n",
       "0  table                   Down       Down         3   \n",
       "1  table                   Play       Play         4   \n",
       "2  index          song_id_index       Play         6   \n",
       "3  index  songid_songlength_idx       Play         5   \n",
       "4  table              song_info  song_info         7   \n",
       "5  index       song_id_name_idx  song_info         8   \n",
       "6  table               Play_new   Play_new         9   \n",
       "7  index           date_uid_idx   Play_new        10   \n",
       "\n",
       "                                                 sql  \n",
       "0  CREATE TABLE Down(\\n  uid INT,\\n  device TEXT,...  \n",
       "1  CREATE TABLE Play(\\n  uid INT,\\n  device TEXT,...  \n",
       "2       CREATE INDEX song_id_index ON Play (song_id)  \n",
       "3  CREATE INDEX songid_songlength_idx ON Play (so...  \n",
       "4  CREATE TABLE \"song_info\" (\\n\"song_id\" REAL,\\n ...  \n",
       "5  CREATE INDEX song_id_name_idx ON song_info(son...  \n",
       "6  CREATE TABLE Play_new(\\n  uid INT,\\n  device T...  \n",
       "7  CREATE INDEX date_uid_idx ON Play_new (date, uid)  "
      ]
     },
     "execution_count": 3,
     "metadata": {},
     "output_type": "execute_result"
    }
   ],
   "source": [
    "pd.read_sql(\"SELECT * FROM sqlite_master\", musicbox_conn)"
   ]
  },
  {
   "cell_type": "code",
   "execution_count": 4,
   "metadata": {},
   "outputs": [
    {
     "data": {
      "text/html": [
       "<div>\n",
       "<style>\n",
       "    .dataframe thead tr:only-child th {\n",
       "        text-align: right;\n",
       "    }\n",
       "\n",
       "    .dataframe thead th {\n",
       "        text-align: left;\n",
       "    }\n",
       "\n",
       "    .dataframe tbody tr th {\n",
       "        vertical-align: top;\n",
       "    }\n",
       "</style>\n",
       "<table border=\"1\" class=\"dataframe\">\n",
       "  <thead>\n",
       "    <tr style=\"text-align: right;\">\n",
       "      <th></th>\n",
       "      <th>uid</th>\n",
       "      <th>device</th>\n",
       "      <th>song_id</th>\n",
       "      <th>song_name</th>\n",
       "      <th>singer</th>\n",
       "      <th>play_time</th>\n",
       "      <th>song_length</th>\n",
       "      <th>date</th>\n",
       "    </tr>\n",
       "  </thead>\n",
       "  <tbody>\n",
       "    <tr>\n",
       "      <th>0</th>\n",
       "      <td>0</td>\n",
       "      <td>ar</td>\n",
       "      <td>0.0</td>\n",
       "      <td>\u0003花雨</td>\n",
       "      <td>\u0003張清</td>\n",
       "      <td>40384.0</td>\n",
       "      <td>297.0</td>\n",
       "      <td>2017-04-08</td>\n",
       "    </tr>\n",
       "    <tr>\n",
       "      <th>1</th>\n",
       "      <td>0</td>\n",
       "      <td>ar</td>\n",
       "      <td>0.0</td>\n",
       "      <td>\u0003花雨</td>\n",
       "      <td>\u0003張清</td>\n",
       "      <td>4974.0</td>\n",
       "      <td>297.0</td>\n",
       "      <td>2017-04-08</td>\n",
       "    </tr>\n",
       "    <tr>\n",
       "      <th>2</th>\n",
       "      <td>0</td>\n",
       "      <td>ar</td>\n",
       "      <td>0.0</td>\n",
       "      <td>\u0003花雨</td>\n",
       "      <td>\u0003張清</td>\n",
       "      <td>40384.0</td>\n",
       "      <td>297.0</td>\n",
       "      <td>2017-04-08</td>\n",
       "    </tr>\n",
       "    <tr>\n",
       "      <th>3</th>\n",
       "      <td>0</td>\n",
       "      <td>ar</td>\n",
       "      <td>0.0</td>\n",
       "      <td>\u0003花雨</td>\n",
       "      <td>\u0003張清</td>\n",
       "      <td>4974.0</td>\n",
       "      <td>297.0</td>\n",
       "      <td>2017-04-08</td>\n",
       "    </tr>\n",
       "    <tr>\n",
       "      <th>4</th>\n",
       "      <td>0</td>\n",
       "      <td>ar</td>\n",
       "      <td>0.0</td>\n",
       "      <td>\u0003花雨</td>\n",
       "      <td>\u0003張清</td>\n",
       "      <td>40384.0</td>\n",
       "      <td>297.0</td>\n",
       "      <td>2017-04-08</td>\n",
       "    </tr>\n",
       "  </tbody>\n",
       "</table>\n",
       "</div>"
      ],
      "text/plain": [
       "   uid device  song_id song_name singer  play_time  song_length        date\n",
       "0    0     ar      0.0       \u0003花雨    \u0003張清    40384.0        297.0  2017-04-08\n",
       "1    0     ar      0.0       \u0003花雨    \u0003張清     4974.0        297.0  2017-04-08\n",
       "2    0     ar      0.0       \u0003花雨    \u0003張清    40384.0        297.0  2017-04-08\n",
       "3    0     ar      0.0       \u0003花雨    \u0003張清     4974.0        297.0  2017-04-08\n",
       "4    0     ar      0.0       \u0003花雨    \u0003張清    40384.0        297.0  2017-04-08"
      ]
     },
     "execution_count": 4,
     "metadata": {},
     "output_type": "execute_result"
    }
   ],
   "source": [
    "pd.read_sql(\"SELECT * FROM Play_new LIMIT 5\", musicbox_conn)"
   ]
  },
  {
   "cell_type": "code",
   "execution_count": 6,
   "metadata": {},
   "outputs": [
    {
     "data": {
      "text/html": [
       "<div>\n",
       "<style>\n",
       "    .dataframe thead tr:only-child th {\n",
       "        text-align: right;\n",
       "    }\n",
       "\n",
       "    .dataframe thead th {\n",
       "        text-align: left;\n",
       "    }\n",
       "\n",
       "    .dataframe tbody tr th {\n",
       "        vertical-align: top;\n",
       "    }\n",
       "</style>\n",
       "<table border=\"1\" class=\"dataframe\">\n",
       "  <thead>\n",
       "    <tr style=\"text-align: right;\">\n",
       "      <th></th>\n",
       "      <th>COUNT(*)</th>\n",
       "    </tr>\n",
       "  </thead>\n",
       "  <tbody>\n",
       "    <tr>\n",
       "      <th>0</th>\n",
       "      <td>163589120</td>\n",
       "    </tr>\n",
       "  </tbody>\n",
       "</table>\n",
       "</div>"
      ],
      "text/plain": [
       "    COUNT(*)\n",
       "0  163589120"
      ]
     },
     "execution_count": 6,
     "metadata": {},
     "output_type": "execute_result"
    }
   ],
   "source": [
    "pd.read_sql(\"SELECT COUNT(*) FROM Play_new\", musicbox_conn)"
   ]
  },
  {
   "cell_type": "code",
   "execution_count": 7,
   "metadata": {},
   "outputs": [
    {
     "data": {
      "text/html": [
       "<div>\n",
       "<style>\n",
       "    .dataframe thead tr:only-child th {\n",
       "        text-align: right;\n",
       "    }\n",
       "\n",
       "    .dataframe thead th {\n",
       "        text-align: left;\n",
       "    }\n",
       "\n",
       "    .dataframe tbody tr th {\n",
       "        vertical-align: top;\n",
       "    }\n",
       "</style>\n",
       "<table border=\"1\" class=\"dataframe\">\n",
       "  <thead>\n",
       "    <tr style=\"text-align: right;\">\n",
       "      <th></th>\n",
       "      <th>COUNT(*)</th>\n",
       "    </tr>\n",
       "  </thead>\n",
       "  <tbody>\n",
       "    <tr>\n",
       "      <th>0</th>\n",
       "      <td>164400821</td>\n",
       "    </tr>\n",
       "  </tbody>\n",
       "</table>\n",
       "</div>"
      ],
      "text/plain": [
       "    COUNT(*)\n",
       "0  164400821"
      ]
     },
     "execution_count": 7,
     "metadata": {},
     "output_type": "execute_result"
    }
   ],
   "source": [
    "pd.read_sql(\"SELECT COUNT(*) FROM Play\", musicbox_conn)"
   ]
  },
  {
   "cell_type": "code",
   "execution_count": 37,
   "metadata": {},
   "outputs": [
    {
     "name": "stdout",
     "output_type": "stream",
     "text": [
      "CPU times: user 4.87 s, sys: 226 ms, total: 5.09 s\n",
      "Wall time: 5.12 s\n"
     ]
    }
   ],
   "source": [
    "# extremely large play_time\n",
    "# first aggregate date per day, but would be problematic when deal with average play percentage\n",
    "\"\"\"\n",
    "SELECT\n",
    "    uid, device,\n",
    "    SUM(CASE WHEN date BETWEEN '2017-03-30' AND '2017-04-09' THEN freq ELSE NULL END) AS w1_freq,\n",
    "    SUM(CASE WHEN date BETWEEN '2017-03-30' AND '2017-04-09' THEN total_play_time ELSE NULL END) AS w1_play_time,\n",
    "\n",
    "    SUM(CASE WHEN date BETWEEN '2017-04-10' AND '2017-04-20' THEN freq ELSE NULL END) AS w2_freq,\n",
    "    SUM(CASE WHEN date BETWEEN '2017-04-10' AND '2017-04-20' THEN total_play_time ELSE NULL END) AS w2_play_time,\n",
    "    \n",
    "    SUM(CASE WHEN date BETWEEN '2017-04-21' AND '2017-05-01' THEN freq ELSE NULL END) AS w3_freq,\n",
    "    SUM(CASE WHEN date BETWEEN '2017-04-21' AND '2017-05-01' THEN total_play_time ELSE NULL END) AS w3_play_time,\n",
    "    \n",
    "    SUM(CASE WHEN date BETWEEN '2017-05-02' AND '2017-05-12' THEN freq ELSE NULL END) AS w4_freq,\n",
    "    SUM(CASE WHEN date BETWEEN '2017-05-02' AND '2017-05-12' THEN total_play_time ELSE NULL END) AS w4_play_time,\n",
    "FROM\n",
    "    (\n",
    "    SELECT \n",
    "        uid, date, device\n",
    "        COUNT(1) AS freq, \n",
    "        SUM(play_time) AS total_play_time,\n",
    "        SUM(CASE WHEN play_time / song_length  > 1 THEN 1.0 ELSE play_time / song_length END) AS sum_daily_play_pct,\n",
    "    FROM Play\n",
    "    GROUP BY 1, 2 \n",
    "    ) sub\n",
    "GROUP BY\n",
    "    1\n",
    "\"\"\""
   ]
  },
  {
   "cell_type": "code",
   "execution_count": 8,
   "metadata": {},
   "outputs": [
    {
     "name": "stdout",
     "output_type": "stream",
     "text": [
      "CPU times: user 8min 46s, sys: 39 s, total: 9min 25s\n",
      "Wall time: 10min 47s\n"
     ]
    },
    {
     "data": {
      "text/plain": [
       "<sqlite3.Cursor at 0x109ebef80>"
      ]
     },
     "execution_count": 8,
     "metadata": {},
     "output_type": "execute_result"
    }
   ],
   "source": [
    "%%time\n",
    "musicbox_conn.execute(\"CREATE INDEX date_uid_idx ON Play_new (date, uid);\")"
   ]
  },
  {
   "cell_type": "code",
   "execution_count": 5,
   "metadata": {},
   "outputs": [
    {
     "name": "stdout",
     "output_type": "stream",
     "text": [
      "CPU times: user 3 µs, sys: 2 µs, total: 5 µs\n",
      "Wall time: 5.96 µs\n"
     ]
    }
   ],
   "source": [
    "%%time\n",
    "churn_df = pd.read_sql(\"\"\"\n",
    "SELECT\n",
    "    uid, device,\n",
    "    SUM(CASE WHEN time_window = 'w1' THEN freq ELSE NULL END) AS freq_w1,\n",
    "    SUM(CASE WHEN time_window = 'w1' THEN total_play_time ELSE NULL END) AS play_time_w1,\n",
    "    SUM(CASE WHEN time_window = 'w1' THEN avg_play_pct ELSE NULL END) AS avg_play_pct_w1,\n",
    "    \n",
    "    SUM(CASE WHEN time_window = 'w2' THEN freq ELSE NULL END) AS freq_w2,\n",
    "    SUM(CASE WHEN time_window = 'w2' THEN total_play_time ELSE NULL END) AS play_time_w2,\n",
    "    SUM(CASE WHEN time_window = 'w2' THEN avg_play_pct ELSE NULL END) AS avg_play_pct_w2,\n",
    "    \n",
    "    SUM(CASE WHEN time_window = 'w3' THEN freq ELSE NULL END) AS freq_w3,\n",
    "    SUM(CASE WHEN time_window = 'w3' THEN total_play_time ELSE NULL END) AS play_time_w3,\n",
    "    SUM(CASE WHEN time_window = 'w3' THEN avg_play_pct ELSE NULL END) AS avg_play_pct_w3,\n",
    "    \n",
    "    SUM(CASE WHEN time_window = 'w4' THEN freq ELSE NULL END) AS freq_w4,\n",
    "    SUM(CASE WHEN time_window = 'w4' THEN total_play_time ELSE NULL END) AS play_time_w4,\n",
    "    SUM(CASE WHEN time_window = 'w4' THEN avg_play_pct ELSE NULL END) AS avg_play_pct_w4,\n",
    "    \n",
    "FROM\n",
    "    (\n",
    "    SELECT \n",
    "        uid,\n",
    "        CASE WHEN date BETWEEN '2017-03-30' AND '2017-04-09' THEN 'w1'\n",
    "             WHEN date BETWEEN '2017-04-10' AND '2017-04-20' THEN 'w2'\n",
    "             WHEN date BETWEEN '2017-04-21' AND '2017-05-01' THEN 'w3'\n",
    "             WHEN date BETWEEN '2017-05-02' AND '2017-05-12' THEN 'w4' END AS time_window,\n",
    "        device,\n",
    "        COUNT(1) AS freq,\n",
    "        SUM(play_time) AS total_play_time,\n",
    "        AVG(CASE WHEN play_time / song_length  > 1 THEN 1.0 ELSE play_time / song_length END) AS avg_play_pct,    \n",
    "    FROM Play_new\n",
    "    WHERE\n",
    "        date > '2017-03-29'\n",
    "    GROUP BY 1, 2\n",
    "    ) sub\n",
    "\n",
    "GROUP BY uid\n",
    "\"\"\", musicbox_conn)"
   ]
  },
  {
   "cell_type": "code",
   "execution_count": 6,
   "metadata": {},
   "outputs": [
    {
     "name": "stderr",
     "output_type": "stream",
     "text": [
      "ERROR:root:An unexpected error occurred while tokenizing input\n",
      "The following traceback may be corrupted or invalid\n",
      "The error message is: ('EOF in multi-line string', (1, 0))\n",
      "\n"
     ]
    },
    {
     "ename": "DatabaseError",
     "evalue": "Execution failed on sql '\nSELECT \n    uid,\n    CASE WHEN date BETWEEN '2017-03-30' AND '2017-04-09' THEN 'w1'\n         WHEN date BETWEEN '2017-04-10' AND '2017-04-20' THEN 'w2'\n         WHEN date BETWEEN '2017-04-21' AND '2017-05-01' THEN 'w3'\n         WHEN date BETWEEN '2017-05-02' AND '2017-05-12' THEN 'w4' END AS time_window,\n    device,\n    COUNT(1) AS freq,\n    SUM(play_time) AS total_play_time,\n    AVG(CASE WHEN play_time / song_length  > 1 THEN 1.0 ELSE play_time / song_length END) AS avg_play_pct,    \nFROM Play_new\nWHERE\n    date > '2017-03-29'\nGROUP BY 1, 2\n': near \"FROM\": syntax error",
     "output_type": "error",
     "traceback": [
      "\u001b[0;31m---------------------------------------------------------------------------\u001b[0m",
      "\u001b[0;31mDatabaseError\u001b[0m                             Traceback (most recent call last)",
      "\u001b[0;32m<ipython-input-6-dffd29744ad7>\u001b[0m in \u001b[0;36m<module>\u001b[0;34m()\u001b[0m\n\u001b[1;32m     14\u001b[0m     \u001b[0mdate\u001b[0m \u001b[0;34m>\u001b[0m \u001b[0;34m'2017-03-29'\u001b[0m\u001b[0;34m\u001b[0m\u001b[0m\n\u001b[1;32m     15\u001b[0m \u001b[0mGROUP\u001b[0m \u001b[0mBY\u001b[0m \u001b[0;36m1\u001b[0m\u001b[0;34m,\u001b[0m \u001b[0;36m2\u001b[0m\u001b[0;34m\u001b[0m\u001b[0m\n\u001b[0;32m---> 16\u001b[0;31m \"\"\", musicbox_conn)\n\u001b[0m",
      "\u001b[0;32m/Users/Meng/anaconda/lib/python2.7/site-packages/pandas/io/sql.pyc\u001b[0m in \u001b[0;36mread_sql\u001b[0;34m(sql, con, index_col, coerce_float, params, parse_dates, columns, chunksize)\u001b[0m\n\u001b[1;32m    398\u001b[0m             \u001b[0msql\u001b[0m\u001b[0;34m,\u001b[0m \u001b[0mindex_col\u001b[0m\u001b[0;34m=\u001b[0m\u001b[0mindex_col\u001b[0m\u001b[0;34m,\u001b[0m \u001b[0mparams\u001b[0m\u001b[0;34m=\u001b[0m\u001b[0mparams\u001b[0m\u001b[0;34m,\u001b[0m\u001b[0;34m\u001b[0m\u001b[0m\n\u001b[1;32m    399\u001b[0m             \u001b[0mcoerce_float\u001b[0m\u001b[0;34m=\u001b[0m\u001b[0mcoerce_float\u001b[0m\u001b[0;34m,\u001b[0m \u001b[0mparse_dates\u001b[0m\u001b[0;34m=\u001b[0m\u001b[0mparse_dates\u001b[0m\u001b[0;34m,\u001b[0m\u001b[0;34m\u001b[0m\u001b[0m\n\u001b[0;32m--> 400\u001b[0;31m             chunksize=chunksize)\n\u001b[0m\u001b[1;32m    401\u001b[0m \u001b[0;34m\u001b[0m\u001b[0m\n\u001b[1;32m    402\u001b[0m     \u001b[0;32mtry\u001b[0m\u001b[0;34m:\u001b[0m\u001b[0;34m\u001b[0m\u001b[0m\n",
      "\u001b[0;32m/Users/Meng/anaconda/lib/python2.7/site-packages/pandas/io/sql.pyc\u001b[0m in \u001b[0;36mread_query\u001b[0;34m(self, sql, index_col, coerce_float, params, parse_dates, chunksize)\u001b[0m\n\u001b[1;32m   1437\u001b[0m \u001b[0;34m\u001b[0m\u001b[0m\n\u001b[1;32m   1438\u001b[0m         \u001b[0margs\u001b[0m \u001b[0;34m=\u001b[0m \u001b[0m_convert_params\u001b[0m\u001b[0;34m(\u001b[0m\u001b[0msql\u001b[0m\u001b[0;34m,\u001b[0m \u001b[0mparams\u001b[0m\u001b[0;34m)\u001b[0m\u001b[0;34m\u001b[0m\u001b[0m\n\u001b[0;32m-> 1439\u001b[0;31m         \u001b[0mcursor\u001b[0m \u001b[0;34m=\u001b[0m \u001b[0mself\u001b[0m\u001b[0;34m.\u001b[0m\u001b[0mexecute\u001b[0m\u001b[0;34m(\u001b[0m\u001b[0;34m*\u001b[0m\u001b[0margs\u001b[0m\u001b[0;34m)\u001b[0m\u001b[0;34m\u001b[0m\u001b[0m\n\u001b[0m\u001b[1;32m   1440\u001b[0m         \u001b[0mcolumns\u001b[0m \u001b[0;34m=\u001b[0m \u001b[0;34m[\u001b[0m\u001b[0mcol_desc\u001b[0m\u001b[0;34m[\u001b[0m\u001b[0;36m0\u001b[0m\u001b[0;34m]\u001b[0m \u001b[0;32mfor\u001b[0m \u001b[0mcol_desc\u001b[0m \u001b[0;32min\u001b[0m \u001b[0mcursor\u001b[0m\u001b[0;34m.\u001b[0m\u001b[0mdescription\u001b[0m\u001b[0;34m]\u001b[0m\u001b[0;34m\u001b[0m\u001b[0m\n\u001b[1;32m   1441\u001b[0m \u001b[0;34m\u001b[0m\u001b[0m\n",
      "\u001b[0;32m/Users/Meng/anaconda/lib/python2.7/site-packages/pandas/io/sql.pyc\u001b[0m in \u001b[0;36mexecute\u001b[0;34m(self, *args, **kwargs)\u001b[0m\n\u001b[1;32m   1414\u001b[0m             ex = DatabaseError(\n\u001b[1;32m   1415\u001b[0m                 \"Execution failed on sql '%s': %s\" % (args[0], exc))\n\u001b[0;32m-> 1416\u001b[0;31m             \u001b[0mraise_with_traceback\u001b[0m\u001b[0;34m(\u001b[0m\u001b[0mex\u001b[0m\u001b[0;34m)\u001b[0m\u001b[0;34m\u001b[0m\u001b[0m\n\u001b[0m\u001b[1;32m   1417\u001b[0m \u001b[0;34m\u001b[0m\u001b[0m\n\u001b[1;32m   1418\u001b[0m     \u001b[0;34m@\u001b[0m\u001b[0mstaticmethod\u001b[0m\u001b[0;34m\u001b[0m\u001b[0m\n",
      "\u001b[0;32m/Users/Meng/anaconda/lib/python2.7/site-packages/pandas/io/sql.pyc\u001b[0m in \u001b[0;36mexecute\u001b[0;34m(self, *args, **kwargs)\u001b[0m\n\u001b[1;32m   1402\u001b[0m                 \u001b[0mcur\u001b[0m\u001b[0;34m.\u001b[0m\u001b[0mexecute\u001b[0m\u001b[0;34m(\u001b[0m\u001b[0;34m*\u001b[0m\u001b[0margs\u001b[0m\u001b[0;34m,\u001b[0m \u001b[0;34m**\u001b[0m\u001b[0mkwargs\u001b[0m\u001b[0;34m)\u001b[0m\u001b[0;34m\u001b[0m\u001b[0m\n\u001b[1;32m   1403\u001b[0m             \u001b[0;32melse\u001b[0m\u001b[0;34m:\u001b[0m\u001b[0;34m\u001b[0m\u001b[0m\n\u001b[0;32m-> 1404\u001b[0;31m                 \u001b[0mcur\u001b[0m\u001b[0;34m.\u001b[0m\u001b[0mexecute\u001b[0m\u001b[0;34m(\u001b[0m\u001b[0;34m*\u001b[0m\u001b[0margs\u001b[0m\u001b[0;34m)\u001b[0m\u001b[0;34m\u001b[0m\u001b[0m\n\u001b[0m\u001b[1;32m   1405\u001b[0m             \u001b[0;32mreturn\u001b[0m \u001b[0mcur\u001b[0m\u001b[0;34m\u001b[0m\u001b[0m\n\u001b[1;32m   1406\u001b[0m         \u001b[0;32mexcept\u001b[0m \u001b[0mException\u001b[0m \u001b[0;32mas\u001b[0m \u001b[0mexc\u001b[0m\u001b[0;34m:\u001b[0m\u001b[0;34m\u001b[0m\u001b[0m\n",
      "\u001b[0;31mDatabaseError\u001b[0m: Execution failed on sql '\nSELECT \n    uid,\n    CASE WHEN date BETWEEN '2017-03-30' AND '2017-04-09' THEN 'w1'\n         WHEN date BETWEEN '2017-04-10' AND '2017-04-20' THEN 'w2'\n         WHEN date BETWEEN '2017-04-21' AND '2017-05-01' THEN 'w3'\n         WHEN date BETWEEN '2017-05-02' AND '2017-05-12' THEN 'w4' END AS time_window,\n    device,\n    COUNT(1) AS freq,\n    SUM(play_time) AS total_play_time,\n    AVG(CASE WHEN play_time / song_length  > 1 THEN 1.0 ELSE play_time / song_length END) AS avg_play_pct,    \nFROM Play_new\nWHERE\n    date > '2017-03-29'\nGROUP BY 1, 2\n': near \"FROM\": syntax error"
     ]
    }
   ],
   "source": [
    "df_tmp = pd.read_sql(\"\"\"\n",
    "SELECT \n",
    "    uid,\n",
    "    CASE WHEN date BETWEEN '2017-03-30' AND '2017-04-09' THEN 'w1'\n",
    "         WHEN date BETWEEN '2017-04-10' AND '2017-04-20' THEN 'w2'\n",
    "         WHEN date BETWEEN '2017-04-21' AND '2017-05-01' THEN 'w3'\n",
    "         WHEN date BETWEEN '2017-05-02' AND '2017-05-12' THEN 'w4' END AS time_window,\n",
    "    device,\n",
    "    COUNT(1) AS freq,\n",
    "    SUM(play_time) AS total_play_time,\n",
    "    AVG(CASE WHEN play_time / song_length  > 1 THEN 1.0 ELSE play_time / song_length END) AS avg_play_pct,    \n",
    "FROM Play_new\n",
    "WHERE\n",
    "    date > '2017-03-29'\n",
    "GROUP BY 1, 2\n",
    "\"\"\", musicbox_conn)"
   ]
  },
  {
   "cell_type": "code",
   "execution_count": null,
   "metadata": {
    "collapsed": true
   },
   "outputs": [],
   "source": [
    "churn_df.head()"
   ]
  },
  {
   "cell_type": "code",
   "execution_count": null,
   "metadata": {
    "collapsed": true
   },
   "outputs": [],
   "source": [
    "churn_df.to_sql('churn', musicbox_conn, if_exists=\"replace\", index=False)"
   ]
  },
  {
   "cell_type": "code",
   "execution_count": null,
   "metadata": {
    "collapsed": true
   },
   "outputs": [],
   "source": [
    "churn_df = churn_df[(churn_df.freq_w1 > 0) | (churn_df.freq_w2 > 0) | (churn_df.freq_w3 > 0)]"
   ]
  },
  {
   "cell_type": "code",
   "execution_count": null,
   "metadata": {
    "collapsed": true
   },
   "outputs": [],
   "source": [
    "churn_df.freq_w4 == 0"
   ]
  },
  {
   "cell_type": "code",
   "execution_count": null,
   "metadata": {
    "collapsed": true
   },
   "outputs": [],
   "source": []
  }
 ],
 "metadata": {
  "anaconda-cloud": {},
  "kernelspec": {
   "display_name": "Python [conda root]",
   "language": "python",
   "name": "conda-root-py"
  },
  "language_info": {
   "codemirror_mode": {
    "name": "ipython",
    "version": 2
   },
   "file_extension": ".py",
   "mimetype": "text/x-python",
   "name": "python",
   "nbconvert_exporter": "python",
   "pygments_lexer": "ipython2",
   "version": "2.7.13"
  }
 },
 "nbformat": 4,
 "nbformat_minor": 2
}
