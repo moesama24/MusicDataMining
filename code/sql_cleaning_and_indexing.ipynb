{
 "cells": [
  {
   "cell_type": "code",
   "execution_count": 1,
   "metadata": {
    "collapsed": true
   },
   "outputs": [],
   "source": [
    "import pandas as pd\n",
    "import sqlite3 as sql\n",
    "import matplotlib.pyplot as plt\n",
    "%matplotlib inline"
   ]
  },
  {
   "cell_type": "code",
   "execution_count": 2,
   "metadata": {
    "collapsed": true
   },
   "outputs": [],
   "source": [
    "musicbox_conn = sql.connect(\"../data/musicbox.sqlite\")\n",
    "musicbox_conn.text_factory = str"
   ]
  },
  {
   "cell_type": "code",
   "execution_count": 3,
   "metadata": {},
   "outputs": [
    {
     "data": {
      "text/html": [
       "<div>\n",
       "<style>\n",
       "    .dataframe thead tr:only-child th {\n",
       "        text-align: right;\n",
       "    }\n",
       "\n",
       "    .dataframe thead th {\n",
       "        text-align: left;\n",
       "    }\n",
       "\n",
       "    .dataframe tbody tr th {\n",
       "        vertical-align: top;\n",
       "    }\n",
       "</style>\n",
       "<table border=\"1\" class=\"dataframe\">\n",
       "  <thead>\n",
       "    <tr style=\"text-align: right;\">\n",
       "      <th></th>\n",
       "      <th>type</th>\n",
       "      <th>name</th>\n",
       "      <th>tbl_name</th>\n",
       "      <th>rootpage</th>\n",
       "      <th>sql</th>\n",
       "    </tr>\n",
       "  </thead>\n",
       "  <tbody>\n",
       "    <tr>\n",
       "      <th>0</th>\n",
       "      <td>table</td>\n",
       "      <td>Down</td>\n",
       "      <td>Down</td>\n",
       "      <td>3</td>\n",
       "      <td>CREATE TABLE Down(\\n  uid INT,\\n  device TEXT,...</td>\n",
       "    </tr>\n",
       "    <tr>\n",
       "      <th>1</th>\n",
       "      <td>table</td>\n",
       "      <td>Play</td>\n",
       "      <td>Play</td>\n",
       "      <td>4</td>\n",
       "      <td>CREATE TABLE Play(\\n  uid INT,\\n  device TEXT,...</td>\n",
       "    </tr>\n",
       "    <tr>\n",
       "      <th>2</th>\n",
       "      <td>index</td>\n",
       "      <td>song_id_index</td>\n",
       "      <td>Play</td>\n",
       "      <td>6</td>\n",
       "      <td>CREATE INDEX song_id_index ON Play (song_id)</td>\n",
       "    </tr>\n",
       "    <tr>\n",
       "      <th>3</th>\n",
       "      <td>index</td>\n",
       "      <td>songid_songlength_idx</td>\n",
       "      <td>Play</td>\n",
       "      <td>5</td>\n",
       "      <td>CREATE INDEX songid_songlength_idx ON Play (so...</td>\n",
       "    </tr>\n",
       "    <tr>\n",
       "      <th>4</th>\n",
       "      <td>table</td>\n",
       "      <td>song_info</td>\n",
       "      <td>song_info</td>\n",
       "      <td>7</td>\n",
       "      <td>CREATE TABLE \"song_info\" (\\n\"song_id\" REAL,\\n ...</td>\n",
       "    </tr>\n",
       "    <tr>\n",
       "      <th>5</th>\n",
       "      <td>index</td>\n",
       "      <td>song_id_name_idx</td>\n",
       "      <td>song_info</td>\n",
       "      <td>8</td>\n",
       "      <td>CREATE INDEX song_id_name_idx ON song_info(son...</td>\n",
       "    </tr>\n",
       "  </tbody>\n",
       "</table>\n",
       "</div>"
      ],
      "text/plain": [
       "    type                   name   tbl_name  rootpage  \\\n",
       "0  table                   Down       Down         3   \n",
       "1  table                   Play       Play         4   \n",
       "2  index          song_id_index       Play         6   \n",
       "3  index  songid_songlength_idx       Play         5   \n",
       "4  table              song_info  song_info         7   \n",
       "5  index       song_id_name_idx  song_info         8   \n",
       "\n",
       "                                                 sql  \n",
       "0  CREATE TABLE Down(\\n  uid INT,\\n  device TEXT,...  \n",
       "1  CREATE TABLE Play(\\n  uid INT,\\n  device TEXT,...  \n",
       "2       CREATE INDEX song_id_index ON Play (song_id)  \n",
       "3  CREATE INDEX songid_songlength_idx ON Play (so...  \n",
       "4  CREATE TABLE \"song_info\" (\\n\"song_id\" REAL,\\n ...  \n",
       "5  CREATE INDEX song_id_name_idx ON song_info(son...  "
      ]
     },
     "execution_count": 3,
     "metadata": {},
     "output_type": "execute_result"
    }
   ],
   "source": [
    "pd.read_sql(\"SELECT * FROM sqlite_master\", musicbox_conn)"
   ]
  },
  {
   "cell_type": "markdown",
   "metadata": {},
   "source": [
    "### Drop paid_flag\n",
    "sqlite doesn't support alter table ... drop ..."
   ]
  },
  {
   "cell_type": "code",
   "execution_count": null,
   "metadata": {
    "collapsed": true
   },
   "outputs": [],
   "source": [
    "musicbox_conn.execute(\"ALTER TABLE Down RENAME TO temp_down\")\n",
    "\n",
    "musicbox_conn.execute(\"\"\"\n",
    "CREATE TABLE Down AS\n",
    "    SELECT uid, device, song_id, song_name, singer, date \n",
    "    FROM temp_down\n",
    "\"\"\")\n",
    "\n",
    "musicbox_conn.execute(\"DROP TABLE temp_down\")"
   ]
  },
  {
   "cell_type": "code",
   "execution_count": null,
   "metadata": {
    "collapsed": true
   },
   "outputs": [],
   "source": [
    "%%time\n",
    "musicbox_conn.execute(\"ALTER TABLE Play RENAME TO temp_play\")\n",
    "\n",
    "musicbox_conn.execute(\"\"\"\n",
    "CREATE TABLE Play AS\n",
    "    SELECT uid, device, song_id, song_type, song_name, singer, play_time, song_length, date \n",
    "    FROM temp_play\n",
    "\"\"\")\n",
    "\n",
    "musicbox_conn.execute(\"DROP TABLE temp_play\")"
   ]
  },
  {
   "cell_type": "markdown",
   "metadata": {},
   "source": [
    "### Extract the date from original 'date' field"
   ]
  },
  {
   "cell_type": "code",
   "execution_count": 9,
   "metadata": {},
   "outputs": [
    {
     "data": {
      "text/plain": [
       "<sqlite3.Cursor at 0x1119311f0>"
      ]
     },
     "execution_count": 9,
     "metadata": {},
     "output_type": "execute_result"
    }
   ],
   "source": [
    "musicbox_conn.execute(\"ALTER TABLE Down RENAME TO temp_down\")\n",
    "\n",
    "musicbox_conn.execute(\"\"\"\n",
    "CREATE TABLE Down AS\n",
    "    SELECT uid, device, song_id, song_name, singer, DATE(date) AS date \n",
    "    FROM temp_down\n",
    "\"\"\")\n",
    "\n",
    "musicbox_conn.execute(\"DROP TABLE temp_down\")"
   ]
  },
  {
   "cell_type": "code",
   "execution_count": 17,
   "metadata": {},
   "outputs": [
    {
     "data": {
      "text/plain": [
       "<sqlite3.Cursor at 0x111a0c5e0>"
      ]
     },
     "execution_count": 17,
     "metadata": {},
     "output_type": "execute_result"
    }
   ],
   "source": [
    "#musicbox_conn.execute(\"ALTER TABLE Play RENAME TO temp_play\")\n",
    "\n",
    "musicbox_conn.execute(\"\"\"\n",
    "CREATE TABLE Play AS\n",
    "    SELECT uid, device, song_id, song_type, song_name, singer, play_time, song_length, DATE(date) AS date \n",
    "    FROM temp_play\n",
    "\"\"\")\n",
    "\n",
    "musicbox_conn.execute(\"DROP TABLE temp_play\")"
   ]
  },
  {
   "cell_type": "code",
   "execution_count": null,
   "metadata": {
    "collapsed": true
   },
   "outputs": [],
   "source": [
    "musicbox_conn.execute(\"VACUUM;\")"
   ]
  },
  {
   "cell_type": "markdown",
   "metadata": {},
   "source": [
    "### SET index"
   ]
  },
  {
   "cell_type": "code",
   "execution_count": null,
   "metadata": {
    "collapsed": true
   },
   "outputs": [],
   "source": [
    "# create index on uid in Play\n",
    "musicbox_conn.execute(\"CREATE INDEX uid_index ON Play (uid);\")"
   ]
  },
  {
   "cell_type": "code",
   "execution_count": 25,
   "metadata": {},
   "outputs": [
    {
     "data": {
      "text/plain": [
       "<sqlite3.Cursor at 0x111a0c6c0>"
      ]
     },
     "execution_count": 25,
     "metadata": {},
     "output_type": "execute_result"
    }
   ],
   "source": [
    "# create index on song_id\n",
    "musicbox_conn.execute(\"CREATE INDEX song_id_index ON Play (song_id);\")"
   ]
  },
  {
   "cell_type": "code",
   "execution_count": null,
   "metadata": {
    "collapsed": true
   },
   "outputs": [],
   "source": []
  },
  {
   "cell_type": "code",
   "execution_count": null,
   "metadata": {
    "collapsed": true
   },
   "outputs": [],
   "source": [
    "musicbox_conn.execute(\"CREATE INDEX device_index ON Down (device);\")"
   ]
  },
  {
   "cell_type": "code",
   "execution_count": null,
   "metadata": {
    "collapsed": true
   },
   "outputs": [],
   "source": []
  },
  {
   "cell_type": "markdown",
   "metadata": {},
   "source": [
    "## song_length and play_time\n",
    "There are too many outliers (0, negative, NA, ridiculously large value) in song_length and play_time which cannot be neglected. For example, 22385091 play records with 0 song_length, which accounts for more than 10% data. Therefore, it is necessary to impute those outliers/missing values.\n",
    "\n",
    "My strategy is \n",
    "1. Only 82115 records have no song_id, only 309 records have negative play_time, only 3813 records have no song_name, Delete those records.\n",
    "2. \n"
   ]
  },
  {
   "cell_type": "code",
   "execution_count": 5,
   "metadata": {},
   "outputs": [
    {
     "data": {
      "text/plain": [
       "<sqlite3.Cursor at 0x10e1a3030>"
      ]
     },
     "execution_count": 5,
     "metadata": {},
     "output_type": "execute_result"
    }
   ],
   "source": [
    "musicbox_conn.execute(\"DELETE FROM Play WHERE song_id IS NULL OR play_time < 0\")\n",
    "musicbox_conn.execute(\"VACUUM;\")"
   ]
  },
  {
   "cell_type": "code",
   "execution_count": 96,
   "metadata": {},
   "outputs": [
    {
     "data": {
      "text/plain": [
       "<sqlite3.Cursor at 0x113ec5ea0>"
      ]
     },
     "execution_count": 96,
     "metadata": {},
     "output_type": "execute_result"
    }
   ],
   "source": [
    "musicbox_conn.execute(\"DELETE FROM Play WHERE song_name IS NULL\")\n",
    "musicbox_conn.execute(\"VACUUM;\")"
   ]
  },
  {
   "cell_type": "code",
   "execution_count": 123,
   "metadata": {},
   "outputs": [
    {
     "data": {
      "text/plain": [
       "<sqlite3.Cursor at 0x117daeb90>"
      ]
     },
     "execution_count": 123,
     "metadata": {},
     "output_type": "execute_result"
    }
   ],
   "source": [
    "# Odd...\n",
    "musicbox_conn.execute(\"DELETE FROM Play WHERE song_name = '';\") # 13\n",
    "musicbox_conn.execute(\"VACUUM;\")"
   ]
  },
  {
   "cell_type": "code",
   "execution_count": 14,
   "metadata": {},
   "outputs": [
    {
     "data": {
      "text/plain": [
       "<sqlite3.Cursor at 0x10c5c3730>"
      ]
     },
     "execution_count": 14,
     "metadata": {},
     "output_type": "execute_result"
    }
   ],
   "source": [
    "musicbox_conn.execute(\"CREATE INDEX songid_songlength_idx ON Play (song_id, song_name, song_length);\")"
   ]
  },
  {
   "cell_type": "code",
   "execution_count": 128,
   "metadata": {
    "scrolled": true
   },
   "outputs": [
    {
     "name": "stdout",
     "output_type": "stream",
     "text": [
      "CPU times: user 1min 28s, sys: 5.01 s, total: 1min 33s\n",
      "Wall time: 1min 33s\n"
     ]
    },
    {
     "data": {
      "text/plain": [
       "<sqlite3.Cursor at 0x144c50110>"
      ]
     },
     "execution_count": 128,
     "metadata": {},
     "output_type": "execute_result"
    }
   ],
   "source": [
    "%%time\n",
    "musicbox_conn.execute(\"\"\"\n",
    "CREATE TABLE song_info AS\n",
    "    SELECT \n",
    "        song_id, song_name, song_length, MAX(count) AS max_count\n",
    "    FROM\n",
    "        (\n",
    "        SELECT \n",
    "            song_id, song_name, song_length, COUNT(*) AS count \n",
    "        FROM \n",
    "            Play \n",
    "        GROUP BY \n",
    "            song_id, song_name, song_length\n",
    "        ) sub\n",
    "    WHERE\n",
    "        song_length IS NOT NULL AND song_length != 0\n",
    "    GROUP BY\n",
    "        song_id, song_name\n",
    "\"\"\")"
   ]
  },
  {
   "cell_type": "code",
   "execution_count": 4,
   "metadata": {
    "collapsed": true
   },
   "outputs": [],
   "source": [
    "song_info = pd.read_sql(\"SELECT * FROM song_info\", musicbox_conn)"
   ]
  },
  {
   "cell_type": "code",
   "execution_count": 5,
   "metadata": {},
   "outputs": [
    {
     "data": {
      "text/html": [
       "<div>\n",
       "<style>\n",
       "    .dataframe thead tr:only-child th {\n",
       "        text-align: right;\n",
       "    }\n",
       "\n",
       "    .dataframe thead th {\n",
       "        text-align: left;\n",
       "    }\n",
       "\n",
       "    .dataframe tbody tr th {\n",
       "        vertical-align: top;\n",
       "    }\n",
       "</style>\n",
       "<table border=\"1\" class=\"dataframe\">\n",
       "  <thead>\n",
       "    <tr style=\"text-align: right;\">\n",
       "      <th></th>\n",
       "      <th>song_id</th>\n",
       "      <th>song_name</th>\n",
       "      <th>song_length</th>\n",
       "      <th>max_count</th>\n",
       "    </tr>\n",
       "  </thead>\n",
       "  <tbody>\n",
       "    <tr>\n",
       "      <th>0</th>\n",
       "      <td>0.0</td>\n",
       "      <td>\u0003花雨</td>\n",
       "      <td>297.0</td>\n",
       "      <td>6</td>\n",
       "    </tr>\n",
       "    <tr>\n",
       "      <th>1</th>\n",
       "      <td>0.0</td>\n",
       "      <td>! 远飞的大雁</td>\n",
       "      <td>228.0</td>\n",
       "      <td>2</td>\n",
       "    </tr>\n",
       "    <tr>\n",
       "      <th>2</th>\n",
       "      <td>0.0</td>\n",
       "      <td>!LAWKKLAWLAWHANMIN0,</td>\n",
       "      <td>124.0</td>\n",
       "      <td>6</td>\n",
       "    </tr>\n",
       "    <tr>\n",
       "      <th>3</th>\n",
       "      <td>0.0</td>\n",
       "      <td>!liaF cipE</td>\n",
       "      <td>201.0</td>\n",
       "      <td>6</td>\n",
       "    </tr>\n",
       "    <tr>\n",
       "      <th>4</th>\n",
       "      <td>0.0</td>\n",
       "      <td>!十劝人心 ---友谊科技</td>\n",
       "      <td>60.0</td>\n",
       "      <td>2</td>\n",
       "    </tr>\n",
       "  </tbody>\n",
       "</table>\n",
       "</div>"
      ],
      "text/plain": [
       "   song_id             song_name  song_length  max_count\n",
       "0      0.0                   \u0003花雨        297.0          6\n",
       "1      0.0               ! 远飞的大雁        228.0          2\n",
       "2      0.0  !LAWKKLAWLAWHANMIN0,        124.0          6\n",
       "3      0.0            !liaF cipE        201.0          6\n",
       "4      0.0         !十劝人心 ---友谊科技         60.0          2"
      ]
     },
     "execution_count": 5,
     "metadata": {},
     "output_type": "execute_result"
    }
   ],
   "source": [
    "song_info.head()"
   ]
  },
  {
   "cell_type": "code",
   "execution_count": 6,
   "metadata": {},
   "outputs": [
    {
     "data": {
      "text/plain": [
       "count    2.350533e+06\n",
       "mean     3.906170e+02\n",
       "std      5.813164e+02\n",
       "min      1.000000e+00\n",
       "25%      1.900000e+02\n",
       "50%      2.420000e+02\n",
       "75%      3.050000e+02\n",
       "max      7.030000e+03\n",
       "Name: song_length, dtype: float64"
      ]
     },
     "execution_count": 6,
     "metadata": {},
     "output_type": "execute_result"
    }
   ],
   "source": [
    "song_info.song_length.describe()"
   ]
  },
  {
   "cell_type": "code",
   "execution_count": 140,
   "metadata": {},
   "outputs": [
    {
     "data": {
      "text/html": [
       "<div>\n",
       "<style>\n",
       "    .dataframe thead tr:only-child th {\n",
       "        text-align: right;\n",
       "    }\n",
       "\n",
       "    .dataframe thead th {\n",
       "        text-align: left;\n",
       "    }\n",
       "\n",
       "    .dataframe tbody tr th {\n",
       "        vertical-align: top;\n",
       "    }\n",
       "</style>\n",
       "<table border=\"1\" class=\"dataframe\">\n",
       "  <thead>\n",
       "    <tr style=\"text-align: right;\">\n",
       "      <th></th>\n",
       "      <th>song_id</th>\n",
       "      <th>song_name</th>\n",
       "      <th>song_length</th>\n",
       "      <th>max_count</th>\n",
       "    </tr>\n",
       "  </thead>\n",
       "  <tbody>\n",
       "    <tr>\n",
       "      <th>2350692</th>\n",
       "      <td>129945935.0</td>\n",
       "      <td>汪苏泷-桃花扇</td>\n",
       "      <td>1.343966e+09</td>\n",
       "      <td>1</td>\n",
       "    </tr>\n",
       "    <tr>\n",
       "      <th>2350691</th>\n",
       "      <td>129945928.0</td>\n",
       "      <td>Isyana Sarasvati-Keep Being You</td>\n",
       "      <td>1.343966e+09</td>\n",
       "      <td>1</td>\n",
       "    </tr>\n",
       "    <tr>\n",
       "      <th>2350689</th>\n",
       "      <td>123575885.0</td>\n",
       "      <td>那家超市</td>\n",
       "      <td>3.993139e+08</td>\n",
       "      <td>1</td>\n",
       "    </tr>\n",
       "    <tr>\n",
       "      <th>2350702</th>\n",
       "      <td>132403174.0</td>\n",
       "      <td>薛之谦-演员</td>\n",
       "      <td>7.805389e+07</td>\n",
       "      <td>3</td>\n",
       "    </tr>\n",
       "    <tr>\n",
       "      <th>2350675</th>\n",
       "      <td>100991981.0</td>\n",
       "      <td>李玉刚 - 新贵妃醉酒</td>\n",
       "      <td>7.720602e+07</td>\n",
       "      <td>1</td>\n",
       "    </tr>\n",
       "    <tr>\n",
       "      <th>2350703</th>\n",
       "      <td>132493632.0</td>\n",
       "      <td>Don Diablo&amp;Matt Nash-Starlight(Could You Be Mi...</td>\n",
       "      <td>6.257152e+07</td>\n",
       "      <td>1</td>\n",
       "    </tr>\n",
       "    <tr>\n",
       "      <th>2350695</th>\n",
       "      <td>131086700.0</td>\n",
       "      <td>给十五岁的自己</td>\n",
       "      <td>6.237286e+07</td>\n",
       "      <td>4</td>\n",
       "    </tr>\n",
       "    <tr>\n",
       "      <th>2350696</th>\n",
       "      <td>131283679.0</td>\n",
       "      <td>Hafan Feat. FathoM (Original Mix)</td>\n",
       "      <td>6.144256e+07</td>\n",
       "      <td>6</td>\n",
       "    </tr>\n",
       "    <tr>\n",
       "      <th>2350694</th>\n",
       "      <td>130989725.0</td>\n",
       "      <td>陈奕迅 - 让我留在你身边</td>\n",
       "      <td>6.116659e+07</td>\n",
       "      <td>7</td>\n",
       "    </tr>\n",
       "    <tr>\n",
       "      <th>1972851</th>\n",
       "      <td>7042277.0</td>\n",
       "      <td>曼姐查房20160417直播回放</td>\n",
       "      <td>1.249582e+07</td>\n",
       "      <td>3</td>\n",
       "    </tr>\n",
       "    <tr>\n",
       "      <th>2005678</th>\n",
       "      <td>7175709.0</td>\n",
       "      <td>老毕爆料骚男直播间80w人同事在线20160701下午要直播回放</td>\n",
       "      <td>7.306484e+06</td>\n",
       "      <td>4</td>\n",
       "    </tr>\n",
       "    <tr>\n",
       "      <th>2094905</th>\n",
       "      <td>9948316.0</td>\n",
       "      <td>王源16岁生日会全程回顾</td>\n",
       "      <td>7.196421e+06</td>\n",
       "      <td>44</td>\n",
       "    </tr>\n",
       "    <tr>\n",
       "      <th>1862329</th>\n",
       "      <td>6672391.0</td>\n",
       "      <td>竟然要参加女体盛宴?!【破碎时光】第一章攻略回顾P1</td>\n",
       "      <td>5.100124e+06</td>\n",
       "      <td>6</td>\n",
       "    </tr>\n",
       "    <tr>\n",
       "      <th>2257382</th>\n",
       "      <td>20866471.0</td>\n",
       "      <td>阿哲连麦美女主播水荔枝性感热舞20170217中午直播回放(上)</td>\n",
       "      <td>4.793202e+06</td>\n",
       "      <td>9</td>\n",
       "    </tr>\n",
       "    <tr>\n",
       "      <th>2012689</th>\n",
       "      <td>7201381.0</td>\n",
       "      <td>冕哥输液直播粉丝心疼劝冕哥休息20160715直播回放(上)</td>\n",
       "      <td>4.748202e+06</td>\n",
       "      <td>6</td>\n",
       "    </tr>\n",
       "  </tbody>\n",
       "</table>\n",
       "</div>"
      ],
      "text/plain": [
       "             song_id                                          song_name  \\\n",
       "2350692  129945935.0                                            汪苏泷-桃花扇   \n",
       "2350691  129945928.0                    Isyana Sarasvati-Keep Being You   \n",
       "2350689  123575885.0                                               那家超市   \n",
       "2350702  132403174.0                                             薛之谦-演员   \n",
       "2350675  100991981.0                                        李玉刚 - 新贵妃醉酒   \n",
       "2350703  132493632.0  Don Diablo&Matt Nash-Starlight(Could You Be Mi...   \n",
       "2350695  131086700.0                                            给十五岁的自己   \n",
       "2350696  131283679.0                  Hafan Feat. FathoM (Original Mix)   \n",
       "2350694  130989725.0                                      陈奕迅 - 让我留在你身边   \n",
       "1972851    7042277.0                                   曼姐查房20160417直播回放   \n",
       "2005678    7175709.0                   老毕爆料骚男直播间80w人同事在线20160701下午要直播回放   \n",
       "2094905    9948316.0                                       王源16岁生日会全程回顾   \n",
       "1862329    6672391.0                         竟然要参加女体盛宴?!【破碎时光】第一章攻略回顾P1   \n",
       "2257382   20866471.0                   阿哲连麦美女主播水荔枝性感热舞20170217中午直播回放(上)   \n",
       "2012689    7201381.0                     冕哥输液直播粉丝心疼劝冕哥休息20160715直播回放(上)   \n",
       "\n",
       "          song_length  max_count  \n",
       "2350692  1.343966e+09          1  \n",
       "2350691  1.343966e+09          1  \n",
       "2350689  3.993139e+08          1  \n",
       "2350702  7.805389e+07          3  \n",
       "2350675  7.720602e+07          1  \n",
       "2350703  6.257152e+07          1  \n",
       "2350695  6.237286e+07          4  \n",
       "2350696  6.144256e+07          6  \n",
       "2350694  6.116659e+07          7  \n",
       "1972851  1.249582e+07          3  \n",
       "2005678  7.306484e+06          4  \n",
       "2094905  7.196421e+06         44  \n",
       "1862329  5.100124e+06          6  \n",
       "2257382  4.793202e+06          9  \n",
       "2012689  4.748202e+06          6  "
      ]
     },
     "execution_count": 140,
     "metadata": {},
     "output_type": "execute_result"
    }
   ],
   "source": [
    "song_info.sort_values(['song_length'], ascending=False).head(15)"
   ]
  },
  {
   "cell_type": "code",
   "execution_count": 151,
   "metadata": {},
   "outputs": [
    {
     "data": {
      "text/html": [
       "<div>\n",
       "<style>\n",
       "    .dataframe thead tr:only-child th {\n",
       "        text-align: right;\n",
       "    }\n",
       "\n",
       "    .dataframe thead th {\n",
       "        text-align: left;\n",
       "    }\n",
       "\n",
       "    .dataframe tbody tr th {\n",
       "        vertical-align: top;\n",
       "    }\n",
       "</style>\n",
       "<table border=\"1\" class=\"dataframe\">\n",
       "  <thead>\n",
       "    <tr style=\"text-align: right;\">\n",
       "      <th></th>\n",
       "      <th>song_id</th>\n",
       "      <th>song_name</th>\n",
       "      <th>song_length</th>\n",
       "      <th>max_count</th>\n",
       "    </tr>\n",
       "  </thead>\n",
       "  <tbody>\n",
       "    <tr>\n",
       "      <th>9780</th>\n",
       "      <td>0.0</td>\n",
       "      <td>02-034-0015 - www.amtb.tw</td>\n",
       "      <td>7030.0</td>\n",
       "      <td>2</td>\n",
       "    </tr>\n",
       "    <tr>\n",
       "      <th>320917</th>\n",
       "      <td>0.0</td>\n",
       "      <td>佛号长</td>\n",
       "      <td>7030.0</td>\n",
       "      <td>2</td>\n",
       "    </tr>\n",
       "    <tr>\n",
       "      <th>2094914</th>\n",
       "      <td>9948338.0</td>\n",
       "      <td>文儿疯癫手指舞20161105上午直播回放</td>\n",
       "      <td>7030.0</td>\n",
       "      <td>7</td>\n",
       "    </tr>\n",
       "    <tr>\n",
       "      <th>2201735</th>\n",
       "      <td>14702701.0</td>\n",
       "      <td>曹云金-隋唐演义(第十一回)</td>\n",
       "      <td>7030.0</td>\n",
       "      <td>7</td>\n",
       "    </tr>\n",
       "  </tbody>\n",
       "</table>\n",
       "</div>"
      ],
      "text/plain": [
       "            song_id                  song_name  song_length  max_count\n",
       "9780            0.0  02-034-0015 - www.amtb.tw       7030.0          2\n",
       "320917          0.0                        佛号长       7030.0          2\n",
       "2094914   9948338.0      文儿疯癫手指舞20161105上午直播回放       7030.0          7\n",
       "2201735  14702701.0             曹云金-隋唐演义(第十一回)       7030.0          7"
      ]
     },
     "execution_count": 151,
     "metadata": {},
     "output_type": "execute_result"
    }
   ],
   "source": [
    "song_info[song_info.song_length == song_info.song_length.quantile(0.999)]"
   ]
  },
  {
   "cell_type": "code",
   "execution_count": 152,
   "metadata": {},
   "outputs": [
    {
     "data": {
      "text/plain": [
       "0.00099919928054251726"
      ]
     },
     "execution_count": 152,
     "metadata": {},
     "output_type": "execute_result"
    }
   ],
   "source": [
    "(song_info.song_length > song_info.song_length.quantile(0.999)).mean()"
   ]
  },
  {
   "cell_type": "code",
   "execution_count": 158,
   "metadata": {},
   "outputs": [
    {
     "data": {
      "text/plain": [
       "<matplotlib.axes._subplots.AxesSubplot at 0x153424c50>"
      ]
     },
     "execution_count": 158,
     "metadata": {},
     "output_type": "execute_result"
    },
    {
     "data": {
      "image/png": "[encoded data removed]",
      "text/plain": [
       "<matplotlib.figure.Figure at 0x152ed2a90>"
      ]
     },
     "metadata": {},
     "output_type": "display_data"
    }
   ],
   "source": [
    "song_info.song_length[song_info.song_length <= song_info.song_length.quantile(0.999)].plot.hist()"
   ]
  },
  {
   "cell_type": "code",
   "execution_count": 159,
   "metadata": {},
   "outputs": [
    {
     "data": {
      "text/plain": [
       "<matplotlib.axes._subplots.AxesSubplot at 0x152733c50>"
      ]
     },
     "execution_count": 159,
     "metadata": {},
     "output_type": "execute_result"
    },
    {
     "data": {
      "image/png": "[encoded data removed]",
      "text/plain": [
       "<matplotlib.figure.Figure at 0x18c830450>"
      ]
     },
     "metadata": {},
     "output_type": "display_data"
    }
   ],
   "source": [
    "song_info.song_length[song_info.song_length <= song_info.song_length.quantile(0.999)].plot.box()"
   ]
  },
  {
   "cell_type": "code",
   "execution_count": 157,
   "metadata": {},
   "outputs": [
    {
     "data": {
      "text/html": [
       "<div>\n",
       "<style>\n",
       "    .dataframe thead tr:only-child th {\n",
       "        text-align: right;\n",
       "    }\n",
       "\n",
       "    .dataframe thead th {\n",
       "        text-align: left;\n",
       "    }\n",
       "\n",
       "    .dataframe tbody tr th {\n",
       "        vertical-align: top;\n",
       "    }\n",
       "</style>\n",
       "<table border=\"1\" class=\"dataframe\">\n",
       "  <thead>\n",
       "    <tr style=\"text-align: right;\">\n",
       "      <th></th>\n",
       "      <th>song_id</th>\n",
       "      <th>song_name</th>\n",
       "      <th>song_length</th>\n",
       "      <th>max_count</th>\n",
       "    </tr>\n",
       "  </thead>\n",
       "  <tbody>\n",
       "    <tr>\n",
       "      <th>0</th>\n",
       "      <td>0.0</td>\n",
       "      <td>\u0003花雨</td>\n",
       "      <td>297.0</td>\n",
       "      <td>6</td>\n",
       "    </tr>\n",
       "    <tr>\n",
       "      <th>1</th>\n",
       "      <td>0.0</td>\n",
       "      <td>! 远飞的大雁</td>\n",
       "      <td>228.0</td>\n",
       "      <td>2</td>\n",
       "    </tr>\n",
       "    <tr>\n",
       "      <th>2</th>\n",
       "      <td>0.0</td>\n",
       "      <td>!LAWKKLAWLAWHANMIN0,</td>\n",
       "      <td>124.0</td>\n",
       "      <td>6</td>\n",
       "    </tr>\n",
       "    <tr>\n",
       "      <th>3</th>\n",
       "      <td>0.0</td>\n",
       "      <td>!liaF cipE</td>\n",
       "      <td>201.0</td>\n",
       "      <td>6</td>\n",
       "    </tr>\n",
       "    <tr>\n",
       "      <th>4</th>\n",
       "      <td>0.0</td>\n",
       "      <td>!十劝人心 ---友谊科技</td>\n",
       "      <td>60.0</td>\n",
       "      <td>2</td>\n",
       "    </tr>\n",
       "  </tbody>\n",
       "</table>\n",
       "</div>"
      ],
      "text/plain": [
       "   song_id             song_name  song_length  max_count\n",
       "0      0.0                   \u0003花雨        297.0          6\n",
       "1      0.0               ! 远飞的大雁        228.0          2\n",
       "2      0.0  !LAWKKLAWLAWHANMIN0,        124.0          6\n",
       "3      0.0            !liaF cipE        201.0          6\n",
       "4      0.0         !十劝人心 ---友谊科技         60.0          2"
      ]
     },
     "execution_count": 157,
     "metadata": {},
     "output_type": "execute_result"
    }
   ],
   "source": [
    "song_info.head()"
   ]
  },
  {
   "cell_type": "code",
   "execution_count": 160,
   "metadata": {
    "collapsed": true
   },
   "outputs": [],
   "source": [
    "song_info = song_info[song_info.song_length <= song_info.song_length.quantile(0.999)]"
   ]
  },
  {
   "cell_type": "code",
   "execution_count": 163,
   "metadata": {
    "collapsed": true
   },
   "outputs": [],
   "source": [
    "song_info.to_sql(\"song_info\", musicbox_conn, if_exists=\"replace\", index=False)"
   ]
  },
  {
   "cell_type": "code",
   "execution_count": 165,
   "metadata": {},
   "outputs": [
    {
     "data": {
      "text/html": [
       "<div>\n",
       "<style>\n",
       "    .dataframe thead tr:only-child th {\n",
       "        text-align: right;\n",
       "    }\n",
       "\n",
       "    .dataframe thead th {\n",
       "        text-align: left;\n",
       "    }\n",
       "\n",
       "    .dataframe tbody tr th {\n",
       "        vertical-align: top;\n",
       "    }\n",
       "</style>\n",
       "<table border=\"1\" class=\"dataframe\">\n",
       "  <thead>\n",
       "    <tr style=\"text-align: right;\">\n",
       "      <th></th>\n",
       "      <th>song_id</th>\n",
       "      <th>song_name</th>\n",
       "      <th>song_length</th>\n",
       "      <th>max_count</th>\n",
       "    </tr>\n",
       "  </thead>\n",
       "  <tbody>\n",
       "    <tr>\n",
       "      <th>0</th>\n",
       "      <td>0.0</td>\n",
       "      <td>\u0003花雨</td>\n",
       "      <td>297.0</td>\n",
       "      <td>6</td>\n",
       "    </tr>\n",
       "    <tr>\n",
       "      <th>1</th>\n",
       "      <td>0.0</td>\n",
       "      <td>! 远飞的大雁</td>\n",
       "      <td>228.0</td>\n",
       "      <td>2</td>\n",
       "    </tr>\n",
       "    <tr>\n",
       "      <th>2</th>\n",
       "      <td>0.0</td>\n",
       "      <td>!LAWKKLAWLAWHANMIN0,</td>\n",
       "      <td>124.0</td>\n",
       "      <td>6</td>\n",
       "    </tr>\n",
       "    <tr>\n",
       "      <th>3</th>\n",
       "      <td>0.0</td>\n",
       "      <td>!liaF cipE</td>\n",
       "      <td>201.0</td>\n",
       "      <td>6</td>\n",
       "    </tr>\n",
       "    <tr>\n",
       "      <th>4</th>\n",
       "      <td>0.0</td>\n",
       "      <td>!十劝人心 ---友谊科技</td>\n",
       "      <td>60.0</td>\n",
       "      <td>2</td>\n",
       "    </tr>\n",
       "  </tbody>\n",
       "</table>\n",
       "</div>"
      ],
      "text/plain": [
       "   song_id             song_name  song_length  max_count\n",
       "0      0.0                   \u0003花雨        297.0          6\n",
       "1      0.0               ! 远飞的大雁        228.0          2\n",
       "2      0.0  !LAWKKLAWLAWHANMIN0,        124.0          6\n",
       "3      0.0            !liaF cipE        201.0          6\n",
       "4      0.0         !十劝人心 ---友谊科技         60.0          2"
      ]
     },
     "execution_count": 165,
     "metadata": {},
     "output_type": "execute_result"
    }
   ],
   "source": [
    "pd.read_sql(\"SELECT * FROM song_info LIMIT 5\", musicbox_conn)"
   ]
  },
  {
   "cell_type": "code",
   "execution_count": 167,
   "metadata": {},
   "outputs": [
    {
     "data": {
      "text/html": [
       "<div>\n",
       "<style>\n",
       "    .dataframe thead tr:only-child th {\n",
       "        text-align: right;\n",
       "    }\n",
       "\n",
       "    .dataframe thead th {\n",
       "        text-align: left;\n",
       "    }\n",
       "\n",
       "    .dataframe tbody tr th {\n",
       "        vertical-align: top;\n",
       "    }\n",
       "</style>\n",
       "<table border=\"1\" class=\"dataframe\">\n",
       "  <thead>\n",
       "    <tr style=\"text-align: right;\">\n",
       "      <th></th>\n",
       "      <th>uid</th>\n",
       "      <th>device</th>\n",
       "      <th>song_id</th>\n",
       "      <th>song_type</th>\n",
       "      <th>song_name</th>\n",
       "      <th>singer</th>\n",
       "      <th>play_time</th>\n",
       "      <th>song_length</th>\n",
       "      <th>date</th>\n",
       "    </tr>\n",
       "  </thead>\n",
       "  <tbody>\n",
       "    <tr>\n",
       "      <th>0</th>\n",
       "      <td>154422682</td>\n",
       "      <td>ar</td>\n",
       "      <td>20870993.0</td>\n",
       "      <td>1.0</td>\n",
       "      <td>用情</td>\n",
       "      <td>狮子合唱团</td>\n",
       "      <td>22013.0</td>\n",
       "      <td>332.0</td>\n",
       "      <td>2017-03-01</td>\n",
       "    </tr>\n",
       "    <tr>\n",
       "      <th>1</th>\n",
       "      <td>154421907</td>\n",
       "      <td>ip</td>\n",
       "      <td>6560858.0</td>\n",
       "      <td>0.0</td>\n",
       "      <td>表情不要悲伤</td>\n",
       "      <td>伯贤&amp;D.O.&amp;张艺兴&amp;朴灿烈</td>\n",
       "      <td>96.0</td>\n",
       "      <td>161.0</td>\n",
       "      <td>2017-03-01</td>\n",
       "    </tr>\n",
       "    <tr>\n",
       "      <th>2</th>\n",
       "      <td>154422630</td>\n",
       "      <td>ar</td>\n",
       "      <td>3385963.0</td>\n",
       "      <td>1.0</td>\n",
       "      <td>Baby, Don't Cry(人鱼的眼泪)</td>\n",
       "      <td>EXO</td>\n",
       "      <td>235868.0</td>\n",
       "      <td>235.0</td>\n",
       "      <td>2017-03-01</td>\n",
       "    </tr>\n",
       "    <tr>\n",
       "      <th>3</th>\n",
       "      <td>154410267</td>\n",
       "      <td>ar</td>\n",
       "      <td>6777172.0</td>\n",
       "      <td>0.0</td>\n",
       "      <td>3D-环绕音律1(3D Mix)</td>\n",
       "      <td>McTaiM</td>\n",
       "      <td>164.0</td>\n",
       "      <td>237.0</td>\n",
       "      <td>2017-03-01</td>\n",
       "    </tr>\n",
       "    <tr>\n",
       "      <th>4</th>\n",
       "      <td>154407793</td>\n",
       "      <td>ar</td>\n",
       "      <td>19472465.0</td>\n",
       "      <td>0.0</td>\n",
       "      <td>刚好遇见你</td>\n",
       "      <td>曲肖冰</td>\n",
       "      <td>24.0</td>\n",
       "      <td>201.0</td>\n",
       "      <td>2017-03-01</td>\n",
       "    </tr>\n",
       "  </tbody>\n",
       "</table>\n",
       "</div>"
      ],
      "text/plain": [
       "         uid device     song_id  song_type               song_name  \\\n",
       "0  154422682     ar  20870993.0        1.0                      用情   \n",
       "1  154421907     ip   6560858.0        0.0                  表情不要悲伤   \n",
       "2  154422630     ar   3385963.0        1.0  Baby, Don't Cry(人鱼的眼泪)   \n",
       "3  154410267     ar   6777172.0        0.0        3D-环绕音律1(3D Mix)   \n",
       "4  154407793     ar  19472465.0        0.0                   刚好遇见你   \n",
       "\n",
       "            singer  play_time  song_length        date  \n",
       "0            狮子合唱团    22013.0        332.0  2017-03-01  \n",
       "1  伯贤&D.O.&张艺兴&朴灿烈       96.0        161.0  2017-03-01  \n",
       "2              EXO   235868.0        235.0  2017-03-01  \n",
       "3           McTaiM      164.0        237.0  2017-03-01  \n",
       "4              曲肖冰       24.0        201.0  2017-03-01  "
      ]
     },
     "execution_count": 167,
     "metadata": {},
     "output_type": "execute_result"
    }
   ],
   "source": [
    "pd.read_sql(\"SELECT * FROM Play LIMIT 5\", musicbox_conn)"
   ]
  },
  {
   "cell_type": "markdown",
   "metadata": {},
   "source": [
    "should have set up index for song_info table?"
   ]
  },
  {
   "cell_type": "code",
   "execution_count": 7,
   "metadata": {},
   "outputs": [
    {
     "data": {
      "text/plain": [
       "<sqlite3.Cursor at 0x116bd5ce0>"
      ]
     },
     "execution_count": 7,
     "metadata": {},
     "output_type": "execute_result"
    }
   ],
   "source": [
    "musicbox_conn.execute(\"CREATE INDEX song_id_name_idx ON song_info(song_id, song_name)\")"
   ]
  },
  {
   "cell_type": "code",
   "execution_count": 5,
   "metadata": {},
   "outputs": [
    {
     "name": "stdout",
     "output_type": "stream",
     "text": [
      "CPU times: user 13min 9s, sys: 38min 5s, total: 51min 14s\n",
      "Wall time: 3h 30min 23s\n"
     ]
    },
    {
     "data": {
      "text/plain": [
       "<sqlite3.Cursor at 0x115bafce0>"
      ]
     },
     "execution_count": 5,
     "metadata": {},
     "output_type": "execute_result"
    }
   ],
   "source": [
    "%%time\n",
    "musicbox_conn.execute(\"\"\"\n",
    "CREATE TABLE Play_new AS\n",
    "    SELECT\n",
    "        p.uid, p.device, s.song_id, s.song_name, p.singer, p.play_time, s.song_length, p.date\n",
    "    FROM\n",
    "        song_info AS s\n",
    "        LEFT JOIN\n",
    "        Play AS p ON s.song_id = p.song_id AND s.song_name = p.song_name\n",
    "\"\"\")"
   ]
  }
 ],
 "metadata": {
  "anaconda-cloud": {},
  "kernelspec": {
   "display_name": "Python [conda root]",
   "language": "python",
   "name": "conda-root-py"
  },
  "language_info": {
   "codemirror_mode": {
    "name": "ipython",
    "version": 2
   },
   "file_extension": ".py",
   "mimetype": "text/x-python",
   "name": "python",
   "nbconvert_exporter": "python",
   "pygments_lexer": "ipython2",
   "version": "2.7.13"
  }
 },
 "nbformat": 4,
 "nbformat_minor": 2
}
