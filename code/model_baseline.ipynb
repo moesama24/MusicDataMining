{
 "cells": [
  {
   "cell_type": "code",
   "execution_count": 1,
   "metadata": {
    "collapsed": true
   },
   "outputs": [],
   "source": [
    "import numpy as np\n",
    "import pandas as pd\n",
    "import sqlite3 as sql\n",
    "import matplotlib.pyplot as plt\n",
    "import seaborn as sns\n",
    "%matplotlib inline\n",
    "\n",
    "from sklearn.model_selection import train_test_split\n",
    "from sklearn.ensemble import RandomForestClassifier\n",
    "from sklearn.linear_model import LogisticRegression\n",
    "from sklearn.metrics import confusion_matrix, classification_report, roc_curve, roc_auc_score"
   ]
  },
  {
   "cell_type": "code",
   "execution_count": 2,
   "metadata": {
    "collapsed": true
   },
   "outputs": [],
   "source": [
    "def plot_confusion_matrix(y_true, y_pred):\n",
    "    plt.figure(figsize=(5,4))\n",
    "    cm = confusion_matrix(y_true, y_pred, labels=[1, 0])\n",
    "    print cm\n",
    "    cm_df = pd.DataFrame(cm, index=[1, 0], columns=[1, 0])\n",
    "    ax = sns.heatmap(cm_df, annot=True, fmt = \"d\", cmap=plt.cm.Blues)\n",
    "    ax.set_xlabel('Predicted label')\n",
    "    ax.set_ylabel('True label')\n",
    "    ax.set_title('Confusion matrix')\n",
    "    plt.show()"
   ]
  },
  {
   "cell_type": "code",
   "execution_count": 3,
   "metadata": {
    "collapsed": true
   },
   "outputs": [],
   "source": [
    "musicbox_conn = sql.connect(\"../data/musicbox.sqlite\")\n",
    "musicbox_conn.text_factory = str"
   ]
  },
  {
   "cell_type": "code",
   "execution_count": 4,
   "metadata": {
    "collapsed": true
   },
   "outputs": [],
   "source": [
    "churn_df = pd.read_sql(\"SELECT * FROM churn\", musicbox_conn)"
   ]
  },
  {
   "cell_type": "code",
   "execution_count": 5,
   "metadata": {},
   "outputs": [
    {
     "data": {
      "text/html": [
       "<div>\n",
       "<style>\n",
       "    .dataframe thead tr:only-child th {\n",
       "        text-align: right;\n",
       "    }\n",
       "\n",
       "    .dataframe thead th {\n",
       "        text-align: left;\n",
       "    }\n",
       "\n",
       "    .dataframe tbody tr th {\n",
       "        vertical-align: top;\n",
       "    }\n",
       "</style>\n",
       "<table border=\"1\" class=\"dataframe\">\n",
       "  <thead>\n",
       "    <tr style=\"text-align: right;\">\n",
       "      <th></th>\n",
       "      <th>uid</th>\n",
       "      <th>device</th>\n",
       "      <th>freq_w1</th>\n",
       "      <th>play_time_w1</th>\n",
       "      <th>avg_play_pct_w1</th>\n",
       "      <th>freq_w2</th>\n",
       "      <th>play_time_w2</th>\n",
       "      <th>avg_play_pct_w2</th>\n",
       "      <th>freq_w3</th>\n",
       "      <th>play_time_w3</th>\n",
       "      <th>avg_play_pct_w3</th>\n",
       "      <th>freq_w4</th>\n",
       "      <th>play_time_w4</th>\n",
       "      <th>avg_play_pct_w4</th>\n",
       "    </tr>\n",
       "  </thead>\n",
       "  <tbody>\n",
       "    <tr>\n",
       "      <th>0</th>\n",
       "      <td>0</td>\n",
       "      <td>ar</td>\n",
       "      <td>145338.0</td>\n",
       "      <td>1.251728e+10</td>\n",
       "      <td>0.695687</td>\n",
       "      <td>406719.0</td>\n",
       "      <td>1.750280e+10</td>\n",
       "      <td>0.590655</td>\n",
       "      <td>315694.0</td>\n",
       "      <td>2.000722e+10</td>\n",
       "      <td>0.682264</td>\n",
       "      <td>258804.0</td>\n",
       "      <td>2.123130e+10</td>\n",
       "      <td>0.711662</td>\n",
       "    </tr>\n",
       "    <tr>\n",
       "      <th>1</th>\n",
       "      <td>12333</td>\n",
       "      <td>ip</td>\n",
       "      <td>45.0</td>\n",
       "      <td>9.027000e+03</td>\n",
       "      <td>0.949343</td>\n",
       "      <td>114.0</td>\n",
       "      <td>2.437200e+04</td>\n",
       "      <td>0.900190</td>\n",
       "      <td>109.0</td>\n",
       "      <td>2.479000e+04</td>\n",
       "      <td>0.972819</td>\n",
       "      <td>75.0</td>\n",
       "      <td>1.462400e+04</td>\n",
       "      <td>0.931983</td>\n",
       "    </tr>\n",
       "    <tr>\n",
       "      <th>2</th>\n",
       "      <td>36816</td>\n",
       "      <td>ar</td>\n",
       "      <td>4.0</td>\n",
       "      <td>1.846110e+05</td>\n",
       "      <td>1.000000</td>\n",
       "      <td>NaN</td>\n",
       "      <td>NaN</td>\n",
       "      <td>NaN</td>\n",
       "      <td>NaN</td>\n",
       "      <td>NaN</td>\n",
       "      <td>NaN</td>\n",
       "      <td>NaN</td>\n",
       "      <td>NaN</td>\n",
       "      <td>NaN</td>\n",
       "    </tr>\n",
       "    <tr>\n",
       "      <th>3</th>\n",
       "      <td>51923</td>\n",
       "      <td>ar</td>\n",
       "      <td>NaN</td>\n",
       "      <td>NaN</td>\n",
       "      <td>NaN</td>\n",
       "      <td>2.0</td>\n",
       "      <td>1.020000e+02</td>\n",
       "      <td>0.325743</td>\n",
       "      <td>NaN</td>\n",
       "      <td>NaN</td>\n",
       "      <td>NaN</td>\n",
       "      <td>NaN</td>\n",
       "      <td>NaN</td>\n",
       "      <td>NaN</td>\n",
       "    </tr>\n",
       "    <tr>\n",
       "      <th>4</th>\n",
       "      <td>60183</td>\n",
       "      <td>ar</td>\n",
       "      <td>354.0</td>\n",
       "      <td>1.354700e+04</td>\n",
       "      <td>0.148254</td>\n",
       "      <td>283.0</td>\n",
       "      <td>1.478100e+04</td>\n",
       "      <td>0.202751</td>\n",
       "      <td>333.0</td>\n",
       "      <td>1.539700e+04</td>\n",
       "      <td>0.179196</td>\n",
       "      <td>38.0</td>\n",
       "      <td>4.949000e+03</td>\n",
       "      <td>0.508749</td>\n",
       "    </tr>\n",
       "    <tr>\n",
       "      <th>5</th>\n",
       "      <td>62099</td>\n",
       "      <td>ar</td>\n",
       "      <td>13.0</td>\n",
       "      <td>7.800000e+02</td>\n",
       "      <td>0.239631</td>\n",
       "      <td>NaN</td>\n",
       "      <td>NaN</td>\n",
       "      <td>NaN</td>\n",
       "      <td>10.0</td>\n",
       "      <td>1.665000e+03</td>\n",
       "      <td>0.616586</td>\n",
       "      <td>NaN</td>\n",
       "      <td>NaN</td>\n",
       "      <td>NaN</td>\n",
       "    </tr>\n",
       "    <tr>\n",
       "      <th>6</th>\n",
       "      <td>103928</td>\n",
       "      <td>ar</td>\n",
       "      <td>2.0</td>\n",
       "      <td>2.360000e+02</td>\n",
       "      <td>0.459144</td>\n",
       "      <td>13.0</td>\n",
       "      <td>4.490000e+02</td>\n",
       "      <td>0.125180</td>\n",
       "      <td>2.0</td>\n",
       "      <td>1.060000e+02</td>\n",
       "      <td>0.192727</td>\n",
       "      <td>2.0</td>\n",
       "      <td>2.800000e+01</td>\n",
       "      <td>0.046512</td>\n",
       "    </tr>\n",
       "    <tr>\n",
       "      <th>7</th>\n",
       "      <td>104057</td>\n",
       "      <td>ar</td>\n",
       "      <td>NaN</td>\n",
       "      <td>NaN</td>\n",
       "      <td>NaN</td>\n",
       "      <td>216.0</td>\n",
       "      <td>2.392600e+04</td>\n",
       "      <td>0.607737</td>\n",
       "      <td>NaN</td>\n",
       "      <td>NaN</td>\n",
       "      <td>NaN</td>\n",
       "      <td>129.0</td>\n",
       "      <td>1.808900e+04</td>\n",
       "      <td>0.549439</td>\n",
       "    </tr>\n",
       "    <tr>\n",
       "      <th>8</th>\n",
       "      <td>126721</td>\n",
       "      <td>ar</td>\n",
       "      <td>137.0</td>\n",
       "      <td>1.470600e+04</td>\n",
       "      <td>0.437840</td>\n",
       "      <td>709.0</td>\n",
       "      <td>1.090790e+05</td>\n",
       "      <td>0.602994</td>\n",
       "      <td>575.0</td>\n",
       "      <td>9.842600e+04</td>\n",
       "      <td>0.688172</td>\n",
       "      <td>247.0</td>\n",
       "      <td>3.242800e+04</td>\n",
       "      <td>0.515144</td>\n",
       "    </tr>\n",
       "    <tr>\n",
       "      <th>9</th>\n",
       "      <td>150921</td>\n",
       "      <td>ar</td>\n",
       "      <td>46.0</td>\n",
       "      <td>1.145900e+04</td>\n",
       "      <td>0.995913</td>\n",
       "      <td>NaN</td>\n",
       "      <td>NaN</td>\n",
       "      <td>NaN</td>\n",
       "      <td>NaN</td>\n",
       "      <td>NaN</td>\n",
       "      <td>NaN</td>\n",
       "      <td>NaN</td>\n",
       "      <td>NaN</td>\n",
       "      <td>NaN</td>\n",
       "    </tr>\n",
       "  </tbody>\n",
       "</table>\n",
       "</div>"
      ],
      "text/plain": [
       "      uid device   freq_w1  play_time_w1  avg_play_pct_w1   freq_w2  \\\n",
       "0       0     ar  145338.0  1.251728e+10         0.695687  406719.0   \n",
       "1   12333     ip      45.0  9.027000e+03         0.949343     114.0   \n",
       "2   36816     ar       4.0  1.846110e+05         1.000000       NaN   \n",
       "3   51923     ar       NaN           NaN              NaN       2.0   \n",
       "4   60183     ar     354.0  1.354700e+04         0.148254     283.0   \n",
       "5   62099     ar      13.0  7.800000e+02         0.239631       NaN   \n",
       "6  103928     ar       2.0  2.360000e+02         0.459144      13.0   \n",
       "7  104057     ar       NaN           NaN              NaN     216.0   \n",
       "8  126721     ar     137.0  1.470600e+04         0.437840     709.0   \n",
       "9  150921     ar      46.0  1.145900e+04         0.995913       NaN   \n",
       "\n",
       "   play_time_w2  avg_play_pct_w2   freq_w3  play_time_w3  avg_play_pct_w3  \\\n",
       "0  1.750280e+10         0.590655  315694.0  2.000722e+10         0.682264   \n",
       "1  2.437200e+04         0.900190     109.0  2.479000e+04         0.972819   \n",
       "2           NaN              NaN       NaN           NaN              NaN   \n",
       "3  1.020000e+02         0.325743       NaN           NaN              NaN   \n",
       "4  1.478100e+04         0.202751     333.0  1.539700e+04         0.179196   \n",
       "5           NaN              NaN      10.0  1.665000e+03         0.616586   \n",
       "6  4.490000e+02         0.125180       2.0  1.060000e+02         0.192727   \n",
       "7  2.392600e+04         0.607737       NaN           NaN              NaN   \n",
       "8  1.090790e+05         0.602994     575.0  9.842600e+04         0.688172   \n",
       "9           NaN              NaN       NaN           NaN              NaN   \n",
       "\n",
       "    freq_w4  play_time_w4  avg_play_pct_w4  \n",
       "0  258804.0  2.123130e+10         0.711662  \n",
       "1      75.0  1.462400e+04         0.931983  \n",
       "2       NaN           NaN              NaN  \n",
       "3       NaN           NaN              NaN  \n",
       "4      38.0  4.949000e+03         0.508749  \n",
       "5       NaN           NaN              NaN  \n",
       "6       2.0  2.800000e+01         0.046512  \n",
       "7     129.0  1.808900e+04         0.549439  \n",
       "8     247.0  3.242800e+04         0.515144  \n",
       "9       NaN           NaN              NaN  "
      ]
     },
     "execution_count": 5,
     "metadata": {},
     "output_type": "execute_result"
    }
   ],
   "source": [
    "churn_df.head(10)"
   ]
  },
  {
   "cell_type": "code",
   "execution_count": 6,
   "metadata": {},
   "outputs": [
    {
     "data": {
      "text/plain": [
       "(594252, 14)"
      ]
     },
     "execution_count": 6,
     "metadata": {},
     "output_type": "execute_result"
    }
   ],
   "source": [
    "churn_df.shape"
   ]
  },
  {
   "cell_type": "code",
   "execution_count": 7,
   "metadata": {
    "collapsed": true
   },
   "outputs": [],
   "source": [
    "churn_df = churn_df[~(churn_df.freq_w1.isnull() & churn_df.freq_w2.isnull() & churn_df.freq_w3.isnull())]"
   ]
  },
  {
   "cell_type": "code",
   "execution_count": 8,
   "metadata": {},
   "outputs": [
    {
     "data": {
      "text/plain": [
       "(583962, 14)"
      ]
     },
     "execution_count": 8,
     "metadata": {},
     "output_type": "execute_result"
    }
   ],
   "source": [
    "churn_df.shape"
   ]
  },
  {
   "cell_type": "code",
   "execution_count": 9,
   "metadata": {},
   "outputs": [
    {
     "data": {
      "text/html": [
       "<div>\n",
       "<style>\n",
       "    .dataframe thead tr:only-child th {\n",
       "        text-align: right;\n",
       "    }\n",
       "\n",
       "    .dataframe thead th {\n",
       "        text-align: left;\n",
       "    }\n",
       "\n",
       "    .dataframe tbody tr th {\n",
       "        vertical-align: top;\n",
       "    }\n",
       "</style>\n",
       "<table border=\"1\" class=\"dataframe\">\n",
       "  <thead>\n",
       "    <tr style=\"text-align: right;\">\n",
       "      <th></th>\n",
       "      <th>uid</th>\n",
       "      <th>freq_w1</th>\n",
       "      <th>play_time_w1</th>\n",
       "      <th>avg_play_pct_w1</th>\n",
       "      <th>freq_w2</th>\n",
       "      <th>play_time_w2</th>\n",
       "      <th>avg_play_pct_w2</th>\n",
       "      <th>freq_w3</th>\n",
       "      <th>play_time_w3</th>\n",
       "      <th>avg_play_pct_w3</th>\n",
       "      <th>freq_w4</th>\n",
       "      <th>play_time_w4</th>\n",
       "      <th>avg_play_pct_w4</th>\n",
       "    </tr>\n",
       "  </thead>\n",
       "  <tbody>\n",
       "    <tr>\n",
       "      <th>count</th>\n",
       "      <td>5.839620e+05</td>\n",
       "      <td>5.370930e+05</td>\n",
       "      <td>5.370380e+05</td>\n",
       "      <td>537038.000000</td>\n",
       "      <td>2.733970e+05</td>\n",
       "      <td>2.733730e+05</td>\n",
       "      <td>273373.000000</td>\n",
       "      <td>2.349440e+05</td>\n",
       "      <td>2.349270e+05</td>\n",
       "      <td>234927.000000</td>\n",
       "      <td>1.964330e+05</td>\n",
       "      <td>1.964230e+05</td>\n",
       "      <td>196423.000000</td>\n",
       "    </tr>\n",
       "    <tr>\n",
       "      <th>mean</th>\n",
       "      <td>1.673784e+08</td>\n",
       "      <td>9.534328e+01</td>\n",
       "      <td>2.949101e+07</td>\n",
       "      <td>0.553899</td>\n",
       "      <td>1.245757e+02</td>\n",
       "      <td>1.384356e+07</td>\n",
       "      <td>0.586528</td>\n",
       "      <td>1.362943e+02</td>\n",
       "      <td>4.045263e+07</td>\n",
       "      <td>0.586726</td>\n",
       "      <td>1.417671e+02</td>\n",
       "      <td>1.949876e+07</td>\n",
       "      <td>0.591718</td>\n",
       "    </tr>\n",
       "    <tr>\n",
       "      <th>std</th>\n",
       "      <td>1.043860e+07</td>\n",
       "      <td>4.302067e+03</td>\n",
       "      <td>2.036344e+10</td>\n",
       "      <td>0.279140</td>\n",
       "      <td>5.168211e+03</td>\n",
       "      <td>5.830368e+09</td>\n",
       "      <td>0.263926</td>\n",
       "      <td>6.321681e+03</td>\n",
       "      <td>1.859682e+10</td>\n",
       "      <td>0.261094</td>\n",
       "      <td>6.126802e+03</td>\n",
       "      <td>6.845284e+09</td>\n",
       "      <td>0.257849</td>\n",
       "    </tr>\n",
       "    <tr>\n",
       "      <th>min</th>\n",
       "      <td>0.000000e+00</td>\n",
       "      <td>1.000000e+00</td>\n",
       "      <td>0.000000e+00</td>\n",
       "      <td>0.000000</td>\n",
       "      <td>1.000000e+00</td>\n",
       "      <td>0.000000e+00</td>\n",
       "      <td>0.000000</td>\n",
       "      <td>1.000000e+00</td>\n",
       "      <td>0.000000e+00</td>\n",
       "      <td>0.000000</td>\n",
       "      <td>1.000000e+00</td>\n",
       "      <td>0.000000e+00</td>\n",
       "      <td>0.000000</td>\n",
       "    </tr>\n",
       "    <tr>\n",
       "      <th>25%</th>\n",
       "      <td>1.680325e+08</td>\n",
       "      <td>6.000000e+00</td>\n",
       "      <td>5.000000e+02</td>\n",
       "      <td>0.338013</td>\n",
       "      <td>9.000000e+00</td>\n",
       "      <td>9.530000e+02</td>\n",
       "      <td>0.392200</td>\n",
       "      <td>9.000000e+00</td>\n",
       "      <td>9.680000e+02</td>\n",
       "      <td>0.393572</td>\n",
       "      <td>1.000000e+01</td>\n",
       "      <td>1.082000e+03</td>\n",
       "      <td>0.402257</td>\n",
       "    </tr>\n",
       "    <tr>\n",
       "      <th>50%</th>\n",
       "      <td>1.684889e+08</td>\n",
       "      <td>2.400000e+01</td>\n",
       "      <td>2.818000e+03</td>\n",
       "      <td>0.572994</td>\n",
       "      <td>3.600000e+01</td>\n",
       "      <td>4.627000e+03</td>\n",
       "      <td>0.614804</td>\n",
       "      <td>3.600000e+01</td>\n",
       "      <td>4.587000e+03</td>\n",
       "      <td>0.613440</td>\n",
       "      <td>3.700000e+01</td>\n",
       "      <td>4.826000e+03</td>\n",
       "      <td>0.619924</td>\n",
       "    </tr>\n",
       "    <tr>\n",
       "      <th>75%</th>\n",
       "      <td>1.687722e+08</td>\n",
       "      <td>8.100000e+01</td>\n",
       "      <td>1.128787e+04</td>\n",
       "      <td>0.785403</td>\n",
       "      <td>1.080000e+02</td>\n",
       "      <td>1.687800e+04</td>\n",
       "      <td>0.808028</td>\n",
       "      <td>1.090000e+02</td>\n",
       "      <td>1.641350e+04</td>\n",
       "      <td>0.805434</td>\n",
       "      <td>1.140000e+02</td>\n",
       "      <td>1.733300e+04</td>\n",
       "      <td>0.805400</td>\n",
       "    </tr>\n",
       "    <tr>\n",
       "      <th>max</th>\n",
       "      <td>1.692623e+08</td>\n",
       "      <td>1.894181e+06</td>\n",
       "      <td>1.491651e+13</td>\n",
       "      <td>1.000000</td>\n",
       "      <td>1.782169e+06</td>\n",
       "      <td>3.020395e+12</td>\n",
       "      <td>1.000000</td>\n",
       "      <td>1.898765e+06</td>\n",
       "      <td>9.007906e+12</td>\n",
       "      <td>1.000000</td>\n",
       "      <td>1.759944e+06</td>\n",
       "      <td>2.994757e+12</td>\n",
       "      <td>1.000000</td>\n",
       "    </tr>\n",
       "  </tbody>\n",
       "</table>\n",
       "</div>"
      ],
      "text/plain": [
       "                uid       freq_w1  play_time_w1  avg_play_pct_w1  \\\n",
       "count  5.839620e+05  5.370930e+05  5.370380e+05    537038.000000   \n",
       "mean   1.673784e+08  9.534328e+01  2.949101e+07         0.553899   \n",
       "std    1.043860e+07  4.302067e+03  2.036344e+10         0.279140   \n",
       "min    0.000000e+00  1.000000e+00  0.000000e+00         0.000000   \n",
       "25%    1.680325e+08  6.000000e+00  5.000000e+02         0.338013   \n",
       "50%    1.684889e+08  2.400000e+01  2.818000e+03         0.572994   \n",
       "75%    1.687722e+08  8.100000e+01  1.128787e+04         0.785403   \n",
       "max    1.692623e+08  1.894181e+06  1.491651e+13         1.000000   \n",
       "\n",
       "            freq_w2  play_time_w2  avg_play_pct_w2       freq_w3  \\\n",
       "count  2.733970e+05  2.733730e+05    273373.000000  2.349440e+05   \n",
       "mean   1.245757e+02  1.384356e+07         0.586528  1.362943e+02   \n",
       "std    5.168211e+03  5.830368e+09         0.263926  6.321681e+03   \n",
       "min    1.000000e+00  0.000000e+00         0.000000  1.000000e+00   \n",
       "25%    9.000000e+00  9.530000e+02         0.392200  9.000000e+00   \n",
       "50%    3.600000e+01  4.627000e+03         0.614804  3.600000e+01   \n",
       "75%    1.080000e+02  1.687800e+04         0.808028  1.090000e+02   \n",
       "max    1.782169e+06  3.020395e+12         1.000000  1.898765e+06   \n",
       "\n",
       "       play_time_w3  avg_play_pct_w3       freq_w4  play_time_w4  \\\n",
       "count  2.349270e+05    234927.000000  1.964330e+05  1.964230e+05   \n",
       "mean   4.045263e+07         0.586726  1.417671e+02  1.949876e+07   \n",
       "std    1.859682e+10         0.261094  6.126802e+03  6.845284e+09   \n",
       "min    0.000000e+00         0.000000  1.000000e+00  0.000000e+00   \n",
       "25%    9.680000e+02         0.393572  1.000000e+01  1.082000e+03   \n",
       "50%    4.587000e+03         0.613440  3.700000e+01  4.826000e+03   \n",
       "75%    1.641350e+04         0.805434  1.140000e+02  1.733300e+04   \n",
       "max    9.007906e+12         1.000000  1.759944e+06  2.994757e+12   \n",
       "\n",
       "       avg_play_pct_w4  \n",
       "count    196423.000000  \n",
       "mean          0.591718  \n",
       "std           0.257849  \n",
       "min           0.000000  \n",
       "25%           0.402257  \n",
       "50%           0.619924  \n",
       "75%           0.805400  \n",
       "max           1.000000  "
      ]
     },
     "execution_count": 9,
     "metadata": {},
     "output_type": "execute_result"
    }
   ],
   "source": [
    "churn_df.describe()"
   ]
  },
  {
   "cell_type": "code",
   "execution_count": 10,
   "metadata": {
    "collapsed": true
   },
   "outputs": [],
   "source": [
    "churn_df.fillna(0, inplace=True)"
   ]
  },
  {
   "cell_type": "code",
   "execution_count": 11,
   "metadata": {
    "collapsed": true
   },
   "outputs": [],
   "source": [
    "feature_ls = ['freq_w1', 'play_time_w1', 'avg_play_pct_w1', \\\n",
    "              'freq_w2', 'play_time_w2', 'avg_play_pct_w2', \\\n",
    "              'freq_w3', 'play_time_w3', 'avg_play_pct_w3', 'device']"
   ]
  },
  {
   "cell_type": "code",
   "execution_count": 12,
   "metadata": {
    "collapsed": true
   },
   "outputs": [],
   "source": [
    "X = churn_df[feature_ls]"
   ]
  },
  {
   "cell_type": "code",
   "execution_count": 13,
   "metadata": {},
   "outputs": [
    {
     "name": "stderr",
     "output_type": "stream",
     "text": [
      "/Users/Meng/anaconda/lib/python2.7/site-packages/ipykernel/__main__.py:1: SettingWithCopyWarning: \n",
      "A value is trying to be set on a copy of a slice from a DataFrame.\n",
      "Try using .loc[row_indexer,col_indexer] = value instead\n",
      "\n",
      "See the caveats in the documentation: http://pandas.pydata.org/pandas-docs/stable/indexing.html#indexing-view-versus-copy\n",
      "  if __name__ == '__main__':\n"
     ]
    }
   ],
   "source": [
    "X['device'] = (X['device'] == 'ip').astype(int)\n",
    "y = (churn_df.freq_w4 == 0).astype(int)"
   ]
  },
  {
   "cell_type": "code",
   "execution_count": 14,
   "metadata": {},
   "outputs": [
    {
     "data": {
      "text/plain": [
       "0.663620235563273"
      ]
     },
     "execution_count": 14,
     "metadata": {},
     "output_type": "execute_result"
    }
   ],
   "source": [
    "y.mean()"
   ]
  },
  {
   "cell_type": "code",
   "execution_count": 15,
   "metadata": {
    "collapsed": true
   },
   "outputs": [],
   "source": [
    "RANDOM_SEED = 24\n",
    "X_train, X_test, y_train, y_test = train_test_split(\n",
    "    X,\n",
    "    y,\n",
    "    test_size = 0.2,\n",
    "    random_state = RANDOM_SEED\n",
    ")"
   ]
  },
  {
   "cell_type": "markdown",
   "metadata": {},
   "source": [
    "### random forest"
   ]
  },
  {
   "cell_type": "code",
   "execution_count": 16,
   "metadata": {},
   "outputs": [
    {
     "name": "stdout",
     "output_type": "stream",
     "text": [
      "CPU times: user 2min 43s, sys: 2.91 s, total: 2min 46s\n",
      "Wall time: 2min 52s\n"
     ]
    }
   ],
   "source": [
    "%%time\n",
    "clf_rf = RandomForestClassifier(max_depth=None, n_estimators=100, min_samples_leaf=3, random_state=RANDOM_SEED)\n",
    "clf_rf.fit(X_train, y_train)"
   ]
  },
  {
   "cell_type": "code",
   "execution_count": 142,
   "metadata": {},
   "outputs": [
    {
     "name": "stdout",
     "output_type": "stream",
     "text": [
      "0.937158276109\n",
      "0.839676007055\n"
     ]
    }
   ],
   "source": [
    "print clf_rf.score(X_train, y_train)\n",
    "print clf_rf.score(X_test, y_test)"
   ]
  },
  {
   "cell_type": "code",
   "execution_count": 17,
   "metadata": {},
   "outputs": [
    {
     "name": "stdout",
     "output_type": "stream",
     "text": [
      "             precision    recall  f1-score   support\n",
      "\n",
      "          0       0.77      0.74      0.75     39271\n",
      "          1       0.87      0.89      0.88     77522\n",
      "\n",
      "avg / total       0.84      0.84      0.84    116793\n",
      "\n"
     ]
    }
   ],
   "source": [
    "print classification_report(y_test, clf_rf.predict(X_test))"
   ]
  },
  {
   "cell_type": "code",
   "execution_count": 18,
   "metadata": {},
   "outputs": [
    {
     "name": "stdout",
     "output_type": "stream",
     "text": [
      "[[69123  8399]\n",
      " [10365 28906]]\n"
     ]
    },
    {
     "data": {
      "image/png": "[encoded data removed]",
      "text/plain": [
       "<matplotlib.figure.Figure at 0x124877090>"
      ]
     },
     "metadata": {},
     "output_type": "display_data"
    }
   ],
   "source": [
    "plot_confusion_matrix(y_test, clf_rf.predict(X_test))"
   ]
  },
  {
   "cell_type": "code",
   "execution_count": 19,
   "metadata": {
    "collapsed": true
   },
   "outputs": [],
   "source": [
    "df_fi = pd.DataFrame(zip(feature_ls, clf_rf.feature_importances_), columns=['feature', 'feature_importance'])\n",
    "df_fi.sort_values('feature_importance', ascending=False, inplace=True)"
   ]
  },
  {
   "cell_type": "code",
   "execution_count": 20,
   "metadata": {},
   "outputs": [
    {
     "data": {
      "image/png": "[encoded data removed]",
      "text/plain": [
       "<matplotlib.figure.Figure at 0x11d21a7d0>"
      ]
     },
     "metadata": {},
     "output_type": "display_data"
    }
   ],
   "source": [
    "fig, ax = plt.subplots()\n",
    "fig.set_size_inches((5, 10))\n",
    "sns.barplot(x='feature_importance', y='feature', data=df_fi, color=\"#34495e\", ax=ax)\n",
    "ax.set(xlabel='Feature Importance', ylabel='feature', title='Feature Importance Plot')\n",
    "plt.show()"
   ]
  },
  {
   "cell_type": "markdown",
   "metadata": {},
   "source": [
    "### logistic regression"
   ]
  },
  {
   "cell_type": "code",
   "execution_count": 21,
   "metadata": {
    "collapsed": true
   },
   "outputs": [],
   "source": [
    "from sklearn.preprocessing import StandardScaler"
   ]
  },
  {
   "cell_type": "code",
   "execution_count": 22,
   "metadata": {
    "collapsed": true
   },
   "outputs": [],
   "source": [
    "scaler = StandardScaler()"
   ]
  },
  {
   "cell_type": "code",
   "execution_count": 23,
   "metadata": {
    "collapsed": true
   },
   "outputs": [],
   "source": [
    "X_train_scaled = scaler.fit_transform(X_train)\n",
    "X_test_scaled = scaler.transform(X_test)"
   ]
  },
  {
   "cell_type": "code",
   "execution_count": 24,
   "metadata": {},
   "outputs": [
    {
     "data": {
      "text/plain": [
       "LogisticRegression(C=1.0, class_weight=None, dual=False, fit_intercept=True,\n",
       "          intercept_scaling=1, max_iter=100, multi_class='ovr', n_jobs=1,\n",
       "          penalty='l2', random_state=None, solver='liblinear', tol=0.0001,\n",
       "          verbose=0, warm_start=False)"
      ]
     },
     "execution_count": 24,
     "metadata": {},
     "output_type": "execute_result"
    }
   ],
   "source": [
    "clf_lr = LogisticRegression()\n",
    "clf_lr.fit(X_train_scaled, y_train)"
   ]
  },
  {
   "cell_type": "code",
   "execution_count": 25,
   "metadata": {},
   "outputs": [
    {
     "name": "stdout",
     "output_type": "stream",
     "text": [
      "0.8135000396\n",
      "0.812771313349\n"
     ]
    }
   ],
   "source": [
    "print clf_lr.score(X_train_scaled, y_train)\n",
    "print clf_lr.score(X_test_scaled, y_test)"
   ]
  },
  {
   "cell_type": "code",
   "execution_count": 26,
   "metadata": {},
   "outputs": [
    {
     "name": "stdout",
     "output_type": "stream",
     "text": [
      "             precision    recall  f1-score   support\n",
      "\n",
      "          0       0.76      0.64      0.70     39271\n",
      "          1       0.83      0.90      0.86     77522\n",
      "\n",
      "avg / total       0.81      0.81      0.81    116793\n",
      "\n"
     ]
    }
   ],
   "source": [
    "print classification_report(y_test, clf_lr.predict(X_test_scaled))"
   ]
  },
  {
   "cell_type": "code",
   "execution_count": 27,
   "metadata": {},
   "outputs": [
    {
     "name": "stdout",
     "output_type": "stream",
     "text": [
      "[[69608  7914]\n",
      " [13953 25318]]\n"
     ]
    },
    {
     "data": {
      "image/png": "[encoded data removed]",
      "text/plain": [
       "<matplotlib.figure.Figure at 0x11d21ad90>"
      ]
     },
     "metadata": {},
     "output_type": "display_data"
    }
   ],
   "source": [
    "plot_confusion_matrix(y_test, clf_lr.predict(X_test_scaled))"
   ]
  },
  {
   "cell_type": "code",
   "execution_count": 28,
   "metadata": {
    "collapsed": true
   },
   "outputs": [],
   "source": [
    "df_coeffs = pd.DataFrame({'feature': feature_ls, 'coeff': clf_lr.coef_.flatten()})\n",
    "df_coeffs.sort_values('coeff', inplace=True)"
   ]
  },
  {
   "cell_type": "code",
   "execution_count": 29,
   "metadata": {},
   "outputs": [
    {
     "data": {
      "image/png": "[encoded data removed]",
      "text/plain": [
       "<matplotlib.figure.Figure at 0x11d21a910>"
      ]
     },
     "metadata": {},
     "output_type": "display_data"
    }
   ],
   "source": [
    "fig, ax = plt.subplots()\n",
    "fig.set_size_inches((5, 10))\n",
    "sns.barplot(x='coeff', y='feature', data=df_coeffs, color=\"#34495e\", ax=ax)\n",
    "ax.set(xlabel='Coefficient', ylabel='Feature')\n",
    "plt.show()"
   ]
  },
  {
   "cell_type": "markdown",
   "metadata": {},
   "source": [
    "## ROC"
   ]
  },
  {
   "cell_type": "code",
   "execution_count": 30,
   "metadata": {},
   "outputs": [
    {
     "name": "stderr",
     "output_type": "stream",
     "text": [
      "/Users/Meng/anaconda/lib/python2.7/site-packages/sklearn/linear_model/base.py:340: RuntimeWarning: overflow encountered in exp\n",
      "  np.exp(prob, prob)\n"
     ]
    }
   ],
   "source": [
    "y_test_pred_proba_lr = clf_lr.predict_proba(X_test_scaled)[:,1]\n",
    "fpr_lr, tpr_lr, thresholds_lr = roc_curve(y_test, y_test_pred_proba_lr)"
   ]
  },
  {
   "cell_type": "code",
   "execution_count": 31,
   "metadata": {
    "collapsed": true
   },
   "outputs": [],
   "source": [
    "y_test_pred_proba_rf = clf_rf.predict_proba(X_test)[:,1]\n",
    "fpr_rf, tpr_rf, thresholds_rf = roc_curve(y_test, y_test_pred_proba_rf)"
   ]
  },
  {
   "cell_type": "code",
   "execution_count": 32,
   "metadata": {},
   "outputs": [
    {
     "name": "stdout",
     "output_type": "stream",
     "text": [
      "0.895169648601\n",
      "0.87516954833\n"
     ]
    }
   ],
   "source": [
    "print roc_auc_score(y_test, y_test_pred_proba_rf)\n",
    "print roc_auc_score(y_test, y_test_pred_proba_lr)"
   ]
  },
  {
   "cell_type": "code",
   "execution_count": 33,
   "metadata": {},
   "outputs": [
    {
     "data": {
      "image/png": "[encoded data removed]",
      "text/plain": [
       "<matplotlib.figure.Figure at 0x11db600d0>"
      ]
     },
     "metadata": {},
     "output_type": "display_data"
    }
   ],
   "source": [
    "# plot TPR against FPR\n",
    "plt.figure(figsize=(8, 6))\n",
    "p1, = plt.plot(fpr_rf, tpr_rf, color='red', label='random forest')\n",
    "p2, = plt.plot(fpr_lr, tpr_lr, color='darkorange', label='logistic regression')\n",
    "\n",
    "# plot 45 degree line\n",
    "xx = np.linspace(0, 1.0, 20)\n",
    "plt.plot([0, 1], [0, 1], color='navy', lw=2, linestyle='--')\n",
    "\n",
    "plt.xlabel(\"False Positive Rate\")\n",
    "plt.ylabel(\"True Positive Rate\")\n",
    "plt.title(\"ROC\")\n",
    "\n",
    "plt.legend([p1, p2], loc=4)\n",
    "\n",
    "plt.show()"
   ]
  },
  {
   "cell_type": "code",
   "execution_count": null,
   "metadata": {
    "collapsed": true
   },
   "outputs": [],
   "source": []
  }
 ],
 "metadata": {
  "anaconda-cloud": {},
  "kernelspec": {
   "display_name": "Python [conda root]",
   "language": "python",
   "name": "conda-root-py"
  },
  "language_info": {
   "codemirror_mode": {
    "name": "ipython",
    "version": 2
   },
   "file_extension": ".py",
   "mimetype": "text/x-python",
   "name": "python",
   "nbconvert_exporter": "python",
   "pygments_lexer": "ipython2",
   "version": "2.7.13"
  }
 },
 "nbformat": 4,
 "nbformat_minor": 2
}
