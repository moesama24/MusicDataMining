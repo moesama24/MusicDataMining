{
 "cells": [
  {
   "cell_type": "code",
   "execution_count": 26,
   "metadata": {
    "collapsed": true
   },
   "outputs": [],
   "source": [
    "import pandas as pd\n",
    "import sqlite3 as sql\n",
    "%matplotlib inline"
   ]
  },
  {
   "cell_type": "code",
   "execution_count": 2,
   "metadata": {
    "collapsed": true
   },
   "outputs": [],
   "source": [
    "musicbox_conn = sql.connect(\"../data/musicbox.sqlite\")\n",
    "musicbox_conn.text_factory = str"
   ]
  },
  {
   "cell_type": "code",
   "execution_count": 3,
   "metadata": {},
   "outputs": [
    {
     "data": {
      "text/html": [
       "<div>\n",
       "<style>\n",
       "    .dataframe thead tr:only-child th {\n",
       "        text-align: right;\n",
       "    }\n",
       "\n",
       "    .dataframe thead th {\n",
       "        text-align: left;\n",
       "    }\n",
       "\n",
       "    .dataframe tbody tr th {\n",
       "        vertical-align: top;\n",
       "    }\n",
       "</style>\n",
       "<table border=\"1\" class=\"dataframe\">\n",
       "  <thead>\n",
       "    <tr style=\"text-align: right;\">\n",
       "      <th></th>\n",
       "      <th>type</th>\n",
       "      <th>name</th>\n",
       "      <th>tbl_name</th>\n",
       "      <th>rootpage</th>\n",
       "      <th>sql</th>\n",
       "    </tr>\n",
       "  </thead>\n",
       "  <tbody>\n",
       "    <tr>\n",
       "      <th>0</th>\n",
       "      <td>table</td>\n",
       "      <td>Down</td>\n",
       "      <td>Down</td>\n",
       "      <td>3</td>\n",
       "      <td>CREATE TABLE Down(\\n  uid INT,\\n  device TEXT,...</td>\n",
       "    </tr>\n",
       "    <tr>\n",
       "      <th>1</th>\n",
       "      <td>table</td>\n",
       "      <td>Play</td>\n",
       "      <td>Play</td>\n",
       "      <td>4</td>\n",
       "      <td>CREATE TABLE Play(\\n  uid INT,\\n  device TEXT,...</td>\n",
       "    </tr>\n",
       "    <tr>\n",
       "      <th>2</th>\n",
       "      <td>index</td>\n",
       "      <td>song_id_index</td>\n",
       "      <td>Play</td>\n",
       "      <td>5</td>\n",
       "      <td>CREATE INDEX song_id_index ON Play (song_id)</td>\n",
       "    </tr>\n",
       "  </tbody>\n",
       "</table>\n",
       "</div>"
      ],
      "text/plain": [
       "    type           name tbl_name  rootpage  \\\n",
       "0  table           Down     Down         3   \n",
       "1  table           Play     Play         4   \n",
       "2  index  song_id_index     Play         5   \n",
       "\n",
       "                                                 sql  \n",
       "0  CREATE TABLE Down(\\n  uid INT,\\n  device TEXT,...  \n",
       "1  CREATE TABLE Play(\\n  uid INT,\\n  device TEXT,...  \n",
       "2       CREATE INDEX song_id_index ON Play (song_id)  "
      ]
     },
     "execution_count": 3,
     "metadata": {},
     "output_type": "execute_result"
    }
   ],
   "source": [
    "pd.read_sql(\"SELECT * FROM sqlite_master\", musicbox_conn)"
   ]
  },
  {
   "cell_type": "markdown",
   "metadata": {},
   "source": [
    "### Drop paid_flag\n",
    "sqlite doesn't support alter table ... drop ..."
   ]
  },
  {
   "cell_type": "code",
   "execution_count": null,
   "metadata": {
    "collapsed": true
   },
   "outputs": [],
   "source": [
    "musicbox_conn.execute(\"ALTER TABLE Down RENAME TO temp_down\")\n",
    "\n",
    "musicbox_conn.execute(\"\"\"\n",
    "CREATE TABLE Down AS\n",
    "    SELECT uid, device, song_id, song_name, singer, date \n",
    "    FROM temp_down\n",
    "\"\"\")\n",
    "\n",
    "musicbox_conn.execute(\"DROP TABLE temp_down\")"
   ]
  },
  {
   "cell_type": "code",
   "execution_count": null,
   "metadata": {
    "collapsed": true
   },
   "outputs": [],
   "source": [
    "%%time\n",
    "musicbox_conn.execute(\"ALTER TABLE Play RENAME TO temp_play\")\n",
    "\n",
    "musicbox_conn.execute(\"\"\"\n",
    "CREATE TABLE Play AS\n",
    "    SELECT uid, device, song_id, song_type, song_name, singer, play_time, song_length, date \n",
    "    FROM temp_play\n",
    "\"\"\")\n",
    "\n",
    "musicbox_conn.execute(\"DROP TABLE temp_play\")"
   ]
  },
  {
   "cell_type": "markdown",
   "metadata": {},
   "source": [
    "### Extract the date from original 'date' field"
   ]
  },
  {
   "cell_type": "code",
   "execution_count": 9,
   "metadata": {},
   "outputs": [
    {
     "data": {
      "text/plain": [
       "<sqlite3.Cursor at 0x1119311f0>"
      ]
     },
     "execution_count": 9,
     "metadata": {},
     "output_type": "execute_result"
    }
   ],
   "source": [
    "musicbox_conn.execute(\"ALTER TABLE Down RENAME TO temp_down\")\n",
    "\n",
    "musicbox_conn.execute(\"\"\"\n",
    "CREATE TABLE Down AS\n",
    "    SELECT uid, device, song_id, song_name, singer, DATE(date) AS date \n",
    "    FROM temp_down\n",
    "\"\"\")\n",
    "\n",
    "musicbox_conn.execute(\"DROP TABLE temp_down\")"
   ]
  },
  {
   "cell_type": "code",
   "execution_count": 17,
   "metadata": {},
   "outputs": [
    {
     "data": {
      "text/plain": [
       "<sqlite3.Cursor at 0x111a0c5e0>"
      ]
     },
     "execution_count": 17,
     "metadata": {},
     "output_type": "execute_result"
    }
   ],
   "source": [
    "#musicbox_conn.execute(\"ALTER TABLE Play RENAME TO temp_play\")\n",
    "\n",
    "musicbox_conn.execute(\"\"\"\n",
    "CREATE TABLE Play AS\n",
    "    SELECT uid, device, song_id, song_type, song_name, singer, play_time, song_length, DATE(date) AS date \n",
    "    FROM temp_play\n",
    "\"\"\")\n",
    "\n",
    "musicbox_conn.execute(\"DROP TABLE temp_play\")"
   ]
  },
  {
   "cell_type": "code",
   "execution_count": null,
   "metadata": {
    "collapsed": true
   },
   "outputs": [],
   "source": [
    "musicbox_conn.execute(\"VACUUM;\")"
   ]
  },
  {
   "cell_type": "markdown",
   "metadata": {},
   "source": [
    "### SET index"
   ]
  },
  {
   "cell_type": "code",
   "execution_count": null,
   "metadata": {
    "collapsed": true
   },
   "outputs": [],
   "source": [
    "# create index on uid in Play\n",
    "musicbox_conn.execute(\"CREATE INDEX uid_index ON Play (uid);\")"
   ]
  },
  {
   "cell_type": "code",
   "execution_count": 25,
   "metadata": {},
   "outputs": [
    {
     "data": {
      "text/plain": [
       "<sqlite3.Cursor at 0x111a0c6c0>"
      ]
     },
     "execution_count": 25,
     "metadata": {},
     "output_type": "execute_result"
    }
   ],
   "source": [
    "# create index on song_id\n",
    "musicbox_conn.execute(\"CREATE INDEX song_id_index ON Play (song_id);\")"
   ]
  },
  {
   "cell_type": "code",
   "execution_count": null,
   "metadata": {
    "collapsed": true
   },
   "outputs": [],
   "source": []
  },
  {
   "cell_type": "code",
   "execution_count": null,
   "metadata": {
    "collapsed": true
   },
   "outputs": [],
   "source": [
    "musicbox_conn.execute(\"CREATE INDEX device_index ON Down (device);\")"
   ]
  },
  {
   "cell_type": "code",
   "execution_count": null,
   "metadata": {
    "collapsed": true
   },
   "outputs": [],
   "source": []
  },
  {
   "cell_type": "markdown",
   "metadata": {},
   "source": [
    "## song_length and play_time\n",
    "There are too many outliers (0, negative, NA, ridiculously large value) in song_length and play_time which cannot be neglected. For example, 22385091 play records with 0 song_length, which accounts for more than 10% data. Therefore, it is necessary to impute those outliers/missing values.\n",
    "\n",
    "My strategy is \n",
    "1. Only 82115 records have no song_id, only 309 records have negative play_time. Delete those records.\n",
    "2. \n"
   ]
  },
  {
   "cell_type": "code",
   "execution_count": 5,
   "metadata": {},
   "outputs": [
    {
     "data": {
      "text/plain": [
       "<sqlite3.Cursor at 0x10e1a3030>"
      ]
     },
     "execution_count": 5,
     "metadata": {},
     "output_type": "execute_result"
    }
   ],
   "source": [
    "musicbox_conn.execute(\"DELETE FROM Play WHERE song_id IS NULL OR play_time < 0\")\n",
    "musicbox_conn.execute(\"VACUUM;\")"
   ]
  },
  {
   "cell_type": "code",
   "execution_count": 6,
   "metadata": {},
   "outputs": [
    {
     "data": {
      "text/plain": [
       "<sqlite3.Cursor at 0x118a8ff80>"
      ]
     },
     "execution_count": 6,
     "metadata": {},
     "output_type": "execute_result"
    }
   ],
   "source": [
    "musicbox_conn.execute(\"CREATE INDEX songid_songlength_idx ON Play (song_id, song_length);\")"
   ]
  },
  {
   "cell_type": "code",
   "execution_count": 10,
   "metadata": {
    "scrolled": true
   },
   "outputs": [
    {
     "data": {
      "text/plain": [
       "<sqlite3.Cursor at 0x118733880>"
      ]
     },
     "execution_count": 10,
     "metadata": {},
     "output_type": "execute_result"
    }
   ],
   "source": [
    "musicbox_conn.execute(\"\"\"\n",
    "CREATE TABLE song_info AS\n",
    "    SELECT \n",
    "        song_id, song_length, MAX(count) AS max_count\n",
    "    FROM\n",
    "        (SELECT song_id, song_length, COUNT(*) AS count FROM Play GROUP BY song_id, song_length) sub\n",
    "    GROUP BY\n",
    "        song_id\n",
    "\"\"\")"
   ]
  },
  {
   "cell_type": "code",
   "execution_count": 12,
   "metadata": {},
   "outputs": [],
   "source": [
    "song_info = pd.read_sql(\"SELECT * FROM song_info\", musicbox_conn)"
   ]
  },
  {
   "cell_type": "code",
   "execution_count": 22,
   "metadata": {},
   "outputs": [
    {
     "data": {
      "text/html": [
       "<div>\n",
       "<style>\n",
       "    .dataframe thead tr:only-child th {\n",
       "        text-align: right;\n",
       "    }\n",
       "\n",
       "    .dataframe thead th {\n",
       "        text-align: left;\n",
       "    }\n",
       "\n",
       "    .dataframe tbody tr th {\n",
       "        vertical-align: top;\n",
       "    }\n",
       "</style>\n",
       "<table border=\"1\" class=\"dataframe\">\n",
       "  <thead>\n",
       "    <tr style=\"text-align: right;\">\n",
       "      <th></th>\n",
       "      <th>song_id</th>\n",
       "      <th>song_length</th>\n",
       "      <th>max_count</th>\n",
       "    </tr>\n",
       "  </thead>\n",
       "  <tbody>\n",
       "    <tr>\n",
       "      <th>0</th>\n",
       "      <td>0.0</td>\n",
       "      <td>0.0</td>\n",
       "      <td>395833</td>\n",
       "    </tr>\n",
       "    <tr>\n",
       "      <th>1</th>\n",
       "      <td>1.0</td>\n",
       "      <td>181.0</td>\n",
       "      <td>21554</td>\n",
       "    </tr>\n",
       "    <tr>\n",
       "      <th>2</th>\n",
       "      <td>2.0</td>\n",
       "      <td>NaN</td>\n",
       "      <td>44</td>\n",
       "    </tr>\n",
       "    <tr>\n",
       "      <th>3</th>\n",
       "      <td>3.0</td>\n",
       "      <td>NaN</td>\n",
       "      <td>16</td>\n",
       "    </tr>\n",
       "    <tr>\n",
       "      <th>4</th>\n",
       "      <td>4.0</td>\n",
       "      <td>NaN</td>\n",
       "      <td>31</td>\n",
       "    </tr>\n",
       "  </tbody>\n",
       "</table>\n",
       "</div>"
      ],
      "text/plain": [
       "   song_id  song_length  max_count\n",
       "0      0.0          0.0     395833\n",
       "1      1.0        181.0      21554\n",
       "2      2.0          NaN         44\n",
       "3      3.0          NaN         16\n",
       "4      4.0          NaN         31"
      ]
     },
     "execution_count": 22,
     "metadata": {},
     "output_type": "execute_result"
    }
   ],
   "source": [
    "song_info.head()"
   ]
  },
  {
   "cell_type": "code",
   "execution_count": 23,
   "metadata": {},
   "outputs": [
    {
     "data": {
      "text/plain": [
       "0.00043914975890972966"
      ]
     },
     "execution_count": 23,
     "metadata": {},
     "output_type": "execute_result"
    }
   ],
   "source": [
    "song_info.song_length.isnull().mean()"
   ]
  },
  {
   "cell_type": "code",
   "execution_count": 38,
   "metadata": {},
   "outputs": [
    {
     "data": {
      "text/plain": [
       "count    1.695715e+06\n",
       "mean     2.791069e+03\n",
       "std      1.497085e+06\n",
       "min      0.000000e+00\n",
       "25%      1.030000e+02\n",
       "50%      2.250000e+02\n",
       "75%      2.930000e+02\n",
       "max      1.343966e+09\n",
       "Name: song_length, dtype: float64"
      ]
     },
     "execution_count": 38,
     "metadata": {},
     "output_type": "execute_result"
    }
   ],
   "source": [
    "song_info.song_length.describe()"
   ]
  },
  {
   "cell_type": "code",
   "execution_count": 40,
   "metadata": {},
   "outputs": [
    {
     "data": {
      "text/plain": [
       "<matplotlib.axes._subplots.AxesSubplot at 0x119012790>"
      ]
     },
     "execution_count": 40,
     "metadata": {},
     "output_type": "execute_result"
    },
    {
     "data": {
      "image/png": "[encoded data removed]",
      "text/plain": [
       "<matplotlib.figure.Figure at 0x12334b090>"
      ]
     },
     "metadata": {},
     "output_type": "display_data"
    }
   ],
   "source": [
    "song_info.song_length[song_info.song_length < song_info.song_length.quantile(0.999)].plot.hist()"
   ]
  },
  {
   "cell_type": "code",
   "execution_count": 45,
   "metadata": {},
   "outputs": [
    {
     "data": {
      "text/plain": [
       "3871077"
      ]
     },
     "execution_count": 45,
     "metadata": {},
     "output_type": "execute_result"
    }
   ],
   "source": [
    "song_info[song_info.song_length == 0].max_count.sum()"
   ]
  },
  {
   "cell_type": "code",
   "execution_count": 47,
   "metadata": {},
   "outputs": [
    {
     "data": {
      "text/html": [
       "<div>\n",
       "<style>\n",
       "    .dataframe thead tr:only-child th {\n",
       "        text-align: right;\n",
       "    }\n",
       "\n",
       "    .dataframe thead th {\n",
       "        text-align: left;\n",
       "    }\n",
       "\n",
       "    .dataframe tbody tr th {\n",
       "        vertical-align: top;\n",
       "    }\n",
       "</style>\n",
       "<table border=\"1\" class=\"dataframe\">\n",
       "  <thead>\n",
       "    <tr style=\"text-align: right;\">\n",
       "      <th></th>\n",
       "      <th>song_id</th>\n",
       "      <th>song_length</th>\n",
       "      <th>max_count</th>\n",
       "    </tr>\n",
       "  </thead>\n",
       "  <tbody>\n",
       "    <tr>\n",
       "      <th>0</th>\n",
       "      <td>0.000000e+00</td>\n",
       "      <td>0.0</td>\n",
       "      <td>395833</td>\n",
       "    </tr>\n",
       "    <tr>\n",
       "      <th>120</th>\n",
       "      <td>2.700000e+02</td>\n",
       "      <td>0.0</td>\n",
       "      <td>15</td>\n",
       "    </tr>\n",
       "    <tr>\n",
       "      <th>10297</th>\n",
       "      <td>5.425100e+04</td>\n",
       "      <td>0.0</td>\n",
       "      <td>14</td>\n",
       "    </tr>\n",
       "    <tr>\n",
       "      <th>10353</th>\n",
       "      <td>5.440000e+04</td>\n",
       "      <td>0.0</td>\n",
       "      <td>38</td>\n",
       "    </tr>\n",
       "    <tr>\n",
       "      <th>10406</th>\n",
       "      <td>5.449200e+04</td>\n",
       "      <td>0.0</td>\n",
       "      <td>71</td>\n",
       "    </tr>\n",
       "    <tr>\n",
       "      <th>10409</th>\n",
       "      <td>5.449900e+04</td>\n",
       "      <td>0.0</td>\n",
       "      <td>48</td>\n",
       "    </tr>\n",
       "    <tr>\n",
       "      <th>10430</th>\n",
       "      <td>5.455400e+04</td>\n",
       "      <td>0.0</td>\n",
       "      <td>27</td>\n",
       "    </tr>\n",
       "    <tr>\n",
       "      <th>10542</th>\n",
       "      <td>5.477600e+04</td>\n",
       "      <td>0.0</td>\n",
       "      <td>42</td>\n",
       "    </tr>\n",
       "    <tr>\n",
       "      <th>10661</th>\n",
       "      <td>5.501200e+04</td>\n",
       "      <td>0.0</td>\n",
       "      <td>75</td>\n",
       "    </tr>\n",
       "    <tr>\n",
       "      <th>10697</th>\n",
       "      <td>5.517700e+04</td>\n",
       "      <td>0.0</td>\n",
       "      <td>22</td>\n",
       "    </tr>\n",
       "    <tr>\n",
       "      <th>10725</th>\n",
       "      <td>5.523100e+04</td>\n",
       "      <td>0.0</td>\n",
       "      <td>19</td>\n",
       "    </tr>\n",
       "    <tr>\n",
       "      <th>10730</th>\n",
       "      <td>5.523800e+04</td>\n",
       "      <td>0.0</td>\n",
       "      <td>15</td>\n",
       "    </tr>\n",
       "    <tr>\n",
       "      <th>10766</th>\n",
       "      <td>5.530400e+04</td>\n",
       "      <td>0.0</td>\n",
       "      <td>21</td>\n",
       "    </tr>\n",
       "    <tr>\n",
       "      <th>10768</th>\n",
       "      <td>5.530800e+04</td>\n",
       "      <td>0.0</td>\n",
       "      <td>23</td>\n",
       "    </tr>\n",
       "    <tr>\n",
       "      <th>10794</th>\n",
       "      <td>5.537200e+04</td>\n",
       "      <td>0.0</td>\n",
       "      <td>59</td>\n",
       "    </tr>\n",
       "    <tr>\n",
       "      <th>10800</th>\n",
       "      <td>5.538100e+04</td>\n",
       "      <td>0.0</td>\n",
       "      <td>22</td>\n",
       "    </tr>\n",
       "    <tr>\n",
       "      <th>10803</th>\n",
       "      <td>5.538400e+04</td>\n",
       "      <td>0.0</td>\n",
       "      <td>185</td>\n",
       "    </tr>\n",
       "    <tr>\n",
       "      <th>10806</th>\n",
       "      <td>5.539100e+04</td>\n",
       "      <td>0.0</td>\n",
       "      <td>266</td>\n",
       "    </tr>\n",
       "    <tr>\n",
       "      <th>10837</th>\n",
       "      <td>5.544300e+04</td>\n",
       "      <td>0.0</td>\n",
       "      <td>76</td>\n",
       "    </tr>\n",
       "    <tr>\n",
       "      <th>10886</th>\n",
       "      <td>5.552500e+04</td>\n",
       "      <td>0.0</td>\n",
       "      <td>188</td>\n",
       "    </tr>\n",
       "    <tr>\n",
       "      <th>10915</th>\n",
       "      <td>5.559100e+04</td>\n",
       "      <td>0.0</td>\n",
       "      <td>38</td>\n",
       "    </tr>\n",
       "    <tr>\n",
       "      <th>10943</th>\n",
       "      <td>5.564100e+04</td>\n",
       "      <td>0.0</td>\n",
       "      <td>15</td>\n",
       "    </tr>\n",
       "    <tr>\n",
       "      <th>11007</th>\n",
       "      <td>5.580000e+04</td>\n",
       "      <td>0.0</td>\n",
       "      <td>15</td>\n",
       "    </tr>\n",
       "    <tr>\n",
       "      <th>11010</th>\n",
       "      <td>5.580600e+04</td>\n",
       "      <td>0.0</td>\n",
       "      <td>40</td>\n",
       "    </tr>\n",
       "    <tr>\n",
       "      <th>11039</th>\n",
       "      <td>5.592700e+04</td>\n",
       "      <td>0.0</td>\n",
       "      <td>13</td>\n",
       "    </tr>\n",
       "    <tr>\n",
       "      <th>11098</th>\n",
       "      <td>5.623700e+04</td>\n",
       "      <td>0.0</td>\n",
       "      <td>15</td>\n",
       "    </tr>\n",
       "    <tr>\n",
       "      <th>11175</th>\n",
       "      <td>5.647000e+04</td>\n",
       "      <td>0.0</td>\n",
       "      <td>252</td>\n",
       "    </tr>\n",
       "    <tr>\n",
       "      <th>11195</th>\n",
       "      <td>5.653400e+04</td>\n",
       "      <td>0.0</td>\n",
       "      <td>11</td>\n",
       "    </tr>\n",
       "    <tr>\n",
       "      <th>11225</th>\n",
       "      <td>5.658700e+04</td>\n",
       "      <td>0.0</td>\n",
       "      <td>34</td>\n",
       "    </tr>\n",
       "    <tr>\n",
       "      <th>11361</th>\n",
       "      <td>5.683500e+04</td>\n",
       "      <td>0.0</td>\n",
       "      <td>20</td>\n",
       "    </tr>\n",
       "    <tr>\n",
       "      <th>...</th>\n",
       "      <td>...</td>\n",
       "      <td>...</td>\n",
       "      <td>...</td>\n",
       "    </tr>\n",
       "    <tr>\n",
       "      <th>1693730</th>\n",
       "      <td>2.401965e+07</td>\n",
       "      <td>0.0</td>\n",
       "      <td>26</td>\n",
       "    </tr>\n",
       "    <tr>\n",
       "      <th>1693843</th>\n",
       "      <td>2.401988e+07</td>\n",
       "      <td>0.0</td>\n",
       "      <td>11</td>\n",
       "    </tr>\n",
       "    <tr>\n",
       "      <th>1693844</th>\n",
       "      <td>2.401988e+07</td>\n",
       "      <td>0.0</td>\n",
       "      <td>11</td>\n",
       "    </tr>\n",
       "    <tr>\n",
       "      <th>1693864</th>\n",
       "      <td>2.401992e+07</td>\n",
       "      <td>0.0</td>\n",
       "      <td>13</td>\n",
       "    </tr>\n",
       "    <tr>\n",
       "      <th>1694092</th>\n",
       "      <td>2.402063e+07</td>\n",
       "      <td>0.0</td>\n",
       "      <td>11</td>\n",
       "    </tr>\n",
       "    <tr>\n",
       "      <th>1694139</th>\n",
       "      <td>2.402095e+07</td>\n",
       "      <td>0.0</td>\n",
       "      <td>27</td>\n",
       "    </tr>\n",
       "    <tr>\n",
       "      <th>1694141</th>\n",
       "      <td>2.402095e+07</td>\n",
       "      <td>0.0</td>\n",
       "      <td>30</td>\n",
       "    </tr>\n",
       "    <tr>\n",
       "      <th>1694143</th>\n",
       "      <td>2.402095e+07</td>\n",
       "      <td>0.0</td>\n",
       "      <td>24</td>\n",
       "    </tr>\n",
       "    <tr>\n",
       "      <th>1694144</th>\n",
       "      <td>2.402095e+07</td>\n",
       "      <td>0.0</td>\n",
       "      <td>12</td>\n",
       "    </tr>\n",
       "    <tr>\n",
       "      <th>1694158</th>\n",
       "      <td>2.402100e+07</td>\n",
       "      <td>0.0</td>\n",
       "      <td>16</td>\n",
       "    </tr>\n",
       "    <tr>\n",
       "      <th>1694189</th>\n",
       "      <td>2.402143e+07</td>\n",
       "      <td>0.0</td>\n",
       "      <td>225</td>\n",
       "    </tr>\n",
       "    <tr>\n",
       "      <th>1694224</th>\n",
       "      <td>2.402207e+07</td>\n",
       "      <td>0.0</td>\n",
       "      <td>99</td>\n",
       "    </tr>\n",
       "    <tr>\n",
       "      <th>1694247</th>\n",
       "      <td>2.402222e+07</td>\n",
       "      <td>0.0</td>\n",
       "      <td>18</td>\n",
       "    </tr>\n",
       "    <tr>\n",
       "      <th>1694360</th>\n",
       "      <td>2.402249e+07</td>\n",
       "      <td>0.0</td>\n",
       "      <td>53</td>\n",
       "    </tr>\n",
       "    <tr>\n",
       "      <th>1694554</th>\n",
       "      <td>2.402324e+07</td>\n",
       "      <td>0.0</td>\n",
       "      <td>14</td>\n",
       "    </tr>\n",
       "    <tr>\n",
       "      <th>1694559</th>\n",
       "      <td>2.402330e+07</td>\n",
       "      <td>0.0</td>\n",
       "      <td>16</td>\n",
       "    </tr>\n",
       "    <tr>\n",
       "      <th>1694588</th>\n",
       "      <td>2.402359e+07</td>\n",
       "      <td>0.0</td>\n",
       "      <td>12</td>\n",
       "    </tr>\n",
       "    <tr>\n",
       "      <th>1694620</th>\n",
       "      <td>2.402409e+07</td>\n",
       "      <td>0.0</td>\n",
       "      <td>11</td>\n",
       "    </tr>\n",
       "    <tr>\n",
       "      <th>1694717</th>\n",
       "      <td>1.067975e+08</td>\n",
       "      <td>0.0</td>\n",
       "      <td>12</td>\n",
       "    </tr>\n",
       "    <tr>\n",
       "      <th>1694718</th>\n",
       "      <td>1.070906e+08</td>\n",
       "      <td>0.0</td>\n",
       "      <td>18</td>\n",
       "    </tr>\n",
       "    <tr>\n",
       "      <th>1694835</th>\n",
       "      <td>1.261346e+08</td>\n",
       "      <td>0.0</td>\n",
       "      <td>12</td>\n",
       "    </tr>\n",
       "    <tr>\n",
       "      <th>1694844</th>\n",
       "      <td>1.271813e+08</td>\n",
       "      <td>0.0</td>\n",
       "      <td>15</td>\n",
       "    </tr>\n",
       "    <tr>\n",
       "      <th>1694845</th>\n",
       "      <td>1.271813e+08</td>\n",
       "      <td>0.0</td>\n",
       "      <td>18</td>\n",
       "    </tr>\n",
       "    <tr>\n",
       "      <th>1694846</th>\n",
       "      <td>1.271813e+08</td>\n",
       "      <td>0.0</td>\n",
       "      <td>24</td>\n",
       "    </tr>\n",
       "    <tr>\n",
       "      <th>1694847</th>\n",
       "      <td>1.271814e+08</td>\n",
       "      <td>0.0</td>\n",
       "      <td>15</td>\n",
       "    </tr>\n",
       "    <tr>\n",
       "      <th>1694851</th>\n",
       "      <td>1.279391e+08</td>\n",
       "      <td>0.0</td>\n",
       "      <td>20</td>\n",
       "    </tr>\n",
       "    <tr>\n",
       "      <th>1695054</th>\n",
       "      <td>1.316129e+08</td>\n",
       "      <td>0.0</td>\n",
       "      <td>11</td>\n",
       "    </tr>\n",
       "    <tr>\n",
       "      <th>1695064</th>\n",
       "      <td>1.317621e+08</td>\n",
       "      <td>0.0</td>\n",
       "      <td>18</td>\n",
       "    </tr>\n",
       "    <tr>\n",
       "      <th>1695075</th>\n",
       "      <td>1.319713e+08</td>\n",
       "      <td>0.0</td>\n",
       "      <td>15</td>\n",
       "    </tr>\n",
       "    <tr>\n",
       "      <th>1696459</th>\n",
       "      <td>1.844674e+19</td>\n",
       "      <td>0.0</td>\n",
       "      <td>117</td>\n",
       "    </tr>\n",
       "  </tbody>\n",
       "</table>\n",
       "<p>52436 rows × 3 columns</p>\n",
       "</div>"
      ],
      "text/plain": [
       "              song_id  song_length  max_count\n",
       "0        0.000000e+00          0.0     395833\n",
       "120      2.700000e+02          0.0         15\n",
       "10297    5.425100e+04          0.0         14\n",
       "10353    5.440000e+04          0.0         38\n",
       "10406    5.449200e+04          0.0         71\n",
       "10409    5.449900e+04          0.0         48\n",
       "10430    5.455400e+04          0.0         27\n",
       "10542    5.477600e+04          0.0         42\n",
       "10661    5.501200e+04          0.0         75\n",
       "10697    5.517700e+04          0.0         22\n",
       "10725    5.523100e+04          0.0         19\n",
       "10730    5.523800e+04          0.0         15\n",
       "10766    5.530400e+04          0.0         21\n",
       "10768    5.530800e+04          0.0         23\n",
       "10794    5.537200e+04          0.0         59\n",
       "10800    5.538100e+04          0.0         22\n",
       "10803    5.538400e+04          0.0        185\n",
       "10806    5.539100e+04          0.0        266\n",
       "10837    5.544300e+04          0.0         76\n",
       "10886    5.552500e+04          0.0        188\n",
       "10915    5.559100e+04          0.0         38\n",
       "10943    5.564100e+04          0.0         15\n",
       "11007    5.580000e+04          0.0         15\n",
       "11010    5.580600e+04          0.0         40\n",
       "11039    5.592700e+04          0.0         13\n",
       "11098    5.623700e+04          0.0         15\n",
       "11175    5.647000e+04          0.0        252\n",
       "11195    5.653400e+04          0.0         11\n",
       "11225    5.658700e+04          0.0         34\n",
       "11361    5.683500e+04          0.0         20\n",
       "...               ...          ...        ...\n",
       "1693730  2.401965e+07          0.0         26\n",
       "1693843  2.401988e+07          0.0         11\n",
       "1693844  2.401988e+07          0.0         11\n",
       "1693864  2.401992e+07          0.0         13\n",
       "1694092  2.402063e+07          0.0         11\n",
       "1694139  2.402095e+07          0.0         27\n",
       "1694141  2.402095e+07          0.0         30\n",
       "1694143  2.402095e+07          0.0         24\n",
       "1694144  2.402095e+07          0.0         12\n",
       "1694158  2.402100e+07          0.0         16\n",
       "1694189  2.402143e+07          0.0        225\n",
       "1694224  2.402207e+07          0.0         99\n",
       "1694247  2.402222e+07          0.0         18\n",
       "1694360  2.402249e+07          0.0         53\n",
       "1694554  2.402324e+07          0.0         14\n",
       "1694559  2.402330e+07          0.0         16\n",
       "1694588  2.402359e+07          0.0         12\n",
       "1694620  2.402409e+07          0.0         11\n",
       "1694717  1.067975e+08          0.0         12\n",
       "1694718  1.070906e+08          0.0         18\n",
       "1694835  1.261346e+08          0.0         12\n",
       "1694844  1.271813e+08          0.0         15\n",
       "1694845  1.271813e+08          0.0         18\n",
       "1694846  1.271813e+08          0.0         24\n",
       "1694847  1.271814e+08          0.0         15\n",
       "1694851  1.279391e+08          0.0         20\n",
       "1695054  1.316129e+08          0.0         11\n",
       "1695064  1.317621e+08          0.0         18\n",
       "1695075  1.319713e+08          0.0         15\n",
       "1696459  1.844674e+19          0.0        117\n",
       "\n",
       "[52436 rows x 3 columns]"
      ]
     },
     "execution_count": 47,
     "metadata": {},
     "output_type": "execute_result"
    }
   ],
   "source": [
    "song_info[(song_info.song_length == 0) & (song_info.max_count > 10)]"
   ]
  },
  {
   "cell_type": "code",
   "execution_count": 37,
   "metadata": {},
   "outputs": [
    {
     "data": {
      "text/html": [
       "<div>\n",
       "<style>\n",
       "    .dataframe thead tr:only-child th {\n",
       "        text-align: right;\n",
       "    }\n",
       "\n",
       "    .dataframe thead th {\n",
       "        text-align: left;\n",
       "    }\n",
       "\n",
       "    .dataframe tbody tr th {\n",
       "        vertical-align: top;\n",
       "    }\n",
       "</style>\n",
       "<table border=\"1\" class=\"dataframe\">\n",
       "  <thead>\n",
       "    <tr style=\"text-align: right;\">\n",
       "      <th></th>\n",
       "      <th>song_id</th>\n",
       "      <th>song_length</th>\n",
       "      <th>max_count</th>\n",
       "    </tr>\n",
       "  </thead>\n",
       "  <tbody>\n",
       "    <tr>\n",
       "      <th>0</th>\n",
       "      <td>0.0</td>\n",
       "      <td>0.000000e+00</td>\n",
       "      <td>395833</td>\n",
       "    </tr>\n",
       "    <tr>\n",
       "      <th>1694992</th>\n",
       "      <td>129945928.0</td>\n",
       "      <td>1.343966e+09</td>\n",
       "      <td>1</td>\n",
       "    </tr>\n",
       "  </tbody>\n",
       "</table>\n",
       "</div>"
      ],
      "text/plain": [
       "             song_id   song_length  max_count\n",
       "0                0.0  0.000000e+00     395833\n",
       "1694992  129945928.0  1.343966e+09          1"
      ]
     },
     "execution_count": 37,
     "metadata": {},
     "output_type": "execute_result"
    }
   ],
   "source": [
    "song_info.iloc[[song_info.song_length.argmin(), song_info.song_length.argmax()], ]"
   ]
  },
  {
   "cell_type": "code",
   "execution_count": null,
   "metadata": {
    "collapsed": true
   },
   "outputs": [],
   "source": [
    "\"\"\"\n",
    "SELECT\n",
    "    p.uid, p.device, p.song_id, p.song_type, p.song_name, p.singer, p.play_time, s.song_length, p.date\n",
    "FROM\n",
    "    Play p\n",
    "LEFT JOIN\n",
    "    song_info s\n",
    "ON p.song_id = s.song_id\n",
    "\"\"\""
   ]
  }
 ],
 "metadata": {
  "anaconda-cloud": {},
  "kernelspec": {
   "display_name": "Python [conda root]",
   "language": "python",
   "name": "conda-root-py"
  },
  "language_info": {
   "codemirror_mode": {
    "name": "ipython",
    "version": 2
   },
   "file_extension": ".py",
   "mimetype": "text/x-python",
   "name": "python",
   "nbconvert_exporter": "python",
   "pygments_lexer": "ipython2",
   "version": "2.7.13"
  }
 },
 "nbformat": 4,
 "nbformat_minor": 2
}
