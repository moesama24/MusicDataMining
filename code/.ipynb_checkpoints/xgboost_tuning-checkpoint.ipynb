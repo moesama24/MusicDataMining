{
 "cells": [
  {
   "cell_type": "code",
   "execution_count": 1,
   "metadata": {
    "collapsed": true
   },
   "outputs": [],
   "source": [
    "import numpy as np\n",
    "import pandas as pd\n",
    "import sqlite3 as sql\n",
    "import matplotlib.pyplot as plt\n",
    "import seaborn as sns\n",
    "%matplotlib inline\n",
    "\n",
    "from sklearn.model_selection import train_test_split\n",
    "from sklearn import metrics "
   ]
  },
  {
   "cell_type": "markdown",
   "metadata": {},
   "source": [
    "## Prepare the data"
   ]
  },
  {
   "cell_type": "code",
   "execution_count": 2,
   "metadata": {
    "collapsed": true
   },
   "outputs": [],
   "source": [
    "musicbox_conn = sql.connect(\"../data/musicbox.sqlite\")\n",
    "musicbox_conn.text_factory = str"
   ]
  },
  {
   "cell_type": "code",
   "execution_count": 3,
   "metadata": {
    "collapsed": true
   },
   "outputs": [],
   "source": [
    "churn_df = pd.read_sql(\"SELECT * FROM churn\", musicbox_conn)"
   ]
  },
  {
   "cell_type": "code",
   "execution_count": 4,
   "metadata": {},
   "outputs": [
    {
     "data": {
      "text/plain": [
       "(594252, 14)"
      ]
     },
     "execution_count": 4,
     "metadata": {},
     "output_type": "execute_result"
    }
   ],
   "source": [
    "churn_df.shape"
   ]
  },
  {
   "cell_type": "code",
   "execution_count": 5,
   "metadata": {},
   "outputs": [
    {
     "data": {
      "text/html": [
       "<div>\n",
       "<style>\n",
       "    .dataframe thead tr:only-child th {\n",
       "        text-align: right;\n",
       "    }\n",
       "\n",
       "    .dataframe thead th {\n",
       "        text-align: left;\n",
       "    }\n",
       "\n",
       "    .dataframe tbody tr th {\n",
       "        vertical-align: top;\n",
       "    }\n",
       "</style>\n",
       "<table border=\"1\" class=\"dataframe\">\n",
       "  <thead>\n",
       "    <tr style=\"text-align: right;\">\n",
       "      <th></th>\n",
       "      <th>uid</th>\n",
       "      <th>device</th>\n",
       "      <th>freq_w1</th>\n",
       "      <th>play_time_w1</th>\n",
       "      <th>avg_play_pct_w1</th>\n",
       "      <th>freq_w2</th>\n",
       "      <th>play_time_w2</th>\n",
       "      <th>avg_play_pct_w2</th>\n",
       "      <th>freq_w3</th>\n",
       "      <th>play_time_w3</th>\n",
       "      <th>avg_play_pct_w3</th>\n",
       "      <th>freq_w4</th>\n",
       "      <th>play_time_w4</th>\n",
       "      <th>avg_play_pct_w4</th>\n",
       "    </tr>\n",
       "  </thead>\n",
       "  <tbody>\n",
       "    <tr>\n",
       "      <th>0</th>\n",
       "      <td>0</td>\n",
       "      <td>ar</td>\n",
       "      <td>145338.0</td>\n",
       "      <td>1.251728e+10</td>\n",
       "      <td>0.695687</td>\n",
       "      <td>406719.0</td>\n",
       "      <td>1.750280e+10</td>\n",
       "      <td>0.590655</td>\n",
       "      <td>315694.0</td>\n",
       "      <td>2.000722e+10</td>\n",
       "      <td>0.682264</td>\n",
       "      <td>258804.0</td>\n",
       "      <td>2.123130e+10</td>\n",
       "      <td>0.711662</td>\n",
       "    </tr>\n",
       "    <tr>\n",
       "      <th>1</th>\n",
       "      <td>12333</td>\n",
       "      <td>ip</td>\n",
       "      <td>45.0</td>\n",
       "      <td>9.027000e+03</td>\n",
       "      <td>0.949343</td>\n",
       "      <td>114.0</td>\n",
       "      <td>2.437200e+04</td>\n",
       "      <td>0.900190</td>\n",
       "      <td>109.0</td>\n",
       "      <td>2.479000e+04</td>\n",
       "      <td>0.972819</td>\n",
       "      <td>75.0</td>\n",
       "      <td>1.462400e+04</td>\n",
       "      <td>0.931983</td>\n",
       "    </tr>\n",
       "    <tr>\n",
       "      <th>2</th>\n",
       "      <td>36816</td>\n",
       "      <td>ar</td>\n",
       "      <td>4.0</td>\n",
       "      <td>1.846110e+05</td>\n",
       "      <td>1.000000</td>\n",
       "      <td>NaN</td>\n",
       "      <td>NaN</td>\n",
       "      <td>NaN</td>\n",
       "      <td>NaN</td>\n",
       "      <td>NaN</td>\n",
       "      <td>NaN</td>\n",
       "      <td>NaN</td>\n",
       "      <td>NaN</td>\n",
       "      <td>NaN</td>\n",
       "    </tr>\n",
       "    <tr>\n",
       "      <th>3</th>\n",
       "      <td>51923</td>\n",
       "      <td>ar</td>\n",
       "      <td>NaN</td>\n",
       "      <td>NaN</td>\n",
       "      <td>NaN</td>\n",
       "      <td>2.0</td>\n",
       "      <td>1.020000e+02</td>\n",
       "      <td>0.325743</td>\n",
       "      <td>NaN</td>\n",
       "      <td>NaN</td>\n",
       "      <td>NaN</td>\n",
       "      <td>NaN</td>\n",
       "      <td>NaN</td>\n",
       "      <td>NaN</td>\n",
       "    </tr>\n",
       "    <tr>\n",
       "      <th>4</th>\n",
       "      <td>60183</td>\n",
       "      <td>ar</td>\n",
       "      <td>354.0</td>\n",
       "      <td>1.354700e+04</td>\n",
       "      <td>0.148254</td>\n",
       "      <td>283.0</td>\n",
       "      <td>1.478100e+04</td>\n",
       "      <td>0.202751</td>\n",
       "      <td>333.0</td>\n",
       "      <td>1.539700e+04</td>\n",
       "      <td>0.179196</td>\n",
       "      <td>38.0</td>\n",
       "      <td>4.949000e+03</td>\n",
       "      <td>0.508749</td>\n",
       "    </tr>\n",
       "  </tbody>\n",
       "</table>\n",
       "</div>"
      ],
      "text/plain": [
       "     uid device   freq_w1  play_time_w1  avg_play_pct_w1   freq_w2  \\\n",
       "0      0     ar  145338.0  1.251728e+10         0.695687  406719.0   \n",
       "1  12333     ip      45.0  9.027000e+03         0.949343     114.0   \n",
       "2  36816     ar       4.0  1.846110e+05         1.000000       NaN   \n",
       "3  51923     ar       NaN           NaN              NaN       2.0   \n",
       "4  60183     ar     354.0  1.354700e+04         0.148254     283.0   \n",
       "\n",
       "   play_time_w2  avg_play_pct_w2   freq_w3  play_time_w3  avg_play_pct_w3  \\\n",
       "0  1.750280e+10         0.590655  315694.0  2.000722e+10         0.682264   \n",
       "1  2.437200e+04         0.900190     109.0  2.479000e+04         0.972819   \n",
       "2           NaN              NaN       NaN           NaN              NaN   \n",
       "3  1.020000e+02         0.325743       NaN           NaN              NaN   \n",
       "4  1.478100e+04         0.202751     333.0  1.539700e+04         0.179196   \n",
       "\n",
       "    freq_w4  play_time_w4  avg_play_pct_w4  \n",
       "0  258804.0  2.123130e+10         0.711662  \n",
       "1      75.0  1.462400e+04         0.931983  \n",
       "2       NaN           NaN              NaN  \n",
       "3       NaN           NaN              NaN  \n",
       "4      38.0  4.949000e+03         0.508749  "
      ]
     },
     "execution_count": 5,
     "metadata": {},
     "output_type": "execute_result"
    }
   ],
   "source": [
    "churn_df.head()"
   ]
  },
  {
   "cell_type": "code",
   "execution_count": 6,
   "metadata": {
    "collapsed": true
   },
   "outputs": [],
   "source": [
    "churn_df = churn_df[~(churn_df.freq_w1.isnull() & churn_df.freq_w2.isnull() & churn_df.freq_w3.isnull())]"
   ]
  },
  {
   "cell_type": "code",
   "execution_count": 7,
   "metadata": {},
   "outputs": [
    {
     "data": {
      "text/plain": [
       "(583962, 14)"
      ]
     },
     "execution_count": 7,
     "metadata": {},
     "output_type": "execute_result"
    }
   ],
   "source": [
    "churn_df.shape"
   ]
  },
  {
   "cell_type": "code",
   "execution_count": 8,
   "metadata": {
    "collapsed": true
   },
   "outputs": [],
   "source": [
    "churn_df.fillna(0, inplace=True)"
   ]
  },
  {
   "cell_type": "code",
   "execution_count": 12,
   "metadata": {},
   "outputs": [],
   "source": [
    "feature_ls = churn_df.columns[churn_df.columns.str.contains(\"1|2|3|device\")]"
   ]
  },
  {
   "cell_type": "code",
   "execution_count": 27,
   "metadata": {
    "collapsed": true
   },
   "outputs": [],
   "source": [
    "X = churn_df[feature_ls]"
   ]
  },
  {
   "cell_type": "code",
   "execution_count": 28,
   "metadata": {},
   "outputs": [
    {
     "name": "stderr",
     "output_type": "stream",
     "text": [
      "/Users/Meng/anaconda/lib/python2.7/site-packages/ipykernel/__main__.py:1: SettingWithCopyWarning: \n",
      "A value is trying to be set on a copy of a slice from a DataFrame.\n",
      "Try using .loc[row_indexer,col_indexer] = value instead\n",
      "\n",
      "See the caveats in the documentation: http://pandas.pydata.org/pandas-docs/stable/indexing.html#indexing-view-versus-copy\n",
      "  if __name__ == '__main__':\n"
     ]
    }
   ],
   "source": [
    "X['device'] = (X['device'] == 'ip').astype(int)\n",
    "y = (churn_df.freq_w4 == 0).astype(int)"
   ]
  },
  {
   "cell_type": "code",
   "execution_count": 29,
   "metadata": {
    "collapsed": true
   },
   "outputs": [],
   "source": [
    "RANDOM_SEED = 24\n",
    "X_train, X_test, y_train, y_test = train_test_split(\n",
    "    X,\n",
    "    y,\n",
    "    test_size = 0.2,\n",
    "    random_state = RANDOM_SEED\n",
    ")"
   ]
  },
  {
   "cell_type": "markdown",
   "metadata": {},
   "source": [
    "## xgboost tuning"
   ]
  },
  {
   "cell_type": "code",
   "execution_count": 30,
   "metadata": {
    "collapsed": true
   },
   "outputs": [],
   "source": [
    "import xgboost as xgb\n",
    "from xgboost.sklearn import XGBClassifier\n",
    "from sklearn.model_selection import GridSearchCV"
   ]
  },
  {
   "cell_type": "code",
   "execution_count": 31,
   "metadata": {
    "collapsed": true
   },
   "outputs": [],
   "source": [
    "tmp = XGBClassifier()"
   ]
  },
  {
   "cell_type": "code",
   "execution_count": 36,
   "metadata": {},
   "outputs": [
    {
     "ename": "XGBoostError",
     "evalue": "need to call fit beforehand",
     "output_type": "error",
     "traceback": [
      "\u001b[0;31m---------------------------------------------------------------------------\u001b[0m",
      "\u001b[0;31mXGBoostError\u001b[0m                              Traceback (most recent call last)",
      "\u001b[0;32m<ipython-input-36-8df883514393>\u001b[0m in \u001b[0;36m<module>\u001b[0;34m()\u001b[0m\n\u001b[0;32m----> 1\u001b[0;31m \u001b[0mtype\u001b[0m\u001b[0;34m(\u001b[0m\u001b[0mtmp\u001b[0m\u001b[0;34m.\u001b[0m\u001b[0mget_booster\u001b[0m\u001b[0;34m(\u001b[0m\u001b[0;34m)\u001b[0m\u001b[0;34m)\u001b[0m\u001b[0;34m\u001b[0m\u001b[0m\n\u001b[0m",
      "\u001b[0;32m/Users/Meng/anaconda/lib/python2.7/site-packages/xgboost-0.6-py2.7.egg/xgboost/sklearn.pyc\u001b[0m in \u001b[0;36mget_booster\u001b[0;34m(self)\u001b[0m\n\u001b[1;32m    180\u001b[0m         \"\"\"\n\u001b[1;32m    181\u001b[0m         \u001b[0;32mif\u001b[0m \u001b[0mself\u001b[0m\u001b[0;34m.\u001b[0m\u001b[0m_Booster\u001b[0m \u001b[0;32mis\u001b[0m \u001b[0mNone\u001b[0m\u001b[0;34m:\u001b[0m\u001b[0;34m\u001b[0m\u001b[0m\n\u001b[0;32m--> 182\u001b[0;31m             \u001b[0;32mraise\u001b[0m \u001b[0mXGBoostError\u001b[0m\u001b[0;34m(\u001b[0m\u001b[0;34m'need to call fit beforehand'\u001b[0m\u001b[0;34m)\u001b[0m\u001b[0;34m\u001b[0m\u001b[0m\n\u001b[0m\u001b[1;32m    183\u001b[0m         \u001b[0;32mreturn\u001b[0m \u001b[0mself\u001b[0m\u001b[0;34m.\u001b[0m\u001b[0m_Booster\u001b[0m\u001b[0;34m\u001b[0m\u001b[0m\n\u001b[1;32m    184\u001b[0m \u001b[0;34m\u001b[0m\u001b[0m\n",
      "\u001b[0;31mXGBoostError\u001b[0m: need to call fit beforehand"
     ]
    }
   ],
   "source": [
    "type(tmp.feature_importances_)"
   ]
  },
  {
   "cell_type": "code",
   "execution_count": 56,
   "metadata": {
    "collapsed": true
   },
   "outputs": [],
   "source": [
    "def xgb_fit(alg, x_train, y_train, x_test, y_test,\n",
    "            useTrainCV=True, cv_folds=5, early_stopping_rounds=10, seed=RANDOM_SEED):\n",
    "    \n",
    "    if useTrainCV:\n",
    "        print 'Use the built-in CV in xgboost to determine the best n_estimators...\\n'\n",
    "        xgb_param = alg.get_xgb_params()\n",
    "        xgtrain = xgb.DMatrix(x_train.values, label=y_train)\n",
    "        xgtest = xgb.DMatrix(x_test.values)\n",
    "        cvresult = xgb.cv(xgb_param, xgtrain, num_boost_round=alg.get_params()['n_estimators'], \n",
    "                          nfold=cv_folds, verbose_eval=True,\n",
    "                          metrics='auc', early_stopping_rounds=early_stopping_rounds, seed=seed)\n",
    "        alg.set_params(n_estimators=cvresult.shape[0])\n",
    "    \n",
    "    #Fit the algorithm on the data\n",
    "    print '\\nThe best n_estimetors is {}'.format(cvresult.shape[0])\n",
    "    print '\\nTrain the xgboost model using best n_estimators from CV...\\n'\n",
    "    alg.fit(x_train, y_train, eval_metric='auc')\n",
    "        \n",
    "    #Predict training set:\n",
    "    train_predictions = alg.predict(x_train)\n",
    "    train_predprob = alg.predict_proba(x_train)[:,1]\n",
    "        \n",
    "    #Print model report:\n",
    "    print \"Model Report\"\n",
    "    print \"Accuracy (Train) : {}\".format(metrics.accuracy_score(y_train, train_predictions))\n",
    "    print \"AUC Score (Train): {}\".format(metrics.roc_auc_score(y_train, train_predprob))\n",
    "    \n",
    "    #Predict on testing data:\n",
    "    test_predictions = alg.predict(x_test)\n",
    "    test_predprob = alg.predict_proba(x_test)[:,1]\n",
    "    print \"Accuracy (Test): {}\".format(metrics.accuracy_score(y_test, test_predictions))\n",
    "    print \"AUC Score (Test): {}\\n\".format(metrics.roc_auc_score(y_test, test_predprob))\n",
    "                \n",
    "    feat_imp = pd.Series(alg.feature_importances_, feature_ls).sort_values()\n",
    "    feat_imp.plot(kind='barh', title='Feature Importances')\n",
    "    plt.xlabel('Feature Importance Score')"
   ]
  },
  {
   "cell_type": "markdown",
   "metadata": {},
   "source": [
    "### Step 1: Fix learning rate and number of estimators for tuning tree-based parameters"
   ]
  },
  {
   "cell_type": "code",
   "execution_count": 57,
   "metadata": {
    "collapsed": true
   },
   "outputs": [],
   "source": [
    "xgb1 = XGBClassifier(\n",
    "    learning_rate=0.3,\n",
    "    n_estimators=200,\n",
    "    max_depth=5,\n",
    "    min_child_weight=1,\n",
    "    gamma=0,\n",
    "    subsample=0.8,\n",
    "    colsample_bytree=0.8,\n",
    "    objective= 'binary:logistic',\n",
    "    random_state=RANDOM_SEED)"
   ]
  },
  {
   "cell_type": "code",
   "execution_count": 58,
   "metadata": {},
   "outputs": [
    {
     "name": "stdout",
     "output_type": "stream",
     "text": [
      "Use the built-in CV in xgboost to determine the best n_estimators...\n",
      "\n",
      "[0]\ttrain-auc:0.8877+0.000537066\ttest-auc:0.887331+0.00101878\n",
      "[1]\ttrain-auc:0.891045+0.000438071\ttest-auc:0.890586+0.000798667\n",
      "[2]\ttrain-auc:0.892225+0.000532073\ttest-auc:0.891652+0.000920274\n",
      "[3]\ttrain-auc:0.89295+0.000606802\ttest-auc:0.892276+0.000635071\n",
      "[4]\ttrain-auc:0.893873+0.000309973\ttest-auc:0.893063+0.000902854\n",
      "[5]\ttrain-auc:0.894644+0.000239338\ttest-auc:0.893869+0.00103649\n",
      "[6]\ttrain-auc:0.895067+0.000201089\ttest-auc:0.894213+0.00102302\n",
      "[7]\ttrain-auc:0.895488+0.000121883\ttest-auc:0.894634+0.00120462\n",
      "[8]\ttrain-auc:0.895699+0.000173003\ttest-auc:0.894849+0.00120382\n",
      "[9]\ttrain-auc:0.896023+9.93124e-05\ttest-auc:0.895094+0.00110508\n",
      "[10]\ttrain-auc:0.896446+0.000175889\ttest-auc:0.895504+0.00103996\n",
      "[11]\ttrain-auc:0.896696+0.000202324\ttest-auc:0.895694+0.00100279\n",
      "[12]\ttrain-auc:0.897106+0.000227762\ttest-auc:0.896049+0.000886995\n",
      "[13]\ttrain-auc:0.897424+0.000268816\ttest-auc:0.896273+0.000829878\n",
      "[14]\ttrain-auc:0.897688+0.000292881\ttest-auc:0.896477+0.00078324\n",
      "[15]\ttrain-auc:0.897895+0.000243359\ttest-auc:0.896625+0.000786541\n",
      "[16]\ttrain-auc:0.89805+0.000309572\ttest-auc:0.896691+0.000736735\n",
      "[17]\ttrain-auc:0.898254+0.00027374\ttest-auc:0.896805+0.000795094\n",
      "[18]\ttrain-auc:0.898436+0.000295168\ttest-auc:0.896892+0.000806429\n",
      "[19]\ttrain-auc:0.89858+0.000308683\ttest-auc:0.896984+0.000771121\n",
      "[20]\ttrain-auc:0.898745+0.000329494\ttest-auc:0.897089+0.000766465\n",
      "[21]\ttrain-auc:0.898897+0.000310687\ttest-auc:0.897176+0.000787516\n",
      "[22]\ttrain-auc:0.898998+0.000290346\ttest-auc:0.897232+0.000783408\n",
      "[23]\ttrain-auc:0.899091+0.000291672\ttest-auc:0.89727+0.000788478\n",
      "[24]\ttrain-auc:0.899197+0.000264704\ttest-auc:0.897327+0.000806098\n",
      "[25]\ttrain-auc:0.899277+0.00024454\ttest-auc:0.897344+0.000814058\n",
      "[26]\ttrain-auc:0.899345+0.000221718\ttest-auc:0.89736+0.000829706\n",
      "[27]\ttrain-auc:0.899428+0.000234447\ttest-auc:0.897397+0.000823211\n",
      "[28]\ttrain-auc:0.899518+0.000252202\ttest-auc:0.897438+0.00080415\n",
      "[29]\ttrain-auc:0.899615+0.000235501\ttest-auc:0.897466+0.000832557\n",
      "[30]\ttrain-auc:0.899727+0.000277152\ttest-auc:0.897517+0.00078549\n",
      "[31]\ttrain-auc:0.899786+0.000264074\ttest-auc:0.897528+0.000784685\n",
      "[32]\ttrain-auc:0.899859+0.000286304\ttest-auc:0.897543+0.000773888\n",
      "[33]\ttrain-auc:0.899914+0.000275649\ttest-auc:0.897564+0.000783294\n",
      "[34]\ttrain-auc:0.900003+0.000226857\ttest-auc:0.897606+0.000796092\n",
      "[35]\ttrain-auc:0.900107+0.00022079\ttest-auc:0.897648+0.000810783\n",
      "[36]\ttrain-auc:0.900207+0.000233163\ttest-auc:0.897706+0.000797997\n",
      "[37]\ttrain-auc:0.900262+0.000227239\ttest-auc:0.897718+0.000779786\n",
      "[38]\ttrain-auc:0.900332+0.000222668\ttest-auc:0.897729+0.000780719\n",
      "[39]\ttrain-auc:0.900389+0.000218649\ttest-auc:0.897732+0.00076782\n",
      "[40]\ttrain-auc:0.900457+0.000213776\ttest-auc:0.897749+0.00076945\n",
      "[41]\ttrain-auc:0.900527+0.00021648\ttest-auc:0.897767+0.000772817\n",
      "[42]\ttrain-auc:0.900568+0.000198004\ttest-auc:0.897769+0.000799743\n",
      "[43]\ttrain-auc:0.900636+0.000193693\ttest-auc:0.897781+0.000799258\n",
      "[44]\ttrain-auc:0.900719+0.000200723\ttest-auc:0.897795+0.00079273\n",
      "[45]\ttrain-auc:0.9008+0.000200245\ttest-auc:0.897814+0.00081181\n",
      "[46]\ttrain-auc:0.900854+0.000188734\ttest-auc:0.897824+0.000825025\n",
      "[47]\ttrain-auc:0.900916+0.000183426\ttest-auc:0.89783+0.000827712\n",
      "[48]\ttrain-auc:0.900984+0.000205738\ttest-auc:0.897849+0.0008083\n",
      "[49]\ttrain-auc:0.90107+0.00020742\ttest-auc:0.897879+0.000793629\n",
      "[50]\ttrain-auc:0.90115+0.000231708\ttest-auc:0.897916+0.000771696\n",
      "[51]\ttrain-auc:0.901218+0.00022427\ttest-auc:0.897919+0.00076629\n",
      "[52]\ttrain-auc:0.901299+0.000229977\ttest-auc:0.897924+0.000747898\n",
      "[53]\ttrain-auc:0.901358+0.000244486\ttest-auc:0.897933+0.000733404\n",
      "[54]\ttrain-auc:0.901389+0.000252842\ttest-auc:0.897937+0.000727117\n",
      "[55]\ttrain-auc:0.90146+0.000205564\ttest-auc:0.897962+0.000745001\n",
      "[56]\ttrain-auc:0.901513+0.000199867\ttest-auc:0.89797+0.000742334\n",
      "[57]\ttrain-auc:0.901559+0.000183604\ttest-auc:0.897988+0.000751054\n",
      "[58]\ttrain-auc:0.901616+0.000185219\ttest-auc:0.897994+0.000762225\n",
      "[59]\ttrain-auc:0.901671+0.000216626\ttest-auc:0.898007+0.000750322\n",
      "[60]\ttrain-auc:0.901721+0.000203896\ttest-auc:0.898024+0.000742399\n",
      "[61]\ttrain-auc:0.901774+0.000194048\ttest-auc:0.898026+0.000751432\n",
      "[62]\ttrain-auc:0.901801+0.000195839\ttest-auc:0.898017+0.000752477\n",
      "[63]\ttrain-auc:0.901857+0.000201334\ttest-auc:0.898024+0.000747839\n",
      "[64]\ttrain-auc:0.901912+0.000215461\ttest-auc:0.898042+0.000736856\n",
      "[65]\ttrain-auc:0.901966+0.00022678\ttest-auc:0.89804+0.000731356\n",
      "[66]\ttrain-auc:0.902018+0.000228797\ttest-auc:0.898054+0.0007193\n",
      "[67]\ttrain-auc:0.902071+0.00023249\ttest-auc:0.898056+0.000716998\n",
      "[68]\ttrain-auc:0.902114+0.000232064\ttest-auc:0.898052+0.000721792\n",
      "[69]\ttrain-auc:0.902179+0.000261353\ttest-auc:0.898061+0.000713816\n",
      "[70]\ttrain-auc:0.902234+0.000261151\ttest-auc:0.898067+0.000708253\n",
      "[71]\ttrain-auc:0.902283+0.000256427\ttest-auc:0.898072+0.000703303\n",
      "[72]\ttrain-auc:0.902363+0.000246704\ttest-auc:0.898082+0.000700296\n",
      "[73]\ttrain-auc:0.90242+0.000257224\ttest-auc:0.898072+0.000709281\n",
      "[74]\ttrain-auc:0.902489+0.000270065\ttest-auc:0.898087+0.000704343\n",
      "[75]\ttrain-auc:0.902538+0.000278518\ttest-auc:0.898083+0.000701154\n",
      "[76]\ttrain-auc:0.902575+0.000280836\ttest-auc:0.898084+0.000709243\n",
      "[77]\ttrain-auc:0.902612+0.000291827\ttest-auc:0.898104+0.000715165\n",
      "[78]\ttrain-auc:0.902659+0.00029902\ttest-auc:0.898098+0.000717601\n",
      "[79]\ttrain-auc:0.902713+0.000281087\ttest-auc:0.898093+0.000727361\n",
      "[80]\ttrain-auc:0.902769+0.000280529\ttest-auc:0.898089+0.000728583\n",
      "[81]\ttrain-auc:0.902814+0.000290904\ttest-auc:0.898083+0.000733015\n",
      "[82]\ttrain-auc:0.902837+0.000283933\ttest-auc:0.89808+0.000730405\n",
      "[83]\ttrain-auc:0.902905+0.000288992\ttest-auc:0.898091+0.000719759\n",
      "[84]\ttrain-auc:0.902949+0.000295869\ttest-auc:0.898086+0.000713259\n",
      "[85]\ttrain-auc:0.902988+0.000291453\ttest-auc:0.898079+0.000718529\n",
      "[86]\ttrain-auc:0.903039+0.000301121\ttest-auc:0.898077+0.000733812\n",
      "\n",
      "The best n_estimetors is 78\n",
      "\n",
      "Train the xgboost model using best n_estimators from CV...\n",
      "\n",
      "Model Report\n",
      "Accuracy (Train) : 0.844696458883\n",
      "AUC Score (Train): 0.902043388944\n",
      "Accuracy (Test): 0.839896226657\n",
      "AUC Score (Test): 0.897851129001\n",
      "\n",
      "CPU times: user 3min 11s, sys: 1.35 s, total: 3min 12s\n",
      "Wall time: 3min 14s\n"
     ]
    },
    {
     "data": {
      "image/png": "[encoded data removed]",
      "text/plain": [
       "<matplotlib.figure.Figure at 0x10dde9650>"
      ]
     },
     "metadata": {},
     "output_type": "display_data"
    }
   ],
   "source": [
    "%%time\n",
    "xgb_fit(xgb1, X_train, y_train, X_test, y_test)"
   ]
  },
  {
   "cell_type": "markdown",
   "metadata": {},
   "source": [
    "### Step 2: Tune max_depth and min_child_weight"
   ]
  },
  {
   "cell_type": "code",
   "execution_count": 59,
   "metadata": {
    "collapsed": true
   },
   "outputs": [],
   "source": [
    "param_step_2 = {\n",
    " 'max_depth': range(3, 10, 2),\n",
    " 'min_child_weight': range(1, 6, 2)\n",
    "}"
   ]
  },
  {
   "cell_type": "code",
   "execution_count": 63,
   "metadata": {
    "collapsed": true
   },
   "outputs": [],
   "source": [
    "gsearch1 = GridSearchCV(\n",
    "    estimator=XGBClassifier(learning_rate=0.3, n_estimators=78, \n",
    "                            gamma=0, subsample=0.8, colsample_bytree=0.8,\n",
    "                            objective= 'binary:logistic', n_jobs=4, random_state=RANDOM_SEED), \n",
    "    param_grid = param_step_2, scoring='roc_auc', n_jobs=4, iid=False, cv=5)"
   ]
  },
  {
   "cell_type": "code",
   "execution_count": null,
   "metadata": {},
   "outputs": [],
   "source": [
    "%%time\n",
    "gsearch1.fit(X_train, y_train)"
   ]
  },
  {
   "cell_type": "code",
   "execution_count": null,
   "metadata": {
    "collapsed": true
   },
   "outputs": [],
   "source": [
    "gsearch1.grid_scores_, gsearch1.best_params_, gsearch1.best_score_"
   ]
  },
  {
   "cell_type": "markdown",
   "metadata": {},
   "source": [
    "### Step 3: Tune gamma"
   ]
  },
  {
   "cell_type": "code",
   "execution_count": null,
   "metadata": {
    "collapsed": true
   },
   "outputs": [],
   "source": [
    "param_step_3 = {\n",
    " 'gamma': [i/10.0 for i in range(0,5)]\n",
    "}"
   ]
  },
  {
   "cell_type": "code",
   "execution_count": null,
   "metadata": {
    "collapsed": true
   },
   "outputs": [],
   "source": [
    "gsearch3 = GridSearchCV(\n",
    "    estimator=XGBClassifier(learning_rate=0.3, n_estimators=78, max_depth=4,\n",
    "                            min_child_weight=6, subsample=0.8, colsample_bytree=0.8,\n",
    "                            objective= 'binary:logistic', n_jobs=4, random_state=RANDOM_SEED), \n",
    "    param_grid=param_step_3, scoring='roc_auc', n_jobs=4, iid=False, cv=5)"
   ]
  },
  {
   "cell_type": "code",
   "execution_count": null,
   "metadata": {
    "collapsed": true
   },
   "outputs": [],
   "source": [
    "gsearch3.fit(X_train, y_train)\n",
    "gsearch3.grid_scores_, gsearch3.best_params_, gsearch3.best_score_"
   ]
  },
  {
   "cell_type": "markdown",
   "metadata": {},
   "source": [
    "### Step 4: Tune subsample and colsample_bytree"
   ]
  },
  {
   "cell_type": "code",
   "execution_count": null,
   "metadata": {
    "collapsed": true
   },
   "outputs": [],
   "source": [
    "param_step_4 = {\n",
    " 'subsample': [i/10.0 for i in range(6,10)],\n",
    " 'colsample_bytree': [i/10.0 for i in range(6,10)]\n",
    "}"
   ]
  },
  {
   "cell_type": "code",
   "execution_count": null,
   "metadata": {
    "collapsed": true
   },
   "outputs": [],
   "source": [
    "gsearch4 = GridSearchCV(\n",
    "    estimator=XGBClassifier(learning_rate=0.3, n_estimators=78, max_depth=4,\n",
    "                            min_child_weight=6, gamma=0,\n",
    "                            objective= 'binary:logistic', n_jobs=4, random_state=27), \n",
    "    param_grid=param_test4, scoring='roc_auc', n_jobs=4,iid=False, cv=5)"
   ]
  },
  {
   "cell_type": "code",
   "execution_count": null,
   "metadata": {
    "collapsed": true
   },
   "outputs": [],
   "source": [
    "gsearch4.fit(X_train, y_train)"
   ]
  },
  {
   "cell_type": "code",
   "execution_count": null,
   "metadata": {
    "collapsed": true
   },
   "outputs": [],
   "source": [
    "gsearch4.grid_scores_, gsearch4.best_params_, gsearch4.best_score_"
   ]
  },
  {
   "cell_type": "markdown",
   "metadata": {},
   "source": [
    "### Step 5: Tuning Regularization Parameters"
   ]
  },
  {
   "cell_type": "code",
   "execution_count": null,
   "metadata": {
    "collapsed": true
   },
   "outputs": [],
   "source": []
  }
 ],
 "metadata": {
  "anaconda-cloud": {},
  "kernelspec": {
   "display_name": "Python [conda root]",
   "language": "python",
   "name": "conda-root-py"
  },
  "language_info": {
   "codemirror_mode": {
    "name": "ipython",
    "version": 2
   },
   "file_extension": ".py",
   "mimetype": "text/x-python",
   "name": "python",
   "nbconvert_exporter": "python",
   "pygments_lexer": "ipython2",
   "version": "2.7.13"
  }
 },
 "nbformat": 4,
 "nbformat_minor": 2
}
