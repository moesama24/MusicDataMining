{
 "cells": [
  {
   "cell_type": "code",
   "execution_count": 1,
   "metadata": {},
   "outputs": [],
   "source": [
    "import numpy as np\n",
    "import pandas as pd\n",
    "import matplotlib.pyplot as plt\n",
    "%matplotlib inline\n",
    "\n",
    "from sklearn.model_selection import train_test_split\n",
    "from sklearn import metrics \n",
    "from sklearn.svm import LinearSVC\n",
    "from sklearn.model_selection import GridSearchCV\n",
    "from sklearn.linear_model import SGDClassifier"
   ]
  },
  {
   "cell_type": "code",
   "execution_count": 2,
   "metadata": {
    "collapsed": true
   },
   "outputs": [],
   "source": [
    "churn_df = pd.read_csv(\"../data/churn_train.csv\")\n",
    "X = churn_df.drop(['churn_label'], axis=1)\n",
    "y = churn_df.churn_label"
   ]
  },
  {
   "cell_type": "code",
   "execution_count": 3,
   "metadata": {},
   "outputs": [
    {
     "name": "stdout",
     "output_type": "stream",
     "text": [
      "(572171, 21) (572171,)\n"
     ]
    }
   ],
   "source": [
    "print X.shape, y.shape"
   ]
  },
  {
   "cell_type": "code",
   "execution_count": 4,
   "metadata": {
    "collapsed": true
   },
   "outputs": [],
   "source": [
    "RANDOM_SEED = 24\n",
    "X_train, X_test, y_train, y_test = train_test_split(\n",
    "    X,\n",
    "    y,\n",
    "    test_size = 0.2,\n",
    "    random_state = RANDOM_SEED\n",
    ")"
   ]
  },
  {
   "cell_type": "code",
   "execution_count": 5,
   "metadata": {
    "collapsed": true
   },
   "outputs": [],
   "source": [
    "clf = SGDClassifier(random_state=RANDOM_SEED, n_jobs=2, max_iter=1000, tol=1e-3)"
   ]
  },
  {
   "cell_type": "code",
   "execution_count": 6,
   "metadata": {},
   "outputs": [
    {
     "name": "stdout",
     "output_type": "stream",
     "text": [
      "CPU times: user 3.61 s, sys: 88.9 ms, total: 3.69 s\n",
      "Wall time: 3.74 s\n"
     ]
    },
    {
     "data": {
      "text/plain": [
       "SGDClassifier(alpha=0.0001, average=False, class_weight=None, epsilon=0.1,\n",
       "       eta0=0.0, fit_intercept=True, l1_ratio=0.15,\n",
       "       learning_rate='optimal', loss='hinge', max_iter=1000, n_iter=None,\n",
       "       n_jobs=2, penalty='l2', power_t=0.5, random_state=24, shuffle=True,\n",
       "       tol=0.001, verbose=0, warm_start=False)"
      ]
     },
     "execution_count": 6,
     "metadata": {},
     "output_type": "execute_result"
    }
   ],
   "source": [
    "%%time\n",
    "clf.fit(X_train, y_train)"
   ]
  },
  {
   "cell_type": "code",
   "execution_count": 7,
   "metadata": {
    "collapsed": true
   },
   "outputs": [],
   "source": [
    "test_predprob = clf.decision_function(X_test)\n",
    "test_prediction = clf.predict(X_test)"
   ]
  },
  {
   "cell_type": "code",
   "execution_count": 8,
   "metadata": {},
   "outputs": [
    {
     "data": {
      "text/plain": [
       "0.81360597719229255"
      ]
     },
     "execution_count": 8,
     "metadata": {},
     "output_type": "execute_result"
    }
   ],
   "source": [
    "metrics.accuracy_score(y_test, test_prediction)"
   ]
  },
  {
   "cell_type": "code",
   "execution_count": 9,
   "metadata": {},
   "outputs": [
    {
     "data": {
      "text/plain": [
       "0.83468328953719817"
      ]
     },
     "execution_count": 9,
     "metadata": {},
     "output_type": "execute_result"
    }
   ],
   "source": [
    "metrics.roc_auc_score(y_test, test_predprob)"
   ]
  },
  {
   "cell_type": "code",
   "execution_count": 21,
   "metadata": {
    "collapsed": true
   },
   "outputs": [],
   "source": [
    "param_sgd = {'alpha': [0.0001, 0.001, 0.01, 0.1, 1, 10]}"
   ]
  },
  {
   "cell_type": "code",
   "execution_count": 22,
   "metadata": {
    "collapsed": true
   },
   "outputs": [],
   "source": [
    "gearch_sgd = GridSearchCV(SGDClassifier(random_state=RANDOM_SEED, n_jobs=2, max_iter=1000, tol=1e-3), \n",
    "                          param_grid=param_sgd, \n",
    "                          scoring='roc_auc', iid=False, cv=5)"
   ]
  },
  {
   "cell_type": "code",
   "execution_count": 23,
   "metadata": {},
   "outputs": [
    {
     "name": "stdout",
     "output_type": "stream",
     "text": [
      "CPU times: user 1min 15s, sys: 4.78 s, total: 1min 20s\n",
      "Wall time: 1min 20s\n"
     ]
    },
    {
     "data": {
      "text/plain": [
       "GridSearchCV(cv=5, error_score='raise',\n",
       "       estimator=SGDClassifier(alpha=0.0001, average=False, class_weight=None, epsilon=0.1,\n",
       "       eta0=0.0, fit_intercept=True, l1_ratio=0.15,\n",
       "       learning_rate='optimal', loss='hinge', max_iter=1000, n_iter=None,\n",
       "       n_jobs=2, penalty='l2', power_t=0.5, random_state=24, shuffle=True,\n",
       "       tol=0.001, verbose=0, warm_start=False),\n",
       "       fit_params=None, iid=False, n_jobs=1,\n",
       "       param_grid={'alpha': [0.0001, 0.001, 0.01, 0.1, 1, 10]},\n",
       "       pre_dispatch='2*n_jobs', refit=True, return_train_score=True,\n",
       "       scoring='roc_auc', verbose=0)"
      ]
     },
     "execution_count": 23,
     "metadata": {},
     "output_type": "execute_result"
    }
   ],
   "source": [
    "%%time\n",
    "gearch_sgd.fit(X_train, y_train)"
   ]
  },
  {
   "cell_type": "code",
   "execution_count": 29,
   "metadata": {},
   "outputs": [
    {
     "data": {
      "text/html": [
       "<div>\n",
       "<style>\n",
       "    .dataframe thead tr:only-child th {\n",
       "        text-align: right;\n",
       "    }\n",
       "\n",
       "    .dataframe thead th {\n",
       "        text-align: left;\n",
       "    }\n",
       "\n",
       "    .dataframe tbody tr th {\n",
       "        vertical-align: top;\n",
       "    }\n",
       "</style>\n",
       "<table border=\"1\" class=\"dataframe\">\n",
       "  <thead>\n",
       "    <tr style=\"text-align: right;\">\n",
       "      <th></th>\n",
       "      <th>mean_fit_time</th>\n",
       "      <th>mean_score_time</th>\n",
       "      <th>mean_test_score</th>\n",
       "      <th>mean_train_score</th>\n",
       "      <th>param_alpha</th>\n",
       "      <th>params</th>\n",
       "      <th>rank_test_score</th>\n",
       "      <th>split0_test_score</th>\n",
       "      <th>split0_train_score</th>\n",
       "      <th>split1_test_score</th>\n",
       "      <th>...</th>\n",
       "      <th>split2_test_score</th>\n",
       "      <th>split2_train_score</th>\n",
       "      <th>split3_test_score</th>\n",
       "      <th>split3_train_score</th>\n",
       "      <th>split4_test_score</th>\n",
       "      <th>split4_train_score</th>\n",
       "      <th>std_fit_time</th>\n",
       "      <th>std_score_time</th>\n",
       "      <th>std_test_score</th>\n",
       "      <th>std_train_score</th>\n",
       "    </tr>\n",
       "  </thead>\n",
       "  <tbody>\n",
       "    <tr>\n",
       "      <th>2</th>\n",
       "      <td>2.140293</td>\n",
       "      <td>0.056083</td>\n",
       "      <td>0.807484</td>\n",
       "      <td>0.807368</td>\n",
       "      <td>0.01</td>\n",
       "      <td>{u'alpha': 0.01}</td>\n",
       "      <td>1</td>\n",
       "      <td>0.856608</td>\n",
       "      <td>0.855972</td>\n",
       "      <td>0.761771</td>\n",
       "      <td>...</td>\n",
       "      <td>0.786544</td>\n",
       "      <td>0.786653</td>\n",
       "      <td>0.779031</td>\n",
       "      <td>0.776880</td>\n",
       "      <td>0.853468</td>\n",
       "      <td>0.855763</td>\n",
       "      <td>0.278236</td>\n",
       "      <td>0.006313</td>\n",
       "      <td>0.039662</td>\n",
       "      <td>0.040399</td>\n",
       "    </tr>\n",
       "    <tr>\n",
       "      <th>4</th>\n",
       "      <td>2.435297</td>\n",
       "      <td>0.052672</td>\n",
       "      <td>0.801421</td>\n",
       "      <td>0.801858</td>\n",
       "      <td>1</td>\n",
       "      <td>{u'alpha': 1}</td>\n",
       "      <td>2</td>\n",
       "      <td>0.729676</td>\n",
       "      <td>0.730121</td>\n",
       "      <td>0.839924</td>\n",
       "      <td>...</td>\n",
       "      <td>0.752352</td>\n",
       "      <td>0.755996</td>\n",
       "      <td>0.846806</td>\n",
       "      <td>0.843673</td>\n",
       "      <td>0.838350</td>\n",
       "      <td>0.840280</td>\n",
       "      <td>0.581508</td>\n",
       "      <td>0.002435</td>\n",
       "      <td>0.049922</td>\n",
       "      <td>0.048724</td>\n",
       "    </tr>\n",
       "    <tr>\n",
       "      <th>5</th>\n",
       "      <td>2.550960</td>\n",
       "      <td>0.053768</td>\n",
       "      <td>0.751617</td>\n",
       "      <td>0.751477</td>\n",
       "      <td>10</td>\n",
       "      <td>{u'alpha': 10}</td>\n",
       "      <td>3</td>\n",
       "      <td>0.852450</td>\n",
       "      <td>0.852323</td>\n",
       "      <td>0.772927</td>\n",
       "      <td>...</td>\n",
       "      <td>0.457344</td>\n",
       "      <td>0.457753</td>\n",
       "      <td>0.811578</td>\n",
       "      <td>0.809274</td>\n",
       "      <td>0.863785</td>\n",
       "      <td>0.865691</td>\n",
       "      <td>0.322035</td>\n",
       "      <td>0.001677</td>\n",
       "      <td>0.150595</td>\n",
       "      <td>0.150509</td>\n",
       "    </tr>\n",
       "    <tr>\n",
       "      <th>0</th>\n",
       "      <td>2.351426</td>\n",
       "      <td>0.047495</td>\n",
       "      <td>0.725233</td>\n",
       "      <td>0.724047</td>\n",
       "      <td>0.0001</td>\n",
       "      <td>{u'alpha': 0.0001}</td>\n",
       "      <td>4</td>\n",
       "      <td>0.804281</td>\n",
       "      <td>0.804324</td>\n",
       "      <td>0.727598</td>\n",
       "      <td>...</td>\n",
       "      <td>0.874738</td>\n",
       "      <td>0.875927</td>\n",
       "      <td>0.755310</td>\n",
       "      <td>0.750201</td>\n",
       "      <td>0.464237</td>\n",
       "      <td>0.461841</td>\n",
       "      <td>0.410069</td>\n",
       "      <td>0.002451</td>\n",
       "      <td>0.139735</td>\n",
       "      <td>0.140686</td>\n",
       "    </tr>\n",
       "    <tr>\n",
       "      <th>1</th>\n",
       "      <td>2.207081</td>\n",
       "      <td>0.049898</td>\n",
       "      <td>0.695564</td>\n",
       "      <td>0.694490</td>\n",
       "      <td>0.001</td>\n",
       "      <td>{u'alpha': 0.001}</td>\n",
       "      <td>5</td>\n",
       "      <td>0.698101</td>\n",
       "      <td>0.698954</td>\n",
       "      <td>0.747805</td>\n",
       "      <td>...</td>\n",
       "      <td>0.787608</td>\n",
       "      <td>0.787713</td>\n",
       "      <td>0.853502</td>\n",
       "      <td>0.847962</td>\n",
       "      <td>0.390803</td>\n",
       "      <td>0.389156</td>\n",
       "      <td>0.115891</td>\n",
       "      <td>0.002711</td>\n",
       "      <td>0.160643</td>\n",
       "      <td>0.160268</td>\n",
       "    </tr>\n",
       "    <tr>\n",
       "      <th>3</th>\n",
       "      <td>2.273541</td>\n",
       "      <td>0.049391</td>\n",
       "      <td>0.571022</td>\n",
       "      <td>0.570288</td>\n",
       "      <td>0.1</td>\n",
       "      <td>{u'alpha': 0.1}</td>\n",
       "      <td>6</td>\n",
       "      <td>0.672633</td>\n",
       "      <td>0.674362</td>\n",
       "      <td>0.172338</td>\n",
       "      <td>...</td>\n",
       "      <td>0.874272</td>\n",
       "      <td>0.875334</td>\n",
       "      <td>0.835753</td>\n",
       "      <td>0.832896</td>\n",
       "      <td>0.300113</td>\n",
       "      <td>0.297704</td>\n",
       "      <td>0.543856</td>\n",
       "      <td>0.002436</td>\n",
       "      <td>0.284503</td>\n",
       "      <td>0.285119</td>\n",
       "    </tr>\n",
       "  </tbody>\n",
       "</table>\n",
       "<p>6 rows × 21 columns</p>\n",
       "</div>"
      ],
      "text/plain": [
       "   mean_fit_time  mean_score_time  mean_test_score  mean_train_score  \\\n",
       "2       2.140293         0.056083         0.807484          0.807368   \n",
       "4       2.435297         0.052672         0.801421          0.801858   \n",
       "5       2.550960         0.053768         0.751617          0.751477   \n",
       "0       2.351426         0.047495         0.725233          0.724047   \n",
       "1       2.207081         0.049898         0.695564          0.694490   \n",
       "3       2.273541         0.049391         0.571022          0.570288   \n",
       "\n",
       "  param_alpha              params  rank_test_score  split0_test_score  \\\n",
       "2        0.01    {u'alpha': 0.01}                1           0.856608   \n",
       "4           1       {u'alpha': 1}                2           0.729676   \n",
       "5          10      {u'alpha': 10}                3           0.852450   \n",
       "0      0.0001  {u'alpha': 0.0001}                4           0.804281   \n",
       "1       0.001   {u'alpha': 0.001}                5           0.698101   \n",
       "3         0.1     {u'alpha': 0.1}                6           0.672633   \n",
       "\n",
       "   split0_train_score  split1_test_score       ...         split2_test_score  \\\n",
       "2            0.855972           0.761771       ...                  0.786544   \n",
       "4            0.730121           0.839924       ...                  0.752352   \n",
       "5            0.852323           0.772927       ...                  0.457344   \n",
       "0            0.804324           0.727598       ...                  0.874738   \n",
       "1            0.698954           0.747805       ...                  0.787608   \n",
       "3            0.674362           0.172338       ...                  0.874272   \n",
       "\n",
       "   split2_train_score  split3_test_score  split3_train_score  \\\n",
       "2            0.786653           0.779031            0.776880   \n",
       "4            0.755996           0.846806            0.843673   \n",
       "5            0.457753           0.811578            0.809274   \n",
       "0            0.875927           0.755310            0.750201   \n",
       "1            0.787713           0.853502            0.847962   \n",
       "3            0.875334           0.835753            0.832896   \n",
       "\n",
       "   split4_test_score  split4_train_score  std_fit_time  std_score_time  \\\n",
       "2           0.853468            0.855763      0.278236        0.006313   \n",
       "4           0.838350            0.840280      0.581508        0.002435   \n",
       "5           0.863785            0.865691      0.322035        0.001677   \n",
       "0           0.464237            0.461841      0.410069        0.002451   \n",
       "1           0.390803            0.389156      0.115891        0.002711   \n",
       "3           0.300113            0.297704      0.543856        0.002436   \n",
       "\n",
       "   std_test_score  std_train_score  \n",
       "2        0.039662         0.040399  \n",
       "4        0.049922         0.048724  \n",
       "5        0.150595         0.150509  \n",
       "0        0.139735         0.140686  \n",
       "1        0.160643         0.160268  \n",
       "3        0.284503         0.285119  \n",
       "\n",
       "[6 rows x 21 columns]"
      ]
     },
     "execution_count": 29,
     "metadata": {},
     "output_type": "execute_result"
    }
   ],
   "source": [
    "pd.DataFrame(gearch_sgd.cv_results_).sort_values('mean_test_score', ascending=False)"
   ]
  },
  {
   "cell_type": "code",
   "execution_count": 24,
   "metadata": {},
   "outputs": [
    {
     "data": {
      "text/plain": [
       "(0.80748432208955467, {'alpha': 0.01})"
      ]
     },
     "execution_count": 24,
     "metadata": {},
     "output_type": "execute_result"
    }
   ],
   "source": [
    "gearch_sgd.best_score_, gearch_sgd.best_params_"
   ]
  },
  {
   "cell_type": "code",
   "execution_count": 26,
   "metadata": {},
   "outputs": [
    {
     "name": "stdout",
     "output_type": "stream",
     "text": [
      "CPU times: user 2.64 s, sys: 41.2 ms, total: 2.68 s\n",
      "Wall time: 2.69 s\n"
     ]
    }
   ],
   "source": [
    "%%time\n",
    "clf_sgdsvm_best = SGDClassifier(random_state=RANDOM_SEED, n_jobs=2, max_iter=1000, tol=1e-3, alpha=0.01)\n",
    "clf_sgdsvm_best.fit(X_train, y_train)"
   ]
  },
  {
   "cell_type": "code",
   "execution_count": 27,
   "metadata": {},
   "outputs": [],
   "source": [
    "test_prediction = clf_sgdsvm_best.predict(X_test)\n",
    "test_predscore = clf_sgdsvm_best.decision_function(X_test)"
   ]
  },
  {
   "cell_type": "code",
   "execution_count": 28,
   "metadata": {},
   "outputs": [
    {
     "name": "stdout",
     "output_type": "stream",
     "text": [
      "0.631056931883\n",
      "0.69522159588\n"
     ]
    }
   ],
   "source": [
    "print metrics.accuracy_score(y_test, test_prediction)\n",
    "print metrics.roc_auc_score(y_test, test_predscore)"
   ]
  },
  {
   "cell_type": "code",
   "execution_count": 35,
   "metadata": {
    "collapsed": true
   },
   "outputs": [],
   "source": [
    "param_sgd_2 = {'alpha': [0.005] + [i/100.0 for i in range(1, 10)]}"
   ]
  },
  {
   "cell_type": "code",
   "execution_count": 37,
   "metadata": {},
   "outputs": [
    {
     "name": "stdout",
     "output_type": "stream",
     "text": [
      "CPU times: user 2min 3s, sys: 7.79 s, total: 2min 11s\n",
      "Wall time: 2min 12s\n"
     ]
    }
   ],
   "source": [
    "%%time\n",
    "gearch_sgd_2 = GridSearchCV(SGDClassifier(random_state=RANDOM_SEED, n_jobs=2, max_iter=1000, tol=1e-3), \n",
    "                            param_grid=param_sgd_2, scoring='roc_auc', iid=False, cv=5)\n",
    "gearch_sgd_2.fit(X_train, y_train)"
   ]
  },
  {
   "cell_type": "code",
   "execution_count": 38,
   "metadata": {},
   "outputs": [
    {
     "data": {
      "text/html": [
       "<div>\n",
       "<style>\n",
       "    .dataframe thead tr:only-child th {\n",
       "        text-align: right;\n",
       "    }\n",
       "\n",
       "    .dataframe thead th {\n",
       "        text-align: left;\n",
       "    }\n",
       "\n",
       "    .dataframe tbody tr th {\n",
       "        vertical-align: top;\n",
       "    }\n",
       "</style>\n",
       "<table border=\"1\" class=\"dataframe\">\n",
       "  <thead>\n",
       "    <tr style=\"text-align: right;\">\n",
       "      <th></th>\n",
       "      <th>mean_fit_time</th>\n",
       "      <th>mean_score_time</th>\n",
       "      <th>mean_test_score</th>\n",
       "      <th>mean_train_score</th>\n",
       "      <th>param_alpha</th>\n",
       "      <th>params</th>\n",
       "      <th>rank_test_score</th>\n",
       "      <th>split0_test_score</th>\n",
       "      <th>split0_train_score</th>\n",
       "      <th>split1_test_score</th>\n",
       "      <th>...</th>\n",
       "      <th>split2_test_score</th>\n",
       "      <th>split2_train_score</th>\n",
       "      <th>split3_test_score</th>\n",
       "      <th>split3_train_score</th>\n",
       "      <th>split4_test_score</th>\n",
       "      <th>split4_train_score</th>\n",
       "      <th>std_fit_time</th>\n",
       "      <th>std_score_time</th>\n",
       "      <th>std_test_score</th>\n",
       "      <th>std_train_score</th>\n",
       "    </tr>\n",
       "  </thead>\n",
       "  <tbody>\n",
       "    <tr>\n",
       "      <th>5</th>\n",
       "      <td>2.282504</td>\n",
       "      <td>0.052692</td>\n",
       "      <td>0.846184</td>\n",
       "      <td>0.846629</td>\n",
       "      <td>0.05</td>\n",
       "      <td>{u'alpha': 0.05}</td>\n",
       "      <td>1</td>\n",
       "      <td>0.875251</td>\n",
       "      <td>0.875132</td>\n",
       "      <td>0.813653</td>\n",
       "      <td>...</td>\n",
       "      <td>0.853506</td>\n",
       "      <td>0.855603</td>\n",
       "      <td>0.840899</td>\n",
       "      <td>0.838134</td>\n",
       "      <td>0.847612</td>\n",
       "      <td>0.851072</td>\n",
       "      <td>0.815425</td>\n",
       "      <td>0.007975</td>\n",
       "      <td>0.019934</td>\n",
       "      <td>0.020503</td>\n",
       "    </tr>\n",
       "    <tr>\n",
       "      <th>0</th>\n",
       "      <td>2.390374</td>\n",
       "      <td>0.061479</td>\n",
       "      <td>0.831892</td>\n",
       "      <td>0.832399</td>\n",
       "      <td>0.005</td>\n",
       "      <td>{u'alpha': 0.005}</td>\n",
       "      <td>2</td>\n",
       "      <td>0.828697</td>\n",
       "      <td>0.828062</td>\n",
       "      <td>0.767993</td>\n",
       "      <td>...</td>\n",
       "      <td>0.866654</td>\n",
       "      <td>0.868563</td>\n",
       "      <td>0.862801</td>\n",
       "      <td>0.859848</td>\n",
       "      <td>0.833316</td>\n",
       "      <td>0.836353</td>\n",
       "      <td>0.174181</td>\n",
       "      <td>0.012401</td>\n",
       "      <td>0.035381</td>\n",
       "      <td>0.034910</td>\n",
       "    </tr>\n",
       "    <tr>\n",
       "      <th>7</th>\n",
       "      <td>2.403771</td>\n",
       "      <td>0.052072</td>\n",
       "      <td>0.828768</td>\n",
       "      <td>0.828536</td>\n",
       "      <td>0.07</td>\n",
       "      <td>{u'alpha': 0.07}</td>\n",
       "      <td>3</td>\n",
       "      <td>0.882078</td>\n",
       "      <td>0.882549</td>\n",
       "      <td>0.770542</td>\n",
       "      <td>...</td>\n",
       "      <td>0.869113</td>\n",
       "      <td>0.870178</td>\n",
       "      <td>0.799664</td>\n",
       "      <td>0.794718</td>\n",
       "      <td>0.822443</td>\n",
       "      <td>0.824876</td>\n",
       "      <td>0.377092</td>\n",
       "      <td>0.007615</td>\n",
       "      <td>0.041826</td>\n",
       "      <td>0.042879</td>\n",
       "    </tr>\n",
       "    <tr>\n",
       "      <th>2</th>\n",
       "      <td>2.501811</td>\n",
       "      <td>0.052426</td>\n",
       "      <td>0.827544</td>\n",
       "      <td>0.827660</td>\n",
       "      <td>0.02</td>\n",
       "      <td>{u'alpha': 0.02}</td>\n",
       "      <td>4</td>\n",
       "      <td>0.884433</td>\n",
       "      <td>0.884685</td>\n",
       "      <td>0.753778</td>\n",
       "      <td>...</td>\n",
       "      <td>0.846209</td>\n",
       "      <td>0.846806</td>\n",
       "      <td>0.849209</td>\n",
       "      <td>0.846059</td>\n",
       "      <td>0.804090</td>\n",
       "      <td>0.805824</td>\n",
       "      <td>0.332286</td>\n",
       "      <td>0.005602</td>\n",
       "      <td>0.044823</td>\n",
       "      <td>0.044100</td>\n",
       "    </tr>\n",
       "    <tr>\n",
       "      <th>8</th>\n",
       "      <td>2.135673</td>\n",
       "      <td>0.046828</td>\n",
       "      <td>0.819443</td>\n",
       "      <td>0.819239</td>\n",
       "      <td>0.08</td>\n",
       "      <td>{u'alpha': 0.08}</td>\n",
       "      <td>5</td>\n",
       "      <td>0.858299</td>\n",
       "      <td>0.858521</td>\n",
       "      <td>0.752290</td>\n",
       "      <td>...</td>\n",
       "      <td>0.852159</td>\n",
       "      <td>0.852930</td>\n",
       "      <td>0.781206</td>\n",
       "      <td>0.776625</td>\n",
       "      <td>0.853264</td>\n",
       "      <td>0.856665</td>\n",
       "      <td>0.290710</td>\n",
       "      <td>0.000656</td>\n",
       "      <td>0.044036</td>\n",
       "      <td>0.045802</td>\n",
       "    </tr>\n",
       "    <tr>\n",
       "      <th>3</th>\n",
       "      <td>2.737967</td>\n",
       "      <td>0.064895</td>\n",
       "      <td>0.813526</td>\n",
       "      <td>0.813469</td>\n",
       "      <td>0.03</td>\n",
       "      <td>{u'alpha': 0.03}</td>\n",
       "      <td>6</td>\n",
       "      <td>0.843785</td>\n",
       "      <td>0.843441</td>\n",
       "      <td>0.752460</td>\n",
       "      <td>...</td>\n",
       "      <td>0.774897</td>\n",
       "      <td>0.774838</td>\n",
       "      <td>0.848079</td>\n",
       "      <td>0.845289</td>\n",
       "      <td>0.848412</td>\n",
       "      <td>0.852136</td>\n",
       "      <td>0.385949</td>\n",
       "      <td>0.013175</td>\n",
       "      <td>0.041346</td>\n",
       "      <td>0.041764</td>\n",
       "    </tr>\n",
       "    <tr>\n",
       "      <th>6</th>\n",
       "      <td>2.386334</td>\n",
       "      <td>0.053128</td>\n",
       "      <td>0.810607</td>\n",
       "      <td>0.810588</td>\n",
       "      <td>0.06</td>\n",
       "      <td>{u'alpha': 0.06}</td>\n",
       "      <td>7</td>\n",
       "      <td>0.796406</td>\n",
       "      <td>0.796392</td>\n",
       "      <td>0.772469</td>\n",
       "      <td>...</td>\n",
       "      <td>0.841323</td>\n",
       "      <td>0.841818</td>\n",
       "      <td>0.824823</td>\n",
       "      <td>0.821811</td>\n",
       "      <td>0.818016</td>\n",
       "      <td>0.820622</td>\n",
       "      <td>0.277015</td>\n",
       "      <td>0.010791</td>\n",
       "      <td>0.023902</td>\n",
       "      <td>0.023957</td>\n",
       "    </tr>\n",
       "    <tr>\n",
       "      <th>1</th>\n",
       "      <td>2.097056</td>\n",
       "      <td>0.052636</td>\n",
       "      <td>0.807484</td>\n",
       "      <td>0.807368</td>\n",
       "      <td>0.01</td>\n",
       "      <td>{u'alpha': 0.01}</td>\n",
       "      <td>8</td>\n",
       "      <td>0.856608</td>\n",
       "      <td>0.855972</td>\n",
       "      <td>0.761771</td>\n",
       "      <td>...</td>\n",
       "      <td>0.786544</td>\n",
       "      <td>0.786653</td>\n",
       "      <td>0.779031</td>\n",
       "      <td>0.776880</td>\n",
       "      <td>0.853468</td>\n",
       "      <td>0.855763</td>\n",
       "      <td>0.230293</td>\n",
       "      <td>0.008201</td>\n",
       "      <td>0.039662</td>\n",
       "      <td>0.040399</td>\n",
       "    </tr>\n",
       "    <tr>\n",
       "      <th>9</th>\n",
       "      <td>1.957373</td>\n",
       "      <td>0.047447</td>\n",
       "      <td>0.797917</td>\n",
       "      <td>0.797686</td>\n",
       "      <td>0.09</td>\n",
       "      <td>{u'alpha': 0.09}</td>\n",
       "      <td>9</td>\n",
       "      <td>0.822894</td>\n",
       "      <td>0.822215</td>\n",
       "      <td>0.819695</td>\n",
       "      <td>...</td>\n",
       "      <td>0.786285</td>\n",
       "      <td>0.786458</td>\n",
       "      <td>0.725298</td>\n",
       "      <td>0.722064</td>\n",
       "      <td>0.835413</td>\n",
       "      <td>0.838535</td>\n",
       "      <td>0.232796</td>\n",
       "      <td>0.001140</td>\n",
       "      <td>0.039782</td>\n",
       "      <td>0.041415</td>\n",
       "    </tr>\n",
       "    <tr>\n",
       "      <th>4</th>\n",
       "      <td>2.416107</td>\n",
       "      <td>0.051099</td>\n",
       "      <td>0.787053</td>\n",
       "      <td>0.786865</td>\n",
       "      <td>0.04</td>\n",
       "      <td>{u'alpha': 0.04}</td>\n",
       "      <td>10</td>\n",
       "      <td>0.759244</td>\n",
       "      <td>0.760289</td>\n",
       "      <td>0.784282</td>\n",
       "      <td>...</td>\n",
       "      <td>0.840365</td>\n",
       "      <td>0.840774</td>\n",
       "      <td>0.877502</td>\n",
       "      <td>0.874190</td>\n",
       "      <td>0.673875</td>\n",
       "      <td>0.675571</td>\n",
       "      <td>0.379565</td>\n",
       "      <td>0.003028</td>\n",
       "      <td>0.070162</td>\n",
       "      <td>0.068755</td>\n",
       "    </tr>\n",
       "  </tbody>\n",
       "</table>\n",
       "<p>10 rows × 21 columns</p>\n",
       "</div>"
      ],
      "text/plain": [
       "   mean_fit_time  mean_score_time  mean_test_score  mean_train_score  \\\n",
       "5       2.282504         0.052692         0.846184          0.846629   \n",
       "0       2.390374         0.061479         0.831892          0.832399   \n",
       "7       2.403771         0.052072         0.828768          0.828536   \n",
       "2       2.501811         0.052426         0.827544          0.827660   \n",
       "8       2.135673         0.046828         0.819443          0.819239   \n",
       "3       2.737967         0.064895         0.813526          0.813469   \n",
       "6       2.386334         0.053128         0.810607          0.810588   \n",
       "1       2.097056         0.052636         0.807484          0.807368   \n",
       "9       1.957373         0.047447         0.797917          0.797686   \n",
       "4       2.416107         0.051099         0.787053          0.786865   \n",
       "\n",
       "  param_alpha             params  rank_test_score  split0_test_score  \\\n",
       "5        0.05   {u'alpha': 0.05}                1           0.875251   \n",
       "0       0.005  {u'alpha': 0.005}                2           0.828697   \n",
       "7        0.07   {u'alpha': 0.07}                3           0.882078   \n",
       "2        0.02   {u'alpha': 0.02}                4           0.884433   \n",
       "8        0.08   {u'alpha': 0.08}                5           0.858299   \n",
       "3        0.03   {u'alpha': 0.03}                6           0.843785   \n",
       "6        0.06   {u'alpha': 0.06}                7           0.796406   \n",
       "1        0.01   {u'alpha': 0.01}                8           0.856608   \n",
       "9        0.09   {u'alpha': 0.09}                9           0.822894   \n",
       "4        0.04   {u'alpha': 0.04}               10           0.759244   \n",
       "\n",
       "   split0_train_score  split1_test_score       ...         split2_test_score  \\\n",
       "5            0.875132           0.813653       ...                  0.853506   \n",
       "0            0.828062           0.767993       ...                  0.866654   \n",
       "7            0.882549           0.770542       ...                  0.869113   \n",
       "2            0.884685           0.753778       ...                  0.846209   \n",
       "8            0.858521           0.752290       ...                  0.852159   \n",
       "3            0.843441           0.752460       ...                  0.774897   \n",
       "6            0.796392           0.772469       ...                  0.841323   \n",
       "1            0.855972           0.761771       ...                  0.786544   \n",
       "9            0.822215           0.819695       ...                  0.786285   \n",
       "4            0.760289           0.784282       ...                  0.840365   \n",
       "\n",
       "   split2_train_score  split3_test_score  split3_train_score  \\\n",
       "5            0.855603           0.840899            0.838134   \n",
       "0            0.868563           0.862801            0.859848   \n",
       "7            0.870178           0.799664            0.794718   \n",
       "2            0.846806           0.849209            0.846059   \n",
       "8            0.852930           0.781206            0.776625   \n",
       "3            0.774838           0.848079            0.845289   \n",
       "6            0.841818           0.824823            0.821811   \n",
       "1            0.786653           0.779031            0.776880   \n",
       "9            0.786458           0.725298            0.722064   \n",
       "4            0.840774           0.877502            0.874190   \n",
       "\n",
       "   split4_test_score  split4_train_score  std_fit_time  std_score_time  \\\n",
       "5           0.847612            0.851072      0.815425        0.007975   \n",
       "0           0.833316            0.836353      0.174181        0.012401   \n",
       "7           0.822443            0.824876      0.377092        0.007615   \n",
       "2           0.804090            0.805824      0.332286        0.005602   \n",
       "8           0.853264            0.856665      0.290710        0.000656   \n",
       "3           0.848412            0.852136      0.385949        0.013175   \n",
       "6           0.818016            0.820622      0.277015        0.010791   \n",
       "1           0.853468            0.855763      0.230293        0.008201   \n",
       "9           0.835413            0.838535      0.232796        0.001140   \n",
       "4           0.673875            0.675571      0.379565        0.003028   \n",
       "\n",
       "   std_test_score  std_train_score  \n",
       "5        0.019934         0.020503  \n",
       "0        0.035381         0.034910  \n",
       "7        0.041826         0.042879  \n",
       "2        0.044823         0.044100  \n",
       "8        0.044036         0.045802  \n",
       "3        0.041346         0.041764  \n",
       "6        0.023902         0.023957  \n",
       "1        0.039662         0.040399  \n",
       "9        0.039782         0.041415  \n",
       "4        0.070162         0.068755  \n",
       "\n",
       "[10 rows x 21 columns]"
      ]
     },
     "execution_count": 38,
     "metadata": {},
     "output_type": "execute_result"
    }
   ],
   "source": [
    "pd.DataFrame(gearch_sgd_2.cv_results_).sort_values('mean_test_score', ascending=False)"
   ]
  },
  {
   "cell_type": "code",
   "execution_count": 39,
   "metadata": {},
   "outputs": [
    {
     "data": {
      "text/plain": [
       "({'alpha': 0.05}, 0.84618415331021912)"
      ]
     },
     "execution_count": 39,
     "metadata": {},
     "output_type": "execute_result"
    }
   ],
   "source": [
    "gearch_sgd_2.best_params_, gearch_sgd_2.best_score_"
   ]
  },
  {
   "cell_type": "code",
   "execution_count": 40,
   "metadata": {},
   "outputs": [
    {
     "name": "stdout",
     "output_type": "stream",
     "text": [
      "CPU times: user 3.02 s, sys: 57.7 ms, total: 3.08 s\n",
      "Wall time: 3.11 s\n"
     ]
    }
   ],
   "source": [
    "%%time\n",
    "clf_sgdsvm_best_2 = SGDClassifier(random_state=RANDOM_SEED, n_jobs=2, max_iter=1000, tol=1e-3, alpha=0.05)\n",
    "clf_sgdsvm_best_2.fit(X_train, y_train)"
   ]
  },
  {
   "cell_type": "code",
   "execution_count": 43,
   "metadata": {},
   "outputs": [
    {
     "name": "stdout",
     "output_type": "stream",
     "text": [
      "0.635120374011\n",
      "0.701795609277\n"
     ]
    },
    {
     "name": "stderr",
     "output_type": "stream",
     "text": [
      "/Users/Meng/anaconda/lib/python2.7/site-packages/ipykernel/__main__.py:4: RuntimeWarning: overflow encountered in exp\n"
     ]
    }
   ],
   "source": [
    "test_prediction_2 = clf_sgdsvm_best_2.predict(X_test)\n",
    "test_predscore_2 = clf_sgdsvm_best_2.decision_function(X_test)\n",
    "print metrics.accuracy_score(y_test, test_prediction_2)\n",
    "print metrics.roc_auc_score(y_test, 1/(1+np.exp(-test_predscore_2)))"
   ]
  }
 ],
 "metadata": {
  "kernelspec": {
   "display_name": "Python [conda root]",
   "language": "python",
   "name": "conda-root-py"
  },
  "language_info": {
   "codemirror_mode": {
    "name": "ipython",
    "version": 2
   },
   "file_extension": ".py",
   "mimetype": "text/x-python",
   "name": "python",
   "nbconvert_exporter": "python",
   "pygments_lexer": "ipython2",
   "version": "2.7.13"
  }
 },
 "nbformat": 4,
 "nbformat_minor": 2
}
