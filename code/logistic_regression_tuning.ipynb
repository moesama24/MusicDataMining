{
 "cells": [
  {
   "cell_type": "code",
   "execution_count": 1,
   "metadata": {
    "collapsed": true
   },
   "outputs": [],
   "source": [
    "import numpy as np\n",
    "import pandas as pd\n",
    "import matplotlib.pyplot as plt\n",
    "%matplotlib inline\n",
    "\n",
    "from sklearn.model_selection import train_test_split\n",
    "from sklearn import metrics\n",
    "from sklearn.model_selection import GridSearchCV\n",
    "from glmnet import LogitNet"
   ]
  },
  {
   "cell_type": "code",
   "execution_count": 2,
   "metadata": {},
   "outputs": [
    {
     "name": "stdout",
     "output_type": "stream",
     "text": [
      "(572171, 21) (572171,)\n"
     ]
    }
   ],
   "source": [
    "churn_df = pd.read_csv(\"../data/churn_train.csv\")\n",
    "X = churn_df.drop(['churn_label'], axis=1)\n",
    "y = churn_df.churn_label\n",
    "print X.shape, y.shape"
   ]
  },
  {
   "cell_type": "code",
   "execution_count": 3,
   "metadata": {
    "collapsed": true
   },
   "outputs": [],
   "source": [
    "RANDOM_SEED = 24\n",
    "X_train, X_test, y_train, y_test = train_test_split(\n",
    "    X,\n",
    "    y,\n",
    "    test_size = 0.2,\n",
    "    random_state = RANDOM_SEED\n",
    ")"
   ]
  },
  {
   "cell_type": "code",
   "execution_count": 4,
   "metadata": {},
   "outputs": [],
   "source": [
    "log_net = LogitNet(n_splits=5, scoring='roc_auc', n_jobs=2, random_state=RANDOM_SEED)"
   ]
  },
  {
   "cell_type": "code",
   "execution_count": 9,
   "metadata": {},
   "outputs": [
    {
     "name": "stdout",
     "output_type": "stream",
     "text": [
      "CPU times: user 28min 53s, sys: 23.9 s, total: 29min 17s\n",
      "Wall time: 18min 55s\n"
     ]
    }
   ],
   "source": [
    "%%time\n",
    "param = {'alpha': [i/10.0 for i in range(1, 10, 2)]}\n",
    "gsearch = GridSearchCV(estimator=log_net, param_grid=param, scoring='roc_auc', iid=False, cv=5)\n",
    "gsearch.fit(X_train, y_train)"
   ]
  },
  {
   "cell_type": "code",
   "execution_count": 13,
   "metadata": {},
   "outputs": [
    {
     "data": {
      "text/html": [
       "<div>\n",
       "<style>\n",
       "    .dataframe thead tr:only-child th {\n",
       "        text-align: right;\n",
       "    }\n",
       "\n",
       "    .dataframe thead th {\n",
       "        text-align: left;\n",
       "    }\n",
       "\n",
       "    .dataframe tbody tr th {\n",
       "        vertical-align: top;\n",
       "    }\n",
       "</style>\n",
       "<table border=\"1\" class=\"dataframe\">\n",
       "  <thead>\n",
       "    <tr style=\"text-align: right;\">\n",
       "      <th></th>\n",
       "      <th>mean_fit_time</th>\n",
       "      <th>mean_score_time</th>\n",
       "      <th>mean_test_score</th>\n",
       "      <th>mean_train_score</th>\n",
       "      <th>param_alpha</th>\n",
       "      <th>params</th>\n",
       "      <th>rank_test_score</th>\n",
       "      <th>split0_test_score</th>\n",
       "      <th>split0_train_score</th>\n",
       "      <th>split1_test_score</th>\n",
       "      <th>...</th>\n",
       "      <th>split2_test_score</th>\n",
       "      <th>split2_train_score</th>\n",
       "      <th>split3_test_score</th>\n",
       "      <th>split3_train_score</th>\n",
       "      <th>split4_test_score</th>\n",
       "      <th>split4_train_score</th>\n",
       "      <th>std_fit_time</th>\n",
       "      <th>std_score_time</th>\n",
       "      <th>std_test_score</th>\n",
       "      <th>std_train_score</th>\n",
       "    </tr>\n",
       "  </thead>\n",
       "  <tbody>\n",
       "    <tr>\n",
       "      <th>0</th>\n",
       "      <td>65.936394</td>\n",
       "      <td>0.051043</td>\n",
       "      <td>0.898241</td>\n",
       "      <td>0.898260</td>\n",
       "      <td>0.1</td>\n",
       "      <td>{u'alpha': 0.1}</td>\n",
       "      <td>5</td>\n",
       "      <td>0.897431</td>\n",
       "      <td>0.898382</td>\n",
       "      <td>0.898295</td>\n",
       "      <td>...</td>\n",
       "      <td>0.897480</td>\n",
       "      <td>0.898268</td>\n",
       "      <td>0.901137</td>\n",
       "      <td>0.897927</td>\n",
       "      <td>0.896861</td>\n",
       "      <td>0.898502</td>\n",
       "      <td>5.094240</td>\n",
       "      <td>0.002478</td>\n",
       "      <td>0.001518</td>\n",
       "      <td>0.000193</td>\n",
       "    </tr>\n",
       "    <tr>\n",
       "      <th>1</th>\n",
       "      <td>43.156625</td>\n",
       "      <td>0.049911</td>\n",
       "      <td>0.898293</td>\n",
       "      <td>0.898307</td>\n",
       "      <td>0.3</td>\n",
       "      <td>{u'alpha': 0.3}</td>\n",
       "      <td>4</td>\n",
       "      <td>0.897484</td>\n",
       "      <td>0.898388</td>\n",
       "      <td>0.898299</td>\n",
       "      <td>...</td>\n",
       "      <td>0.897549</td>\n",
       "      <td>0.898313</td>\n",
       "      <td>0.901218</td>\n",
       "      <td>0.897979</td>\n",
       "      <td>0.896917</td>\n",
       "      <td>0.898607</td>\n",
       "      <td>1.729083</td>\n",
       "      <td>0.001560</td>\n",
       "      <td>0.001527</td>\n",
       "      <td>0.000204</td>\n",
       "    </tr>\n",
       "    <tr>\n",
       "      <th>2</th>\n",
       "      <td>38.073968</td>\n",
       "      <td>0.051277</td>\n",
       "      <td>0.898336</td>\n",
       "      <td>0.898331</td>\n",
       "      <td>0.5</td>\n",
       "      <td>{u'alpha': 0.5}</td>\n",
       "      <td>3</td>\n",
       "      <td>0.897614</td>\n",
       "      <td>0.898442</td>\n",
       "      <td>0.898302</td>\n",
       "      <td>...</td>\n",
       "      <td>0.897585</td>\n",
       "      <td>0.898304</td>\n",
       "      <td>0.901246</td>\n",
       "      <td>0.897987</td>\n",
       "      <td>0.896930</td>\n",
       "      <td>0.898649</td>\n",
       "      <td>1.827131</td>\n",
       "      <td>0.007271</td>\n",
       "      <td>0.001518</td>\n",
       "      <td>0.000217</td>\n",
       "    </tr>\n",
       "    <tr>\n",
       "      <th>3</th>\n",
       "      <td>37.880411</td>\n",
       "      <td>0.045541</td>\n",
       "      <td>0.898484</td>\n",
       "      <td>0.898478</td>\n",
       "      <td>0.7</td>\n",
       "      <td>{u'alpha': 0.7}</td>\n",
       "      <td>2</td>\n",
       "      <td>0.897731</td>\n",
       "      <td>0.898560</td>\n",
       "      <td>0.898344</td>\n",
       "      <td>...</td>\n",
       "      <td>0.897837</td>\n",
       "      <td>0.898536</td>\n",
       "      <td>0.901351</td>\n",
       "      <td>0.898131</td>\n",
       "      <td>0.897157</td>\n",
       "      <td>0.898784</td>\n",
       "      <td>3.019679</td>\n",
       "      <td>0.001844</td>\n",
       "      <td>0.001482</td>\n",
       "      <td>0.000216</td>\n",
       "    </tr>\n",
       "    <tr>\n",
       "      <th>4</th>\n",
       "      <td>33.154145</td>\n",
       "      <td>0.045971</td>\n",
       "      <td>0.898718</td>\n",
       "      <td>0.898723</td>\n",
       "      <td>0.9</td>\n",
       "      <td>{u'alpha': 0.9}</td>\n",
       "      <td>1</td>\n",
       "      <td>0.897969</td>\n",
       "      <td>0.898847</td>\n",
       "      <td>0.898541</td>\n",
       "      <td>...</td>\n",
       "      <td>0.897990</td>\n",
       "      <td>0.898714</td>\n",
       "      <td>0.901606</td>\n",
       "      <td>0.898418</td>\n",
       "      <td>0.897482</td>\n",
       "      <td>0.898970</td>\n",
       "      <td>5.087631</td>\n",
       "      <td>0.002859</td>\n",
       "      <td>0.001483</td>\n",
       "      <td>0.000186</td>\n",
       "    </tr>\n",
       "  </tbody>\n",
       "</table>\n",
       "<p>5 rows × 21 columns</p>\n",
       "</div>"
      ],
      "text/plain": [
       "   mean_fit_time  mean_score_time  mean_test_score  mean_train_score  \\\n",
       "0      65.936394         0.051043         0.898241          0.898260   \n",
       "1      43.156625         0.049911         0.898293          0.898307   \n",
       "2      38.073968         0.051277         0.898336          0.898331   \n",
       "3      37.880411         0.045541         0.898484          0.898478   \n",
       "4      33.154145         0.045971         0.898718          0.898723   \n",
       "\n",
       "  param_alpha           params  rank_test_score  split0_test_score  \\\n",
       "0         0.1  {u'alpha': 0.1}                5           0.897431   \n",
       "1         0.3  {u'alpha': 0.3}                4           0.897484   \n",
       "2         0.5  {u'alpha': 0.5}                3           0.897614   \n",
       "3         0.7  {u'alpha': 0.7}                2           0.897731   \n",
       "4         0.9  {u'alpha': 0.9}                1           0.897969   \n",
       "\n",
       "   split0_train_score  split1_test_score       ...         split2_test_score  \\\n",
       "0            0.898382           0.898295       ...                  0.897480   \n",
       "1            0.898388           0.898299       ...                  0.897549   \n",
       "2            0.898442           0.898302       ...                  0.897585   \n",
       "3            0.898560           0.898344       ...                  0.897837   \n",
       "4            0.898847           0.898541       ...                  0.897990   \n",
       "\n",
       "   split2_train_score  split3_test_score  split3_train_score  \\\n",
       "0            0.898268           0.901137            0.897927   \n",
       "1            0.898313           0.901218            0.897979   \n",
       "2            0.898304           0.901246            0.897987   \n",
       "3            0.898536           0.901351            0.898131   \n",
       "4            0.898714           0.901606            0.898418   \n",
       "\n",
       "   split4_test_score  split4_train_score  std_fit_time  std_score_time  \\\n",
       "0           0.896861            0.898502      5.094240        0.002478   \n",
       "1           0.896917            0.898607      1.729083        0.001560   \n",
       "2           0.896930            0.898649      1.827131        0.007271   \n",
       "3           0.897157            0.898784      3.019679        0.001844   \n",
       "4           0.897482            0.898970      5.087631        0.002859   \n",
       "\n",
       "   std_test_score  std_train_score  \n",
       "0        0.001518         0.000193  \n",
       "1        0.001527         0.000204  \n",
       "2        0.001518         0.000217  \n",
       "3        0.001482         0.000216  \n",
       "4        0.001483         0.000186  \n",
       "\n",
       "[5 rows x 21 columns]"
      ]
     },
     "execution_count": 13,
     "metadata": {},
     "output_type": "execute_result"
    }
   ],
   "source": [
    "pd.DataFrame(gsearch.cv_results_).sort_values('mean_test_score')"
   ]
  },
  {
   "cell_type": "code",
   "execution_count": 10,
   "metadata": {},
   "outputs": [
    {
     "data": {
      "text/plain": [
       "({'alpha': 0.9}, 0.89871786864010128)"
      ]
     },
     "execution_count": 10,
     "metadata": {},
     "output_type": "execute_result"
    }
   ],
   "source": [
    "gsearch.best_params_, gsearch.best_score_"
   ]
  },
  {
   "cell_type": "code",
   "execution_count": 14,
   "metadata": {},
   "outputs": [
    {
     "name": "stdout",
     "output_type": "stream",
     "text": [
      "CPU times: user 17min 36s, sys: 16.5 s, total: 17min 53s\n",
      "Wall time: 11min 28s\n"
     ]
    }
   ],
   "source": [
    "%%time\n",
    "param_2 = {'alpha': [0.85, 0.9, 0.95, 1]}\n",
    "gsearch_2 = GridSearchCV(estimator=log_net, param_grid=param_2, scoring='roc_auc', iid=False, cv=5)\n",
    "gsearch_2.fit(X_train, y_train)"
   ]
  },
  {
   "cell_type": "code",
   "execution_count": 16,
   "metadata": {},
   "outputs": [
    {
     "data": {
      "text/html": [
       "<div>\n",
       "<style>\n",
       "    .dataframe thead tr:only-child th {\n",
       "        text-align: right;\n",
       "    }\n",
       "\n",
       "    .dataframe thead th {\n",
       "        text-align: left;\n",
       "    }\n",
       "\n",
       "    .dataframe tbody tr th {\n",
       "        vertical-align: top;\n",
       "    }\n",
       "</style>\n",
       "<table border=\"1\" class=\"dataframe\">\n",
       "  <thead>\n",
       "    <tr style=\"text-align: right;\">\n",
       "      <th></th>\n",
       "      <th>mean_fit_time</th>\n",
       "      <th>mean_score_time</th>\n",
       "      <th>mean_test_score</th>\n",
       "      <th>mean_train_score</th>\n",
       "      <th>param_alpha</th>\n",
       "      <th>params</th>\n",
       "      <th>rank_test_score</th>\n",
       "      <th>split0_test_score</th>\n",
       "      <th>split0_train_score</th>\n",
       "      <th>split1_test_score</th>\n",
       "      <th>...</th>\n",
       "      <th>split2_test_score</th>\n",
       "      <th>split2_train_score</th>\n",
       "      <th>split3_test_score</th>\n",
       "      <th>split3_train_score</th>\n",
       "      <th>split4_test_score</th>\n",
       "      <th>split4_train_score</th>\n",
       "      <th>std_fit_time</th>\n",
       "      <th>std_score_time</th>\n",
       "      <th>std_test_score</th>\n",
       "      <th>std_train_score</th>\n",
       "    </tr>\n",
       "  </thead>\n",
       "  <tbody>\n",
       "    <tr>\n",
       "      <th>0</th>\n",
       "      <td>34.321648</td>\n",
       "      <td>0.052253</td>\n",
       "      <td>0.898639</td>\n",
       "      <td>0.898653</td>\n",
       "      <td>0.85</td>\n",
       "      <td>{u'alpha': 0.85}</td>\n",
       "      <td>4</td>\n",
       "      <td>0.897882</td>\n",
       "      <td>0.898761</td>\n",
       "      <td>0.898476</td>\n",
       "      <td>...</td>\n",
       "      <td>0.897948</td>\n",
       "      <td>0.898659</td>\n",
       "      <td>0.901463</td>\n",
       "      <td>0.898287</td>\n",
       "      <td>0.897423</td>\n",
       "      <td>0.898975</td>\n",
       "      <td>1.158791</td>\n",
       "      <td>0.009323</td>\n",
       "      <td>0.001451</td>\n",
       "      <td>0.000226</td>\n",
       "    </tr>\n",
       "    <tr>\n",
       "      <th>1</th>\n",
       "      <td>32.090353</td>\n",
       "      <td>0.044583</td>\n",
       "      <td>0.898718</td>\n",
       "      <td>0.898723</td>\n",
       "      <td>0.9</td>\n",
       "      <td>{u'alpha': 0.9}</td>\n",
       "      <td>3</td>\n",
       "      <td>0.897969</td>\n",
       "      <td>0.898847</td>\n",
       "      <td>0.898541</td>\n",
       "      <td>...</td>\n",
       "      <td>0.897990</td>\n",
       "      <td>0.898714</td>\n",
       "      <td>0.901606</td>\n",
       "      <td>0.898418</td>\n",
       "      <td>0.897482</td>\n",
       "      <td>0.898970</td>\n",
       "      <td>1.271328</td>\n",
       "      <td>0.000490</td>\n",
       "      <td>0.001483</td>\n",
       "      <td>0.000186</td>\n",
       "    </tr>\n",
       "    <tr>\n",
       "      <th>2</th>\n",
       "      <td>31.849860</td>\n",
       "      <td>0.044192</td>\n",
       "      <td>0.898810</td>\n",
       "      <td>0.898817</td>\n",
       "      <td>0.95</td>\n",
       "      <td>{u'alpha': 0.95}</td>\n",
       "      <td>2</td>\n",
       "      <td>0.897969</td>\n",
       "      <td>0.898841</td>\n",
       "      <td>0.898631</td>\n",
       "      <td>...</td>\n",
       "      <td>0.898156</td>\n",
       "      <td>0.898915</td>\n",
       "      <td>0.901682</td>\n",
       "      <td>0.898491</td>\n",
       "      <td>0.897615</td>\n",
       "      <td>0.899073</td>\n",
       "      <td>1.382704</td>\n",
       "      <td>0.000472</td>\n",
       "      <td>0.001473</td>\n",
       "      <td>0.000192</td>\n",
       "    </tr>\n",
       "    <tr>\n",
       "      <th>3</th>\n",
       "      <td>31.012679</td>\n",
       "      <td>0.044124</td>\n",
       "      <td>0.898856</td>\n",
       "      <td>0.898863</td>\n",
       "      <td>1</td>\n",
       "      <td>{u'alpha': 1}</td>\n",
       "      <td>1</td>\n",
       "      <td>0.898092</td>\n",
       "      <td>0.898979</td>\n",
       "      <td>0.898656</td>\n",
       "      <td>...</td>\n",
       "      <td>0.898160</td>\n",
       "      <td>0.898947</td>\n",
       "      <td>0.901677</td>\n",
       "      <td>0.898462</td>\n",
       "      <td>0.897695</td>\n",
       "      <td>0.899124</td>\n",
       "      <td>1.491452</td>\n",
       "      <td>0.000542</td>\n",
       "      <td>0.001443</td>\n",
       "      <td>0.000225</td>\n",
       "    </tr>\n",
       "  </tbody>\n",
       "</table>\n",
       "<p>4 rows × 21 columns</p>\n",
       "</div>"
      ],
      "text/plain": [
       "   mean_fit_time  mean_score_time  mean_test_score  mean_train_score  \\\n",
       "0      34.321648         0.052253         0.898639          0.898653   \n",
       "1      32.090353         0.044583         0.898718          0.898723   \n",
       "2      31.849860         0.044192         0.898810          0.898817   \n",
       "3      31.012679         0.044124         0.898856          0.898863   \n",
       "\n",
       "  param_alpha            params  rank_test_score  split0_test_score  \\\n",
       "0        0.85  {u'alpha': 0.85}                4           0.897882   \n",
       "1         0.9   {u'alpha': 0.9}                3           0.897969   \n",
       "2        0.95  {u'alpha': 0.95}                2           0.897969   \n",
       "3           1     {u'alpha': 1}                1           0.898092   \n",
       "\n",
       "   split0_train_score  split1_test_score       ...         split2_test_score  \\\n",
       "0            0.898761           0.898476       ...                  0.897948   \n",
       "1            0.898847           0.898541       ...                  0.897990   \n",
       "2            0.898841           0.898631       ...                  0.898156   \n",
       "3            0.898979           0.898656       ...                  0.898160   \n",
       "\n",
       "   split2_train_score  split3_test_score  split3_train_score  \\\n",
       "0            0.898659           0.901463            0.898287   \n",
       "1            0.898714           0.901606            0.898418   \n",
       "2            0.898915           0.901682            0.898491   \n",
       "3            0.898947           0.901677            0.898462   \n",
       "\n",
       "   split4_test_score  split4_train_score  std_fit_time  std_score_time  \\\n",
       "0           0.897423            0.898975      1.158791        0.009323   \n",
       "1           0.897482            0.898970      1.271328        0.000490   \n",
       "2           0.897615            0.899073      1.382704        0.000472   \n",
       "3           0.897695            0.899124      1.491452        0.000542   \n",
       "\n",
       "   std_test_score  std_train_score  \n",
       "0        0.001451         0.000226  \n",
       "1        0.001483         0.000186  \n",
       "2        0.001473         0.000192  \n",
       "3        0.001443         0.000225  \n",
       "\n",
       "[4 rows x 21 columns]"
      ]
     },
     "execution_count": 16,
     "metadata": {},
     "output_type": "execute_result"
    }
   ],
   "source": [
    "pd.DataFrame(gsearch_2.cv_results_).sort_values('mean_test_score')"
   ]
  },
  {
   "cell_type": "code",
   "execution_count": 18,
   "metadata": {},
   "outputs": [
    {
     "data": {
      "text/plain": [
       "({'alpha': 1}, 0.8988560248351456)"
      ]
     },
     "execution_count": 18,
     "metadata": {},
     "output_type": "execute_result"
    }
   ],
   "source": [
    "gsearch_2.best_params_, gsearch_2.best_score_\n",
    "# lasso is the best"
   ]
  },
  {
   "cell_type": "code",
   "execution_count": 19,
   "metadata": {
    "collapsed": true
   },
   "outputs": [],
   "source": [
    "log_lasso = LogitNet(n_splits=5, scoring='roc_auc', n_jobs=2, random_state=RANDOM_SEED)"
   ]
  },
  {
   "cell_type": "code",
   "execution_count": 21,
   "metadata": {},
   "outputs": [
    {
     "data": {
      "text/plain": [
       "LogitNet(alpha=1, cut_point=1.0, fit_intercept=True, lambda_path=None,\n",
       "     max_iter=100000, min_lambda_ratio=0.0001, n_jobs=2, n_lambda=100,\n",
       "     n_splits=5, random_state=24, scoring='roc_auc', standardize=True,\n",
       "     tol=1e-07, verbose=False)"
      ]
     },
     "execution_count": 21,
     "metadata": {},
     "output_type": "execute_result"
    }
   ],
   "source": [
    "log_lasso.fit(X_train, y_train)"
   ]
  },
  {
   "cell_type": "code",
   "execution_count": 22,
   "metadata": {},
   "outputs": [],
   "source": [
    "train_prediction = log_lasso.predict(X_train, lamb=log_lasso.lambda_max_)\n",
    "train_predprob = log_lasso.predict_proba(X_train, lamb=log_lasso.lambda_max_)[:, 1]\n",
    "test_prediction = log_lasso.predict(X_test, lamb=log_lasso.lambda_max_)\n",
    "test_predprob = log_lasso.predict_proba(X_test, lamb=log_lasso.lambda_max_)[:, 1]"
   ]
  },
  {
   "cell_type": "code",
   "execution_count": 23,
   "metadata": {},
   "outputs": [
    {
     "name": "stdout",
     "output_type": "stream",
     "text": [
      "Accuracy (Train) : 0.833456402817\n",
      "AUC Score (Train): 0.899413845278\n",
      "Accuracy (Test): 0.832175470791\n",
      "AUC Score (Test): 0.898028824121\n",
      "\n"
     ]
    }
   ],
   "source": [
    "print \"Accuracy (Train) : {}\".format(metrics.accuracy_score(y_train, train_prediction))\n",
    "print \"AUC Score (Train): {}\".format(metrics.roc_auc_score(y_train, train_predprob))\n",
    "print \"Accuracy (Test): {}\".format(metrics.accuracy_score(y_test, test_prediction))\n",
    "print \"AUC Score (Test): {}\\n\".format(metrics.roc_auc_score(y_test, test_predprob))"
   ]
  },
  {
   "cell_type": "code",
   "execution_count": 24,
   "metadata": {},
   "outputs": [
    {
     "data": {
      "text/plain": [
       "array([ 0.02993902])"
      ]
     },
     "execution_count": 24,
     "metadata": {},
     "output_type": "execute_result"
    }
   ],
   "source": [
    "log_lasso.lambda_best_"
   ]
  }
 ],
 "metadata": {
  "anaconda-cloud": {},
  "kernelspec": {
   "display_name": "Python [conda root]",
   "language": "python",
   "name": "conda-root-py"
  },
  "language_info": {
   "codemirror_mode": {
    "name": "ipython",
    "version": 2
   },
   "file_extension": ".py",
   "mimetype": "text/x-python",
   "name": "python",
   "nbconvert_exporter": "python",
   "pygments_lexer": "ipython2",
   "version": "2.7.13"
  }
 },
 "nbformat": 4,
 "nbformat_minor": 2
}
